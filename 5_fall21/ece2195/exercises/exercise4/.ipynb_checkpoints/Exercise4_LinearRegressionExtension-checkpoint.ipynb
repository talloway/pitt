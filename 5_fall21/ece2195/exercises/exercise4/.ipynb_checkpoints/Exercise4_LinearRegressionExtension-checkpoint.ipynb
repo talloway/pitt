{
 "cells": [
  {
   "cell_type": "markdown",
   "metadata": {},
   "source": [
    "# Linear Regression\n",
    "\n",
    "### Qualitative Features & Interaction Terms\n",
    "\n",
    "#### 1-A) Use the credit data set, fit OLS linear regression model to predict credit card balance using all the following features\n",
    " - Student\n",
    " - Income\n",
    " - Limit\n",
    " - Interaction term: Income*Student\n",
    " - Interaction term: Limit*Student\n",
    "\n",
    "#### Find the p-values of all features. Are they all helpful in predicting the response? Why? \n"
   ]
  },
  {
   "cell_type": "code",
   "execution_count": 4,
   "metadata": {},
   "outputs": [
    {
     "name": "stdout",
     "output_type": "stream",
     "text": [
      "=========================================================================================\n",
      "                            coef    std err          t      P>|t|      [0.025      0.975]\n",
      "-----------------------------------------------------------------------------------------\n",
      "Intercept              -415.3863     12.436    -33.401      0.000    -439.836    -390.936\n",
      "Student[T.Yes]          235.2261     41.256      5.702      0.000     154.117     316.336\n",
      "Income                   -7.6162      0.252    -30.272      0.000      -8.111      -7.122\n",
      "Student[T.Yes]:Income    -2.5835      0.702     -3.678      0.000      -3.965      -1.202\n",
      "Limit                     0.2613      0.004     69.090      0.000       0.254       0.269\n",
      "Limit:Student[T.Yes]      0.0667      0.012      5.515      0.000       0.043       0.090\n",
      "=========================================================================================\n"
     ]
    }
   ],
   "source": [
    "import statsmodels.formula.api as smf\n",
    "from pandas import read_csv\n",
    "\n",
    "credit = read_csv('Credit2.csv')\n",
    "\n",
    "model = smf.ols('Balance ~ Student+Income+Limit+Student*Income+Limit*Student', credit)\n",
    "fitting_results = model.fit()\n",
    "\n",
    "print(fitting_results.summary().tables[1])"
   ]
  },
  {
   "cell_type": "markdown",
   "metadata": {},
   "source": [
    "**(AP)**: It seems that all of the features are helpful in predicting the response, since all of the p-values are very low. In addition, none of the 95% confidence intervals contain 0. "
   ]
  },
  {
   "cell_type": "markdown",
   "metadata": {},
   "source": [
    "#### 1-B) Using sklearn library, find the test $R^2$ score for estimating the balance from features (Income, Limit, StudentEncode) using linear regression model. The StudentEncode is the binary feature that maps Student status to a numerical value ('yes' to 1 and 'No' to 0). \n",
    "- Set random state to zero in train test split\n"
   ]
  },
  {
   "cell_type": "code",
   "execution_count": 5,
   "metadata": {},
   "outputs": [
    {
     "name": "stdout",
     "output_type": "stream",
     "text": [
      "R^2 score: 0.95\n"
     ]
    }
   ],
   "source": [
    "import pandas as pd\n",
    "import numpy as np\n",
    "from sklearn.model_selection import train_test_split\n",
    "from sklearn.linear_model import LinearRegression\n",
    "from sklearn.metrics import r2_score\n",
    "\n",
    "credit = read_csv('Credit2.csv')\n",
    "credit['StudentEncode'] = credit.Student.map({'No': 0, 'Yes': 1})\n",
    "\n",
    "x = credit[['Income', 'Limit', 'StudentEncode']]\n",
    "y = credit['Balance']\n",
    "\n",
    "X_train, X_test, Y_train, Y_test = train_test_split(x, y, random_state=0)\n",
    "\n",
    "model = LinearRegression().fit(X_train, Y_train)\n",
    "pred = model.predict(X_test)\n",
    "\n",
    "print('R^2 score: %.2f' % r2_score(pred, Y_test))"
   ]
  },
  {
   "cell_type": "markdown",
   "metadata": {},
   "source": [
    "#### 1-C) Repeat the above question after adding to the model the two interaction terms: (1) (Income x StudentEncode) and (2) (Limit x StudentEncode)\n",
    "\n",
    "   "
   ]
  },
  {
   "cell_type": "code",
   "execution_count": 6,
   "metadata": {},
   "outputs": [
    {
     "name": "stdout",
     "output_type": "stream",
     "text": [
      "      Income  Limit  StudentEncode  IncomexStudentEncode  LimitxStudentEncode\n",
      "0     14.891   3606              0                 0.000                    0\n",
      "1    106.025   6645              1               106.025                 6645\n",
      "2    104.593   7075              0                 0.000                    0\n",
      "3    148.924   9504              0                 0.000                    0\n",
      "4     55.882   4897              0                 0.000                    0\n",
      "..       ...    ...            ...                   ...                  ...\n",
      "395   12.096   4100              0                 0.000                    0\n",
      "396   13.364   3838              0                 0.000                    0\n",
      "397   57.872   4171              0                 0.000                    0\n",
      "398   37.728   2525              0                 0.000                    0\n",
      "399   18.701   5524              0                 0.000                    0\n",
      "\n",
      "[400 rows x 5 columns]\n",
      "R^2 score: 0.95\n"
     ]
    }
   ],
   "source": [
    "credit['IncomexStudentEncode'] = credit['Income'] * credit['StudentEncode']\n",
    "credit['LimitxStudentEncode'] = credit['Limit'] * credit['StudentEncode']\n",
    "\n",
    "x = credit[['Income', 'Limit', 'StudentEncode', 'IncomexStudentEncode', 'LimitxStudentEncode']]\n",
    "y = credit['Balance']\n",
    "\n",
    "X_train, X_test, Y_train, Y_test = train_test_split(x, y, random_state=0)\n",
    "\n",
    "model = LinearRegression().fit(X_train, Y_train)\n",
    "pred = model.predict(X_test)\n",
    "\n",
    "print('R^2 score: %.2f' % r2_score(pred, Y_test))"
   ]
  },
  {
   "cell_type": "markdown",
   "metadata": {
    "collapsed": true
   },
   "source": [
    "### Polynomial Regression\n",
    "\n",
    "     Set random_state= 0 in train_test_split in all the questions below.\n",
    "\n",
    "#### 2-A) Use the Auto dataset, \n",
    "  - (i) Find the test $R^2$ metric of a linear regression model that predicts the miles per gallon (mpg) from the horsepower.\n",
    "\n",
    "  - (ii) Use polynomial regression to include both the horsepower feature and $(horsepower)^2$ in the regression model to predict the mpg. Find the test $R^2$ metric in this case\n",
    "\n",
    "Hint: You can use [numpy.concatenate](https://docs.scipy.org/doc/numpy-1.13.0/reference/generated/numpy.concatenate.html). For example to add to an array U a column vector $W^2$, we can use X=np.concatenate((U,W**2),axis=1)"
   ]
  },
  {
   "cell_type": "code",
   "execution_count": 7,
   "metadata": {},
   "outputs": [
    {
     "name": "stdout",
     "output_type": "stream",
     "text": [
      "R^2 score: 0.60\n"
     ]
    }
   ],
   "source": [
    "from pandas import read_csv\n",
    "from sklearn.linear_model import LinearRegression\n",
    "from sklearn.model_selection import train_test_split\n",
    "import numpy as np\n",
    "\n",
    "AutoData=read_csv('Auto_modify.csv') # read the data\n",
    "\n",
    "x = AutoData['horsepower']\n",
    "y = AutoData['mpg']\n",
    "\n",
    "X_train, X_test, Y_train, Y_test = train_test_split(x, y, random_state=0)\n",
    "\n",
    "X_train = np.array(X_train).reshape(-1, 1)\n",
    "X_test = np.array(X_train).reshape(-1, 1)\n",
    "Y_train = np.array(Y_train).reshape(-1, 1)\n",
    "Y_test = np.array(Y_train).reshape(-1, 1)\n",
    "\n",
    "model = LinearRegression().fit(X_train, Y_train)\n",
    "pred = model.predict(X_test)\n",
    "\n",
    "print('R^2 score: %.2f' % r2_score(Y_test, pred))"
   ]
  },
  {
   "cell_type": "code",
   "execution_count": 8,
   "metadata": {},
   "outputs": [
    {
     "name": "stdout",
     "output_type": "stream",
     "text": [
      "R^2 score: 0.73\n"
     ]
    }
   ],
   "source": [
    "AutoData['horsepower_sq'] = AutoData['horsepower'] ** 2\n",
    "\n",
    "x = AutoData[['horsepower', 'horsepower_sq']]\n",
    "y = AutoData['mpg']\n",
    "\n",
    "X_train, X_test, Y_train, Y_test = train_test_split(x, y, random_state=0)\n",
    "\n",
    "model = LinearRegression().fit(X_train, Y_train)\n",
    "pred = model.predict(X_test)\n",
    "\n",
    "print('R^2 score: %.2f' % r2_score(Y_test, pred))"
   ]
  },
  {
   "cell_type": "markdown",
   "metadata": {},
   "source": [
    "#### 2-B) With the same auto dataset, use KNN regression with K=7, to fit a model that predicts miles per gallon(mpg) in the following cases:\n",
    "\n",
    "- One feature: Horsepower only\n",
    "\n",
    "- Two features: horsepower and $(horsepower)^2$ \n",
    "\n",
    "#### Use MinMax feaures scaling. Find the $R^2$ metric in each of the above cases. Comparing KNN with linear regression, which model performs better? How does the performance change by adding the quadratic feature?\n",
    "\n",
    "\n"
   ]
  },
  {
   "cell_type": "code",
   "execution_count": 11,
   "metadata": {},
   "outputs": [
    {
     "name": "stdout",
     "output_type": "stream",
     "text": [
      "R^2 score: 0.66\n"
     ]
    }
   ],
   "source": [
    "from sklearn import neighbors\n",
    "from sklearn import preprocessing\n",
    "\n",
    "k = 7\n",
    "knn = neighbors.KNeighborsRegressor(n_neighbors=k)\n",
    "\n",
    "x = AutoData['horsepower']\n",
    "y = AutoData['mpg']\n",
    "\n",
    "X_train, X_test, Y_train, Y_test = train_test_split(x, y, random_state=0)\n",
    "X_train = np.array(X_train).reshape(-1, 1)\n",
    "X_test = np.array(X_test).reshape(-1, 1)\n",
    "\n",
    "scaler = preprocessing.MinMaxScaler().fit(X_train)\n",
    "\n",
    "X_train_t = scaler.transform(X_train)\n",
    "X_test_t = scaler.transform(X_test)\n",
    "\n",
    "knn.fit(X_train_t, Y_train)\n",
    "pred = knn.predict(X_test_t)\n",
    "\n",
    "print('R^2 score: %.2f' % r2_score(Y_test, pred))"
   ]
  },
  {
   "cell_type": "code",
   "execution_count": 10,
   "metadata": {},
   "outputs": [
    {
     "name": "stdout",
     "output_type": "stream",
     "text": [
      "R^2 score: 0.67\n"
     ]
    }
   ],
   "source": [
    "x = AutoData[['horsepower', 'horsepower_sq']]\n",
    "y = AutoData['mpg']\n",
    "\n",
    "X_train, X_test, Y_train, Y_test = train_test_split(x, y, random_state=0)\n",
    "\n",
    "scaler = preprocessing.StandardScaler().fit(X_train)\n",
    "\n",
    "X_train_t = scaler.transform(X_train)\n",
    "X_test_t = scaler.transform(X_test)\n",
    "\n",
    "knn.fit(X_train_t, Y_train)\n",
    "pred = knn.predict(X_test_t)\n",
    "\n",
    "print('R^2 score: %.2f' % r2_score(Y_test, pred))"
   ]
  },
  {
   "cell_type": "markdown",
   "metadata": {
    "collapsed": true
   },
   "source": [
    "**(AP)**: KNN seems to be better for this problem than regular linear regression. Adding the quadratic term does not seem to change the R^2 score."
   ]
  },
  {
   "cell_type": "code",
   "execution_count": null,
   "metadata": {},
   "outputs": [],
   "source": []
  }
 ],
 "metadata": {
  "kernelspec": {
   "display_name": "Python 3",
   "language": "python",
   "name": "python3"
  },
  "language_info": {
   "codemirror_mode": {
    "name": "ipython",
    "version": 3
   },
   "file_extension": ".py",
   "mimetype": "text/x-python",
   "name": "python",
   "nbconvert_exporter": "python",
   "pygments_lexer": "ipython3",
   "version": "3.8.3"
  }
 },
 "nbformat": 4,
 "nbformat_minor": 2
}
