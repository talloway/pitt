{
 "cells": [
  {
   "cell_type": "markdown",
   "metadata": {},
   "source": [
    "<div style=\"text-align: center;\">\n",
    "<h2>2221 ECE 2195 SEC1305 SPECIAL TOPICS: COMPUTERS</h2>\n",
    "<h1 style=\"font-size: 250%;\">Assignment 1</h1>\n",
    "<h3>Total points: 100 </h3>\n",
    "</div>"
   ]
  },
  {
   "cell_type": "code",
   "execution_count": 1,
   "metadata": {},
   "outputs": [],
   "source": [
    "# Please type your information inside the double quotes\n",
    "firstName = \"Avery\"\n",
    "lastName = \"Peiffer\"\n",
    "pittID = \"aep65\""
   ]
  },
  {
   "cell_type": "code",
   "execution_count": 2,
   "metadata": {},
   "outputs": [],
   "source": [
    "# Libraries \n",
    "%matplotlib inline\n",
    "import numpy as np \n",
    "import pandas as pd\n",
    "import seaborn as sns\n",
    "import statsmodels.api as sm\n",
    "import matplotlib.pyplot as plt\n",
    "from IPython.display import Image\n",
    "import statsmodels.formula.api as smf\n",
    "from sklearn.datasets import load_boston\n",
    "from sklearn.linear_model import LinearRegression, Ridge, Lasso\n",
    "from sklearn.model_selection import train_test_split\n",
    "from sklearn.metrics import r2_score\n",
    "from sklearn import datasets, preprocessing"
   ]
  },
  {
   "cell_type": "markdown",
   "metadata": {},
   "source": [
    "### Problem 1. K-nearest neighbors (10 pts) \n",
    "\n",
    "In this problem, do not use build-in  functions for classification (i.e. do not use sklearn.neighbors). You will be required to do the calculations and make the predictions based on your understanding of how the technique works. You can use pen and paper to do the calculations (and upload image of your solutions) or write the code of detailed calculations and prediction.\n",
    "\n",
    "The table below provides a training data set containing six observations, three predictors, and one qualitative response variable.\n",
    "Suppose we wish to use this dataset to make a prediction for Y when X1 = -1, X2 = 1, and X3 = 2 using K-nearest neighbors."
   ]
  },
  {
   "cell_type": "markdown",
   "metadata": {},
   "source": [
    "|Obs.|X1|X2|X3|Y|\n",
    "|:-|:-:|:-:|:-:|:-:|\n",
    "|1|0 |3|0|Green|\n",
    "|2|2 |0|0|Green|\n",
    "|3|0 |1|3|Green|\n",
    "|4|0 |1|2|Red|\n",
    "|5|-1|0|1|Red|\n",
    "|6|1 |1|1|Green|"
   ]
  },
  {
   "cell_type": "markdown",
   "metadata": {},
   "source": [
    "**Problem 1-1 (3 pts)** Compute the Euclidean distance between each observation and the test point. Your output should be a vector, where each number in the vector represents the distance between the observations and the test point. You can also show your results in a table, which may looks like this (t-point is the test point):\n",
    "\n",
    "|Obs.|1|2|3|4|5|6|t-point|\n",
    "|:-:|:-:|:-:|:-:|:-:|:-:|:-:|:-:|\n",
    "|1||||||||\n",
    "|2||||||||\n",
    "|3||||||||\n",
    "|4||||||||\n",
    "|5||||||||\n",
    "|6||||||||"
   ]
  },
  {
   "cell_type": "markdown",
   "metadata": {},
   "source": [
    "**Answer here**\n",
    "\n",
    "\n",
    "|Obs.|1|2|3|4|5|6|t-point|\n",
    "|:-:|:-:|:-:|:-:|:-:|:-:|:-:|:-:|\n",
    "|1|0|3.61|3.61|2.83|3.32|2.45|3|\n",
    "|2|3.61|0|3.74|3|3.16|1.73|3.74|\n",
    "|3|3.61|3.74|0|1|2.45|2.24|1.41|\n",
    "|4|2.83|3|1|0|1.73|1.41|1|\n",
    "|5|3.32|3.16|2.45|1.73|0|1.73|1.41|\n",
    "|6|2.45|1.73|2.24|1.41|1.73|0|1.73|"
   ]
  },
  {
   "cell_type": "markdown",
   "metadata": {},
   "source": [
    "**Problem 1-2 (2 pts)** What is the prediction with K = 1? "
   ]
  },
  {
   "cell_type": "markdown",
   "metadata": {},
   "source": [
    "4 is the nearest neighbor, so the prediction is red.\n"
   ]
  },
  {
   "cell_type": "markdown",
   "metadata": {},
   "source": [
    "**Problem 1-3 (3 pts)** What is the prediction with K = 3? And K = 5? "
   ]
  },
  {
   "cell_type": "markdown",
   "metadata": {},
   "source": [
    "* K = 3: 3, 4, and 5 are the 3 nearest neighbors, and the votes are [Green, Red, Red]. Overall, the prediction is Red.\n",
    "* K = 5: 1, 3, 4, 5, and 6 are the 5 nearest neighbors, and the votes are [Green, Green, Red, Red, Green]. Overall, the prediction is Green.\n"
   ]
  },
  {
   "cell_type": "markdown",
   "metadata": {},
   "source": [
    "**Problem 1-4 (2 pts)**  For KNN classification, discuss the impact of choosing the parameter K on the model performance. Highlight the different trade-offs."
   ]
  },
  {
   "cell_type": "markdown",
   "metadata": {},
   "source": [
    "**Answer here**"
   ]
  },
  {
   "cell_type": "markdown",
   "metadata": {},
   "source": [
    "The choice of k has a high impact on the model's performance. A lower value of k results in a more complex model, with higher variance and lower bias. Models with lower values of k are more likely to be overfitting because they are not capturing the larger trends within the data. Similarly, a higher value of k can result in a more simple model, with lower variance and higher bias. Such a model is more likely to be underfitting because it is not capturing the underlying variability in the data."
   ]
  },
  {
   "cell_type": "markdown",
   "metadata": {},
   "source": [
    "### Problem 2. Linear regression calculations of coefficients and $R^2$ (15 pts)\n",
    "\n",
    "- You should not use built-in functions for linear regression in this question's parts (2-1) and (2-2). Do the calculations manually or explicitly by code.\n",
    "- Feel free to select any type of submission you are comfortable with (Since it may require some mathematical formula and symbols; MS Word, or scanned version of your writing will be fine) "
   ]
  },
  {
   "cell_type": "markdown",
   "metadata": {},
   "source": [
    "**Problem 2-1 (5 pts)** Find the least squared fit of a linear regression model using the following traning data. Coefficients are obtained using the formulas: \n",
    "\\begin{array} \\\\\n",
    "    \\hat{\\beta}_0 = \\bar{y} - \\hat{\\beta}_1\\bar{x}, \\\\ \\\\\n",
    "    \\hat{\\beta}_1 = \\frac{\\sum_{i=1}^n y_i x_i - \\bar{y}\\sum_{i=1}^n x_i}{\\sum_{i=1}^n x^2 - \\bar{x}\\sum_{i=1}^n x_i} \\\\ \\\\\n",
    "    \\text{where }\\bar{x} = \\frac{\\sum_{i=1}^y x_i}{n} \\text{ and } \\bar{y} = \\frac{\\sum_{i=1}^y y_i}{n} \\\\\n",
    "\\end{array}"
   ]
  },
  {
   "cell_type": "markdown",
   "metadata": {},
   "source": [
    "|Smoke index(x)|Lung cancer mortality index(y)|\n",
    "|:-:|:-:|\n",
    "|127|115|\n",
    "|121|128|\n",
    "|94|128|\n",
    "|126|156|\n",
    "|102|101|\n",
    "|111|128|\n",
    "|95|115|\n",
    "|89|105|\n",
    "|101|87|"
   ]
  },
  {
   "cell_type": "markdown",
   "metadata": {},
   "source": [
    "**Answer here**\n",
    "\n",
    "(Calculations attached)\n",
    "\n",
    "B_0 = 37.73\n",
    "\n",
    "B_1 = 0.749"
   ]
  },
  {
   "cell_type": "markdown",
   "metadata": {},
   "source": [
    "**Problem 2-2 (6 pts)** Given the test data below, compute the TSS, RSS and the R-squared metric of the fitted model."
   ]
  },
  {
   "cell_type": "markdown",
   "metadata": {},
   "source": [
    "|Xi|Yi|\n",
    "|:-:|:-:|\n",
    "|90|103|\n",
    "|106|131|\n",
    "|105|85|\n",
    "|115|99|\n",
    "|113|144|"
   ]
  },
  {
   "cell_type": "markdown",
   "metadata": {},
   "source": [
    "**Answer here**\n",
    "\n",
    "(Calculations attached)\n",
    "\n",
    "RSS = 2267.411\n",
    "\n",
    "TSS = 2363.2\n",
    "\n",
    "R^2 = 0.0405"
   ]
  },
  {
   "cell_type": "markdown",
   "metadata": {},
   "source": [
    "**Problem 2-3 (4 pts)** Check your calculations by finding the coefficients and the $R^2$ score using scikit-learn library (from sklearn.linear_model import LinearRegression)."
   ]
  },
  {
   "cell_type": "code",
   "execution_count": 3,
   "metadata": {},
   "outputs": [
    {
     "name": "stdout",
     "output_type": "stream",
     "text": [
      "B_1: [[0.7500998]].\n",
      "B_0: [37.6003992].\n",
      "R^2 score: 0.0406.\n"
     ]
    }
   ],
   "source": [
    "X_train = np.array([127, 121, 94, 126, 102, 111, 95, 89, 101])\n",
    "Y_train = np.array([115, 128, 128, 156, 101, 128, 115, 105, 87])\n",
    "X_test = np.array([90, 106, 105, 115, 113])\n",
    "Y_test = np.array([103, 131, 85, 99, 144])\n",
    "\n",
    "linreg = LinearRegression().fit(X_train.reshape(-1, 1), Y_train.reshape(-1, 1))\n",
    "print(f'B_1: {linreg.coef_}.')\n",
    "print(f'B_0: {linreg.intercept_}.')\n",
    "\n",
    "pred = linreg.predict(X_test.reshape(-1, 1))\n",
    "print('R^2 score: %.4f.' % r2_score(Y_test, pred))"
   ]
  },
  {
   "cell_type": "markdown",
   "metadata": {},
   "source": [
    "### Problem 3. Linear Regression Optimization with Gradient Descent (15 pts)\n",
    "\n",
    "In this question, you will create a synthetic dataset, then use gradient descent to find the coefficients' estimates. We will see how the RSS changes with iterations of the gradient descent."
   ]
  },
  {
   "cell_type": "markdown",
   "metadata": {},
   "source": [
    "**Problem 3-1 (2 pts)** Create a label $y$, which is related to a feature $X$, such that $y=10 + 5 X + \\epsilon$. $\\epsilon$ is a Gaussian noise (normal distribution) with mean 0 and unit variance. X is generated from a uniform distribution as given below. The number of observations to be generated is 100."
   ]
  },
  {
   "cell_type": "code",
   "execution_count": 4,
   "metadata": {},
   "outputs": [
    {
     "name": "stdout",
     "output_type": "stream",
     "text": [
      "(100, 1)\n"
     ]
    }
   ],
   "source": [
    "NumberObservations = 100\n",
    "minVal = 1\n",
    "maxVal = 20\n",
    "X = np.random.uniform(minVal,maxVal,(NumberObservations,1))\n",
    "print(X.shape)\n",
    "\n",
    "Y = np.zeros(100)\n",
    "for i in range(0, NumberObservations):\n",
    "    error = np.random.normal()\n",
    "    Y[i] = 10 + 5*X[i] + error"
   ]
  },
  {
   "cell_type": "markdown",
   "metadata": {},
   "source": [
    "**Problem 3-2 (10 pts)** Now assume you do not know the actual relationship between X and y, use the generated noisy data and find the coefficients of a linear regression model obtained by gradient descent. Do not use any built-in functions for gradient descent. Write the code based on your understanding of the algorithm. The cost function is the RSS, set the number of iterations to 10000 and the learning rate to 0.00001.\n",
    "1. Print the estimated coefficients of the model obtained using gradient descent. (4 pts)\n",
    "2. Record the RSS in each iteration of the gradient descent and plot the last 6000 values of the RSS. Comment on figure. (3 pts)\n",
    "3. Comment on how close the obtained coefficients are from the actual ones. (3 pts)"
   ]
  },
  {
   "cell_type": "code",
   "execution_count": 5,
   "metadata": {},
   "outputs": [],
   "source": [
    "def gradient_descent(X, Y):\n",
    "    n = 10000\n",
    "    lr = 0.00001\n",
    "\n",
    "    y_bar = np.mean(Y)\n",
    "    x_bar = np.mean(X)\n",
    "\n",
    "    # Initialize values for B0 and B1\n",
    "    rand_multiplier = 30\n",
    "    b_0 = rand_multiplier * np.random.rand()\n",
    "    b_1 = rand_multiplier * np.random.rand()\n",
    "\n",
    "    rss_its = []\n",
    "    rss_arr = []\n",
    "\n",
    "    for i in range(0, n):\n",
    "        b_0_sum = 0\n",
    "        b_1_sum = 0\n",
    "        running_rss = 0\n",
    "\n",
    "        for j in range(0, len(X)):\n",
    "            inside_deriv = b_0 + b_1*X[j] - Y[j]\n",
    "            b_0_sum += inside_deriv\n",
    "            b_1_sum += X[j]*inside_deriv\n",
    "            running_rss += inside_deriv ** 2\n",
    "\n",
    "        if i > n - 6000:\n",
    "            rss_its.append(i)\n",
    "            rss_arr.append(running_rss)\n",
    "\n",
    "        deriv_b0 = 2 * b_0_sum\n",
    "        deriv_b1 = 2 * b_1_sum\n",
    "\n",
    "        b_0 = b_0 - lr * deriv_b0\n",
    "        b_1 = b_1 - lr * deriv_b1\n",
    "\n",
    "    print(f'B_0 is estimated to be: {b_0}.')\n",
    "    print(f'B_1 is estimated to be: {b_1}.')\n",
    "\n",
    "    plt.scatter(rss_its, rss_arr)\n",
    "    plt.xlabel('Gradient descent iteration')\n",
    "    plt.ylabel('RSS value')\n",
    "    plt.title('RSS values from 4000-10000 iterations of gradient descent')\n",
    "    plt.show()"
   ]
  },
  {
   "cell_type": "code",
   "execution_count": 6,
   "metadata": {},
   "outputs": [
    {
     "name": "stdout",
     "output_type": "stream",
     "text": [
      "B_0 is estimated to be: [9.59479379].\n",
      "B_1 is estimated to be: [5.02561534].\n"
     ]
    },
    {
     "data": {
      "image/png": "[encoded data removed]",
      "text/plain": [
       "<Figure size 432x288 with 1 Axes>"
      ]
     },
     "metadata": {
      "needs_background": "light"
     },
     "output_type": "display_data"
    }
   ],
   "source": [
    "gradient_descent(X, Y)"
   ]
  },
  {
   "cell_type": "markdown",
   "metadata": {},
   "source": [
    "**Problem 3-3 (3 pts)** Please repeat P3-1 and P3-2 but increase the standard deviation of the error to 100. Comment on the output coefficient estimates."
   ]
  },
  {
   "cell_type": "code",
   "execution_count": 7,
   "metadata": {},
   "outputs": [
    {
     "name": "stdout",
     "output_type": "stream",
     "text": [
      "B_0 is estimated to be: [20.71159802].\n",
      "B_1 is estimated to be: [3.53853388].\n"
     ]
    },
    {
     "data": {
      "image/png": "[encoded data removed]",
      "text/plain": [
       "<Figure size 432x288 with 1 Axes>"
      ]
     },
     "metadata": {
      "needs_background": "light"
     },
     "output_type": "display_data"
    }
   ],
   "source": [
    "Y = np.zeros(100)\n",
    "for i in range(0, NumberObservations):\n",
    "    error = np.random.normal(scale=100)\n",
    "    Y[i] = 10 + 5*X[i] + error\n",
    "    \n",
    "gradient_descent(X, Y)"
   ]
  },
  {
   "cell_type": "markdown",
   "metadata": {},
   "source": [
    "**Your comment on the output coefficient estimates here**\n"
   ]
  },
  {
   "cell_type": "markdown",
   "metadata": {},
   "source": [
    "The increased variance in the error has made it more difficult to estimate the true coefficients. It seems that the intercept term is affected more than the slope term, which makes sense as well. The increased variance should make it harder to estimate the start of the line, but the general trend of the line should remain somewhat similar even with increased variance."
   ]
  },
  {
   "cell_type": "markdown",
   "metadata": {},
   "source": [
    "### Problem 4. This question involves the use of multiple linear regression on the Boston dataset (33 pts)\n",
    "\n",
    "In this part, you are supposed to download and analyze **\"Boston House Prices\"** dataset. (Using \"from sklearn.datasets import load_boston\" to import dataset)\n",
    "\n",
    "- Whole dataset contains 14 attributes (13 numeric/categorical predictive and 1 target value)\n",
    "- The target value is MEDV, which means the median value of owner-occupied homes in $1000's\n",
    "\n",
    "Use a code below to load the dataset: "
   ]
  },
  {
   "cell_type": "code",
   "execution_count": 8,
   "metadata": {},
   "outputs": [
    {
     "name": "stdout",
     "output_type": "stream",
     "text": [
      "dict_keys(['data', 'target', 'feature_names', 'DESCR', 'filename'])\n"
     ]
    }
   ],
   "source": [
    "dataset = load_boston()\n",
    "print(dataset.keys())"
   ]
  },
  {
   "cell_type": "markdown",
   "metadata": {},
   "source": [
    "Use the code below to print and read the description of the dataset then answer the following questions. \n"
   ]
  },
  {
   "cell_type": "code",
   "execution_count": 9,
   "metadata": {},
   "outputs": [
    {
     "name": "stdout",
     "output_type": "stream",
     "text": [
      ".. _boston_dataset:\n",
      "\n",
      "Boston house prices dataset\n",
      "---------------------------\n",
      "\n",
      "**Data Set Characteristics:**  \n",
      "\n",
      "    :Number of Instances: 506 \n",
      "\n",
      "    :Number of Attributes: 13 numeric/categorical predictive. Median Value (attribute 14) is usually the target.\n",
      "\n",
      "    :Attribute Information (in order):\n",
      "        - CRIM     per capita crime rate by town\n",
      "        - ZN       proportion of residential land zoned for lots over 25,000 sq.ft.\n",
      "        - INDUS    proportion of non-retail business acres per town\n",
      "        - CHAS     Charles River dummy variable (= 1 if tract bounds river; 0 otherwise)\n",
      "        - NOX      nitric oxides concentration (parts per 10 million)\n",
      "        - RM       average number of rooms per dwelling\n",
      "        - AGE      proportion of owner-occupied units built prior to 1940\n",
      "        - DIS      weighted distances to five Boston employment centres\n",
      "        - RAD      index of accessibility to radial highways\n",
      "        - TAX      full-value property-tax rate per $10,000\n",
      "        - PTRATIO  pupil-teacher ratio by town\n",
      "        - B        1000(Bk - 0.63)^2 where Bk is the proportion of blacks by town\n",
      "        - LSTAT    % lower status of the population\n",
      "        - MEDV     Median value of owner-occupied homes in $1000's\n",
      "\n",
      "    :Missing Attribute Values: None\n",
      "\n",
      "    :Creator: Harrison, D. and Rubinfeld, D.L.\n",
      "\n",
      "This is a copy of UCI ML housing dataset.\n",
      "https://archive.ics.uci.edu/ml/machine-learning-databases/housing/\n",
      "\n",
      "\n",
      "This dataset was taken from the StatLib library which is maintained at Carnegie Mellon University.\n",
      "\n",
      "The Boston house-price data of Harrison, D. and Rubinfeld, D.L. 'Hedonic\n",
      "prices and the demand for clean air', J. Environ. Economics & Management,\n",
      "vol.5, 81-102, 1978.   Used in Belsley, Kuh & Welsch, 'Regression diagnostics\n",
      "...', Wiley, 1980.   N.B. Various transformations are used in the table on\n",
      "pages 244-261 of the latter.\n",
      "\n",
      "The Boston house-price data has been used in many machine learning papers that address regression\n",
      "problems.   \n",
      "     \n",
      ".. topic:: References\n",
      "\n",
      "   - Belsley, Kuh & Welsch, 'Regression diagnostics: Identifying Influential Data and Sources of Collinearity', Wiley, 1980. 244-261.\n",
      "   - Quinlan,R. (1993). Combining Instance-Based and Model-Based Learning. In Proceedings on the Tenth International Conference of Machine Learning, 236-243, University of Massachusetts, Amherst. Morgan Kaufmann.\n",
      "\n"
     ]
    }
   ],
   "source": [
    "print(dataset.DESCR)"
   ]
  },
  {
   "cell_type": "markdown",
   "metadata": {},
   "source": [
    "**Problem 4-1 (5 pts)** Generate descriptive statistics using DataFrame. (Hint: use \"DataFrame.describe\" method)\n",
    "\n",
    "Follow two steps to answer questions:\n",
    "\n",
    "- Create a DataFrame using \"data\" from the dataset with columns using \"feature_names\".\n",
    "- Generate descriptive statistics \n",
    "\n",
    "**Please answer the following questions:** \n",
    "\n",
    "1. Which feature has the lowest range (minimum and maximum value)?\n",
    "\n",
    "2. Which feature has the highest mean?  \n",
    "\n",
    "3. Which feature has a highest variance? "
   ]
  },
  {
   "cell_type": "code",
   "execution_count": 10,
   "metadata": {},
   "outputs": [
    {
     "data": {
      "text/html": [
       "<div>\n",
       "<style scoped>\n",
       "    .dataframe tbody tr th:only-of-type {\n",
       "        vertical-align: middle;\n",
       "    }\n",
       "\n",
       "    .dataframe tbody tr th {\n",
       "        vertical-align: top;\n",
       "    }\n",
       "\n",
       "    .dataframe thead th {\n",
       "        text-align: right;\n",
       "    }\n",
       "</style>\n",
       "<table border=\"1\" class=\"dataframe\">\n",
       "  <thead>\n",
       "    <tr style=\"text-align: right;\">\n",
       "      <th></th>\n",
       "      <th>CRIM</th>\n",
       "      <th>ZN</th>\n",
       "      <th>INDUS</th>\n",
       "      <th>CHAS</th>\n",
       "      <th>NOX</th>\n",
       "      <th>RM</th>\n",
       "      <th>AGE</th>\n",
       "      <th>DIS</th>\n",
       "      <th>RAD</th>\n",
       "      <th>TAX</th>\n",
       "      <th>PTRATIO</th>\n",
       "      <th>B</th>\n",
       "      <th>LSTAT</th>\n",
       "    </tr>\n",
       "  </thead>\n",
       "  <tbody>\n",
       "    <tr>\n",
       "      <th>count</th>\n",
       "      <td>506.000000</td>\n",
       "      <td>506.000000</td>\n",
       "      <td>506.000000</td>\n",
       "      <td>506.000000</td>\n",
       "      <td>506.000000</td>\n",
       "      <td>506.000000</td>\n",
       "      <td>506.000000</td>\n",
       "      <td>506.000000</td>\n",
       "      <td>506.000000</td>\n",
       "      <td>506.000000</td>\n",
       "      <td>506.000000</td>\n",
       "      <td>506.000000</td>\n",
       "      <td>506.000000</td>\n",
       "    </tr>\n",
       "    <tr>\n",
       "      <th>mean</th>\n",
       "      <td>3.613524</td>\n",
       "      <td>11.363636</td>\n",
       "      <td>11.136779</td>\n",
       "      <td>0.069170</td>\n",
       "      <td>0.554695</td>\n",
       "      <td>6.284634</td>\n",
       "      <td>68.574901</td>\n",
       "      <td>3.795043</td>\n",
       "      <td>9.549407</td>\n",
       "      <td>408.237154</td>\n",
       "      <td>18.455534</td>\n",
       "      <td>356.674032</td>\n",
       "      <td>12.653063</td>\n",
       "    </tr>\n",
       "    <tr>\n",
       "      <th>std</th>\n",
       "      <td>8.601545</td>\n",
       "      <td>23.322453</td>\n",
       "      <td>6.860353</td>\n",
       "      <td>0.253994</td>\n",
       "      <td>0.115878</td>\n",
       "      <td>0.702617</td>\n",
       "      <td>28.148861</td>\n",
       "      <td>2.105710</td>\n",
       "      <td>8.707259</td>\n",
       "      <td>168.537116</td>\n",
       "      <td>2.164946</td>\n",
       "      <td>91.294864</td>\n",
       "      <td>7.141062</td>\n",
       "    </tr>\n",
       "    <tr>\n",
       "      <th>min</th>\n",
       "      <td>0.006320</td>\n",
       "      <td>0.000000</td>\n",
       "      <td>0.460000</td>\n",
       "      <td>0.000000</td>\n",
       "      <td>0.385000</td>\n",
       "      <td>3.561000</td>\n",
       "      <td>2.900000</td>\n",
       "      <td>1.129600</td>\n",
       "      <td>1.000000</td>\n",
       "      <td>187.000000</td>\n",
       "      <td>12.600000</td>\n",
       "      <td>0.320000</td>\n",
       "      <td>1.730000</td>\n",
       "    </tr>\n",
       "    <tr>\n",
       "      <th>25%</th>\n",
       "      <td>0.082045</td>\n",
       "      <td>0.000000</td>\n",
       "      <td>5.190000</td>\n",
       "      <td>0.000000</td>\n",
       "      <td>0.449000</td>\n",
       "      <td>5.885500</td>\n",
       "      <td>45.025000</td>\n",
       "      <td>2.100175</td>\n",
       "      <td>4.000000</td>\n",
       "      <td>279.000000</td>\n",
       "      <td>17.400000</td>\n",
       "      <td>375.377500</td>\n",
       "      <td>6.950000</td>\n",
       "    </tr>\n",
       "    <tr>\n",
       "      <th>50%</th>\n",
       "      <td>0.256510</td>\n",
       "      <td>0.000000</td>\n",
       "      <td>9.690000</td>\n",
       "      <td>0.000000</td>\n",
       "      <td>0.538000</td>\n",
       "      <td>6.208500</td>\n",
       "      <td>77.500000</td>\n",
       "      <td>3.207450</td>\n",
       "      <td>5.000000</td>\n",
       "      <td>330.000000</td>\n",
       "      <td>19.050000</td>\n",
       "      <td>391.440000</td>\n",
       "      <td>11.360000</td>\n",
       "    </tr>\n",
       "    <tr>\n",
       "      <th>75%</th>\n",
       "      <td>3.677083</td>\n",
       "      <td>12.500000</td>\n",
       "      <td>18.100000</td>\n",
       "      <td>0.000000</td>\n",
       "      <td>0.624000</td>\n",
       "      <td>6.623500</td>\n",
       "      <td>94.075000</td>\n",
       "      <td>5.188425</td>\n",
       "      <td>24.000000</td>\n",
       "      <td>666.000000</td>\n",
       "      <td>20.200000</td>\n",
       "      <td>396.225000</td>\n",
       "      <td>16.955000</td>\n",
       "    </tr>\n",
       "    <tr>\n",
       "      <th>max</th>\n",
       "      <td>88.976200</td>\n",
       "      <td>100.000000</td>\n",
       "      <td>27.740000</td>\n",
       "      <td>1.000000</td>\n",
       "      <td>0.871000</td>\n",
       "      <td>8.780000</td>\n",
       "      <td>100.000000</td>\n",
       "      <td>12.126500</td>\n",
       "      <td>24.000000</td>\n",
       "      <td>711.000000</td>\n",
       "      <td>22.000000</td>\n",
       "      <td>396.900000</td>\n",
       "      <td>37.970000</td>\n",
       "    </tr>\n",
       "  </tbody>\n",
       "</table>\n",
       "</div>"
      ],
      "text/plain": [
       "             CRIM          ZN       INDUS        CHAS         NOX          RM  \\\n",
       "count  506.000000  506.000000  506.000000  506.000000  506.000000  506.000000   \n",
       "mean     3.613524   11.363636   11.136779    0.069170    0.554695    6.284634   \n",
       "std      8.601545   23.322453    6.860353    0.253994    0.115878    0.702617   \n",
       "min      0.006320    0.000000    0.460000    0.000000    0.385000    3.561000   \n",
       "25%      0.082045    0.000000    5.190000    0.000000    0.449000    5.885500   \n",
       "50%      0.256510    0.000000    9.690000    0.000000    0.538000    6.208500   \n",
       "75%      3.677083   12.500000   18.100000    0.000000    0.624000    6.623500   \n",
       "max     88.976200  100.000000   27.740000    1.000000    0.871000    8.780000   \n",
       "\n",
       "              AGE         DIS         RAD         TAX     PTRATIO           B  \\\n",
       "count  506.000000  506.000000  506.000000  506.000000  506.000000  506.000000   \n",
       "mean    68.574901    3.795043    9.549407  408.237154   18.455534  356.674032   \n",
       "std     28.148861    2.105710    8.707259  168.537116    2.164946   91.294864   \n",
       "min      2.900000    1.129600    1.000000  187.000000   12.600000    0.320000   \n",
       "25%     45.025000    2.100175    4.000000  279.000000   17.400000  375.377500   \n",
       "50%     77.500000    3.207450    5.000000  330.000000   19.050000  391.440000   \n",
       "75%     94.075000    5.188425   24.000000  666.000000   20.200000  396.225000   \n",
       "max    100.000000   12.126500   24.000000  711.000000   22.000000  396.900000   \n",
       "\n",
       "            LSTAT  \n",
       "count  506.000000  \n",
       "mean    12.653063  \n",
       "std      7.141062  \n",
       "min      1.730000  \n",
       "25%      6.950000  \n",
       "50%     11.360000  \n",
       "75%     16.955000  \n",
       "max     37.970000  "
      ]
     },
     "execution_count": 10,
     "metadata": {},
     "output_type": "execute_result"
    }
   ],
   "source": [
    "data = pd.DataFrame(dataset.data, columns=dataset.feature_names)\n",
    "data.describe()"
   ]
  },
  {
   "cell_type": "markdown",
   "metadata": {},
   "source": [
    "**Your answer here**\n",
    "- lowest_range = NOX (0.385 to 0.871) (I think this is what this question is asking but I am not entirely sure)\n",
    "- highest_mean = TAX (408.24)\n",
    "- highest_variance = TAX (168.537^2 = 28404.72)"
   ]
  },
  {
   "cell_type": "markdown",
   "metadata": {},
   "source": [
    "**Problem 4-2 (5 pts)** Feature Scaling\n",
    "\n",
    "**Please answer the following questions:**\n",
    "\n",
    "1. From the information above, do you recommend **feature scaling** ? Please explain.  \n",
    "\n",
    "2. What is a difference between MinMaxScaler and StandardScaler? "
   ]
  },
  {
   "cell_type": "markdown",
   "metadata": {},
   "source": [
    "**Your answer here**"
   ]
  },
  {
   "cell_type": "markdown",
   "metadata": {},
   "source": [
    "Yes, feature scaling would be useful for this dataset. There is a very wide range of values in the data that could lead to strange results when calculating Euclidean distance. The StandardScaler scales the values such that the resulting distribution has mean = 0 and unit variance. The MinMaxScaler will perform a more linear scaling, instead going from 0 to 1."
   ]
  },
  {
   "cell_type": "markdown",
   "metadata": {},
   "source": [
    "**Problem 4-3 (6 pts)** Calculate and report **correlations** between variables \n",
    "\n",
    "Follow the steps below to answer questions:\n",
    "\n",
    "- Add target to the DataFrame.\n",
    "\n",
    "- Print the correlation matrix that shows the correlation between each pair of variables in the DataFrame.\n",
    "\n",
    "- Plot a correlation matrix (heatmap). You may would like to check: https://seaborn.pydata.org/generated/seaborn.heatmap.html\n",
    "\n",
    "**Please answer the following questions:**\n",
    "\n",
    "1. What is a difference between positive and negative numbers on the correlation table? Please explain.\n",
    "2. What is the feature that is the most correlated with the target? Do you think it is the most or the least helpful features in predicting the target class? Please explain.\n",
    "3. What is the correlation between the feature RM and the LSTAT?\n",
    "4. What does this value of correlation indicate?"
   ]
  },
  {
   "cell_type": "code",
   "execution_count": 11,
   "metadata": {},
   "outputs": [
    {
     "name": "stdout",
     "output_type": "stream",
     "text": [
      "             CRIM        ZN     INDUS      CHAS       NOX        RM       AGE  \\\n",
      "CRIM     1.000000 -0.200469  0.406583 -0.055892  0.420972 -0.219247  0.352734   \n",
      "ZN      -0.200469  1.000000 -0.533828 -0.042697 -0.516604  0.311991 -0.569537   \n",
      "INDUS    0.406583 -0.533828  1.000000  0.062938  0.763651 -0.391676  0.644779   \n",
      "CHAS    -0.055892 -0.042697  0.062938  1.000000  0.091203  0.091251  0.086518   \n",
      "NOX      0.420972 -0.516604  0.763651  0.091203  1.000000 -0.302188  0.731470   \n",
      "RM      -0.219247  0.311991 -0.391676  0.091251 -0.302188  1.000000 -0.240265   \n",
      "AGE      0.352734 -0.569537  0.644779  0.086518  0.731470 -0.240265  1.000000   \n",
      "DIS     -0.379670  0.664408 -0.708027 -0.099176 -0.769230  0.205246 -0.747881   \n",
      "RAD      0.625505 -0.311948  0.595129 -0.007368  0.611441 -0.209847  0.456022   \n",
      "TAX      0.582764 -0.314563  0.720760 -0.035587  0.668023 -0.292048  0.506456   \n",
      "PTRATIO  0.289946 -0.391679  0.383248 -0.121515  0.188933 -0.355501  0.261515   \n",
      "B       -0.385064  0.175520 -0.356977  0.048788 -0.380051  0.128069 -0.273534   \n",
      "LSTAT    0.455621 -0.412995  0.603800 -0.053929  0.590879 -0.613808  0.602339   \n",
      "target  -0.388305  0.360445 -0.483725  0.175260 -0.427321  0.695360 -0.376955   \n",
      "\n",
      "              DIS       RAD       TAX   PTRATIO         B     LSTAT    target  \n",
      "CRIM    -0.379670  0.625505  0.582764  0.289946 -0.385064  0.455621 -0.388305  \n",
      "ZN       0.664408 -0.311948 -0.314563 -0.391679  0.175520 -0.412995  0.360445  \n",
      "INDUS   -0.708027  0.595129  0.720760  0.383248 -0.356977  0.603800 -0.483725  \n",
      "CHAS    -0.099176 -0.007368 -0.035587 -0.121515  0.048788 -0.053929  0.175260  \n",
      "NOX     -0.769230  0.611441  0.668023  0.188933 -0.380051  0.590879 -0.427321  \n",
      "RM       0.205246 -0.209847 -0.292048 -0.355501  0.128069 -0.613808  0.695360  \n",
      "AGE     -0.747881  0.456022  0.506456  0.261515 -0.273534  0.602339 -0.376955  \n",
      "DIS      1.000000 -0.494588 -0.534432 -0.232471  0.291512 -0.496996  0.249929  \n",
      "RAD     -0.494588  1.000000  0.910228  0.464741 -0.444413  0.488676 -0.381626  \n",
      "TAX     -0.534432  0.910228  1.000000  0.460853 -0.441808  0.543993 -0.468536  \n",
      "PTRATIO -0.232471  0.464741  0.460853  1.000000 -0.177383  0.374044 -0.507787  \n",
      "B        0.291512 -0.444413 -0.441808 -0.177383  1.000000 -0.366087  0.333461  \n",
      "LSTAT   -0.496996  0.488676  0.543993  0.374044 -0.366087  1.000000 -0.737663  \n",
      "target   0.249929 -0.381626 -0.468536 -0.507787  0.333461 -0.737663  1.000000  \n"
     ]
    },
    {
     "data": {
      "image/png": "[encoded data removed]",
      "text/plain": [
       "<Figure size 432x288 with 2 Axes>"
      ]
     },
     "metadata": {
      "needs_background": "light"
     },
     "output_type": "display_data"
    }
   ],
   "source": [
    "data['target'] = dataset.target\n",
    "corr = data.corr()\n",
    "print(corr)\n",
    "\n",
    "ax = sns.heatmap(corr)"
   ]
  },
  {
   "cell_type": "markdown",
   "metadata": {},
   "source": [
    "**Your answer here**"
   ]
  },
  {
   "cell_type": "markdown",
   "metadata": {},
   "source": [
    "1. The positive numbers in the correlation table represent features that, when increased, lead to a (non-trivial) increase in the target. Similarly, negative numbers in the correlation table represent features that, when decreased, lead to a (non-trivial) decrease in the target.\n",
    "2. It looks like LSTAT is the most negatively correlated feature with the target, which seems to represent the percentage of the lower-income population in the neighborhood. It makes sense that this is the feature that has the highest correlation with the target, as lower-income neighborhoods are more likely to have lower-income homes. I think this will have a decent, though not incredible, impact on predicting the target. RM (the average number of rooms per dwelling) seems to be the most positively correlated feature with the target. Again, this makes sense, as homes that have more rooms will tend to cost more. I think this will have more of an impact on predicting the target because it is unlikely that there are many expensive, one-bedroom homes (and similarly, inexpensive six-bedroom homes).\n",
    "3. -0.613808\n",
    "4. This value of correlation indicates that RM and LSTAT have a moderately negative relationship; that is, houses with more rooms per dwelling tend to not be in lower-income neighborhoods. The opposite is also true; houses in lower-income neighborhoods tend to have fewer rooms per dwelling."
   ]
  },
  {
   "cell_type": "markdown",
   "metadata": {},
   "source": [
    "**Problem 4-4 (6 pts)** Scatter plot \n",
    "\n",
    "1. Plot RM versus target variable \n",
    "2. Plot TAX versus target variable \n",
    "3. Plot LSTAT versus target variable\n",
    "4. Comment on each of the above plots: please state the relationship observed from the figures: linear, nonlinear, or quadratic, etc."
   ]
  },
  {
   "cell_type": "code",
   "execution_count": 12,
   "metadata": {},
   "outputs": [
    {
     "data": {
      "image/png": "[encoded data removed]",
      "text/plain": [
       "<Figure size 432x288 with 1 Axes>"
      ]
     },
     "metadata": {
      "needs_background": "light"
     },
     "output_type": "display_data"
    }
   ],
   "source": [
    "plt.scatter(data.RM, data.target)\n",
    "plt.xlabel('Rooms per dwelling')\n",
    "plt.ylabel('Median value of homes in $1000s')\n",
    "plt.title('RM versus home value')\n",
    "plt.show()"
   ]
  },
  {
   "cell_type": "code",
   "execution_count": 13,
   "metadata": {},
   "outputs": [
    {
     "data": {
      "image/png": "[encoded data removed]",
      "text/plain": [
       "<Figure size 432x288 with 1 Axes>"
      ]
     },
     "metadata": {
      "needs_background": "light"
     },
     "output_type": "display_data"
    }
   ],
   "source": [
    "plt.scatter(data.TAX, data.target)\n",
    "plt.xlabel('Property tax rate per $10000')\n",
    "plt.ylabel('Median value of homes in $1000s')\n",
    "plt.title('TAX versus home value')\n",
    "plt.show()"
   ]
  },
  {
   "cell_type": "code",
   "execution_count": 14,
   "metadata": {},
   "outputs": [
    {
     "data": {
      "image/png": "[encoded data removed]",
      "text/plain": [
       "<Figure size 432x288 with 1 Axes>"
      ]
     },
     "metadata": {
      "needs_background": "light"
     },
     "output_type": "display_data"
    }
   ],
   "source": [
    "plt.scatter(data.LSTAT, data.target)\n",
    "plt.xlabel('% Lower status of population')\n",
    "plt.ylabel('Median value of homes in $1000s')\n",
    "plt.title('LSTAT versus home value')\n",
    "plt.show()"
   ]
  },
  {
   "cell_type": "markdown",
   "metadata": {},
   "source": [
    "**Your answer here**"
   ]
  },
  {
   "cell_type": "markdown",
   "metadata": {},
   "source": [
    "* RM versus target seems to be a relatively linear relationship, minus some outliers that are likely due to very expensive, possibly historic homes in Boston. \n",
    "* TAX versus target seems to be a nonlinear relationship, since the tax rate is not a continuous function and instead falls into discrete bins depending on home value.\n",
    "* LSTAT versus target seems to be a quadratic relationship, but it is not so pronounced that I am extremely confident in it. A linear relationship could also fit the data decently well. "
   ]
  },
  {
   "cell_type": "markdown",
   "metadata": {},
   "source": [
    "**Problem 4-5 (6 pts)**\n",
    "- Feel free to use scikit-learn (sklearn library) or write your own code to answer the following questions.\n",
    "- Use train_test_split() with \"random_state=0\n",
    "\n",
    "**Answer the following questions:**\n",
    "1. Fit a linear regression model with RM and LSTAT features only. Find the R-squared metric on train and test sets. \n",
    "2. Fit a linear regression model using RM, LSTAT and include the interaction term (RM * LSTAT). How R-squared metric differs from the previous model without interaction term?\n",
    "3. Fit a linear regression model using LSTAT and include the polynomial term ( $LSTAT^2$).  Find the R-squared metric.\n",
    "4. Fit linear regression model using LSTAT and include the polynomial term ( $LSTAT^2$ and $LSTAT^4$ ). Find the R-squared metric. How does R-squared metric differ in the previous models? <br>Comment your observation. "
   ]
  },
  {
   "cell_type": "code",
   "execution_count": 15,
   "metadata": {},
   "outputs": [
    {
     "name": "stdout",
     "output_type": "stream",
     "text": [
      "Train R^2 score: 0.6598\n",
      "Test R^2 score: 0.5692\n"
     ]
    }
   ],
   "source": [
    "x = data[['RM', 'LSTAT']]\n",
    "y = data['target']\n",
    "\n",
    "X_train, X_test, Y_train, Y_test = train_test_split(x, y, random_state=0)\n",
    "\n",
    "scaler = preprocessing.StandardScaler().fit(X_train)\n",
    "\n",
    "X_train_t = scaler.transform(X_train)\n",
    "X_test_t = scaler.transform(X_test)\n",
    "\n",
    "model = LinearRegression().fit(X_train_t, Y_train)\n",
    "pred = model.predict(X_test_t)\n",
    "train_pred = model.predict(X_train_t)\n",
    "\n",
    "print('Train R^2 score: %.4f' % r2_score(Y_train, train_pred))\n",
    "print('Test R^2 score: %.4f' % r2_score(Y_test, pred))"
   ]
  },
  {
   "cell_type": "code",
   "execution_count": 16,
   "metadata": {},
   "outputs": [
    {
     "name": "stdout",
     "output_type": "stream",
     "text": [
      "Train R^2 score: 0.7646\n",
      "Test R^2 score: 0.6615\n"
     ]
    }
   ],
   "source": [
    "data_copy = data.copy()\n",
    "data_copy['RM_LSTAT'] = data_copy['RM'] * data_copy['LSTAT']\n",
    "\n",
    "x = data_copy[['RM', 'LSTAT', 'RM_LSTAT']]\n",
    "y = data_copy['target']\n",
    "\n",
    "X_train, X_test, Y_train, Y_test = train_test_split(x, y, random_state=0)\n",
    "\n",
    "scaler = preprocessing.StandardScaler().fit(X_train)\n",
    "\n",
    "X_train_t = scaler.transform(X_train)\n",
    "X_test_t = scaler.transform(X_test)\n",
    "\n",
    "model = LinearRegression().fit(X_train_t, Y_train)\n",
    "pred = model.predict(X_test_t)\n",
    "train_pred = model.predict(X_train_t)\n",
    "\n",
    "print('Train R^2 score: %.4f' % r2_score(Y_train, train_pred))\n",
    "print('Test R^2 score: %.4f' % r2_score(Y_test, pred))"
   ]
  },
  {
   "cell_type": "code",
   "execution_count": 17,
   "metadata": {},
   "outputs": [
    {
     "name": "stdout",
     "output_type": "stream",
     "text": [
      "Train R^2 score: 0.6688\n",
      "Test R^2 score: 0.5519\n"
     ]
    }
   ],
   "source": [
    "data_copy['LSTAT_2'] = data_copy['LSTAT'] ** 2\n",
    "\n",
    "x = data_copy[['LSTAT', 'LSTAT_2']]\n",
    "y = data_copy['target']\n",
    "\n",
    "X_train, X_test, Y_train, Y_test = train_test_split(x, y, random_state=0)\n",
    "\n",
    "scaler = preprocessing.StandardScaler().fit(X_train)\n",
    "\n",
    "X_train_t = scaler.transform(X_train)\n",
    "X_test_t = scaler.transform(X_test)\n",
    "\n",
    "model = LinearRegression().fit(X_train_t, Y_train)\n",
    "pred = model.predict(X_test_t)\n",
    "train_pred = model.predict(X_train_t)\n",
    "\n",
    "print('Train R^2 score: %.4f' % r2_score(Y_train, train_pred))\n",
    "print('Test R^2 score: %.4f' % r2_score(Y_test, pred))"
   ]
  },
  {
   "cell_type": "code",
   "execution_count": 18,
   "metadata": {},
   "outputs": [
    {
     "name": "stdout",
     "output_type": "stream",
     "text": [
      "Train R^2 score: 0.6801\n",
      "Test R^2 score: 0.5696\n"
     ]
    }
   ],
   "source": [
    "data_copy['LSTAT_4'] = data_copy['LSTAT'] ** 4\n",
    "\n",
    "x = data_copy[['LSTAT', 'LSTAT_2', 'LSTAT_4']]\n",
    "y = data_copy['target']\n",
    "\n",
    "X_train, X_test, Y_train, Y_test = train_test_split(x, y, random_state=0)\n",
    "\n",
    "scaler = preprocessing.StandardScaler().fit(X_train)\n",
    "\n",
    "X_train_t = scaler.transform(X_train)\n",
    "X_test_t = scaler.transform(X_test)\n",
    "\n",
    "model = LinearRegression().fit(X_train_t, Y_train)\n",
    "pred = model.predict(X_test_t)\n",
    "train_pred = model.predict(X_train_t)\n",
    "\n",
    "print('Train R^2 score: %.4f' % r2_score(Y_train, train_pred))\n",
    "print('Test R^2 score: %.4f' % r2_score(Y_test, pred))"
   ]
  },
  {
   "cell_type": "markdown",
   "metadata": {},
   "source": [
    "**Your comment here**"
   ]
  },
  {
   "cell_type": "markdown",
   "metadata": {},
   "source": [
    "It looks like adding the interaction term was useful for improving the test R-squared metric of the model. However, adding polynomial terms for the LSTAT feature seems to not have helped, since it may be overfitting. "
   ]
  },
  {
   "cell_type": "markdown",
   "metadata": {},
   "source": [
    "**Problem 4-6 (5 pts)** Fit all features (13 features) in the dataset to a multiple linear regression model, and report p-values of all feature. \n",
    "\n",
    "**Answer the following questions:** \n",
    "\n",
    "1. What does p-value represent?\n",
    "2. What are the features that have strong association with the target? What are the ones that seem to have week association? "
   ]
  },
  {
   "cell_type": "code",
   "execution_count": 19,
   "metadata": {},
   "outputs": [
    {
     "name": "stdout",
     "output_type": "stream",
     "text": [
      "==============================================================================\n",
      "                 coef    std err          t      P>|t|      [0.025      0.975]\n",
      "------------------------------------------------------------------------------\n",
      "Intercept     36.4595      5.103      7.144      0.000      26.432      46.487\n",
      "CRIM          -0.1080      0.033     -3.287      0.001      -0.173      -0.043\n",
      "ZN             0.0464      0.014      3.382      0.001       0.019       0.073\n",
      "INDUS          0.0206      0.061      0.334      0.738      -0.100       0.141\n",
      "CHAS           2.6867      0.862      3.118      0.002       0.994       4.380\n",
      "NOX          -17.7666      3.820     -4.651      0.000     -25.272     -10.262\n",
      "RM             3.8099      0.418      9.116      0.000       2.989       4.631\n",
      "AGE            0.0007      0.013      0.052      0.958      -0.025       0.027\n",
      "DIS           -1.4756      0.199     -7.398      0.000      -1.867      -1.084\n",
      "RAD            0.3060      0.066      4.613      0.000       0.176       0.436\n",
      "TAX           -0.0123      0.004     -3.280      0.001      -0.020      -0.005\n",
      "PTRATIO       -0.9527      0.131     -7.283      0.000      -1.210      -0.696\n",
      "B              0.0093      0.003      3.467      0.001       0.004       0.015\n",
      "LSTAT         -0.5248      0.051    -10.347      0.000      -0.624      -0.425\n",
      "==============================================================================\n"
     ]
    }
   ],
   "source": [
    "model = smf.ols('target ~ CRIM + ZN + INDUS + CHAS + NOX + RM + AGE + DIS + RAD + TAX + PTRATIO + B + LSTAT', data)\n",
    "fitting_results = model.fit()\n",
    "\n",
    "print(fitting_results.summary().tables[1])"
   ]
  },
  {
   "cell_type": "markdown",
   "metadata": {},
   "source": [
    "**Your answer here**"
   ]
  },
  {
   "cell_type": "markdown",
   "metadata": {},
   "source": [
    "1. The p-values represent the probability of observing the given feature value if the null hypothesis is true. Essentially it is a measure of association between the features and output, where a low p-value means that there is an association between the two.\n",
    "2. INDUS (proportion of non-retail business acres per town) and AGE (proportion of owner-occupied units built prior to 1940) seem to be very weakly associated with the target. The rest of the features are moderately or strongly associated with the target, especially NOX (nitric oxides concentration), RM (average number of rooms per dwelling), DIS (weighted distances to five Boston employment centres), RAD (index of accessibility to radial highways), PTRATIO (pupil-teacher ratio by town), and LSTAT (% lower status of the population)"
   ]
  },
  {
   "cell_type": "markdown",
   "metadata": {},
   "source": [
    "### Problem 5. Regularization (13 pts)\n",
    "\n",
    "- In this problem, we will use the same dataset as in previous question -- the Boston data set.\n",
    "- Scale the features with StandardScaler"
   ]
  },
  {
   "cell_type": "markdown",
   "metadata": {},
   "source": [
    "**Problem 5-1 (3 pts)** Use Ridge regression model with tuning parameter set to 1 (alpha =1). Find the test $R^2$ score and number of non zero coefficients.\n",
    "\n",
    "**Problem 5-2 (3 pts)**  Use Lasso regression instead of Ridge regression, also set the tuning parameter to 1. Find the test $R^2$ score and number of non zero coefficients.\n",
    "\n",
    "**Problem 5-3 (3 pts)**  Change the tuning parameter of the Lasso model to a very low value (alpha =0.001). What is the $R^2$ score.\n",
    "\n",
    "**Problem 5-4 (4 pts)** Comment on your result. "
   ]
  },
  {
   "cell_type": "code",
   "execution_count": 20,
   "metadata": {},
   "outputs": [],
   "source": [
    "x = data[['CRIM', 'ZN', 'INDUS', 'CHAS', 'NOX', 'RM', 'AGE', 'DIS', 'RAD', 'TAX', 'PTRATIO', 'B', 'LSTAT']]\n",
    "y = data['target']\n",
    "X_train, X_test, Y_train, Y_test = train_test_split(x, y, random_state=0)\n",
    "\n",
    "scaler = preprocessing.StandardScaler().fit(X_train)\n",
    "\n",
    "X_train_t = scaler.transform(X_train)\n",
    "X_test_t = scaler.transform(X_test)"
   ]
  },
  {
   "cell_type": "code",
   "execution_count": 21,
   "metadata": {},
   "outputs": [
    {
     "name": "stdout",
     "output_type": "stream",
     "text": [
      "Test R^2 score: 0.6346\n",
      "Number of non-zero coefficients: 13\n"
     ]
    }
   ],
   "source": [
    "ridge = Ridge(alpha=1).fit(X_train_t, Y_train)\n",
    "print('Test R^2 score: %.4f' % ridge.score(X_test_t, Y_test))\n",
    "print('Number of non-zero coefficients: %d' % np.sum(ridge.coef_ != 0))"
   ]
  },
  {
   "cell_type": "code",
   "execution_count": 22,
   "metadata": {},
   "outputs": [
    {
     "name": "stdout",
     "output_type": "stream",
     "text": [
      "Test R^2 score: 0.5656\n",
      "Number of non-zero coefficients: 5\n"
     ]
    }
   ],
   "source": [
    "lasso = Lasso(alpha=1).fit(X_train_t, Y_train)\n",
    "print('Test R^2 score: %.4f' % lasso.score(X_test_t, Y_test))\n",
    "print('Number of non-zero coefficients: %d' % np.sum(lasso.coef_ != 0))"
   ]
  },
  {
   "cell_type": "code",
   "execution_count": 23,
   "metadata": {},
   "outputs": [
    {
     "name": "stdout",
     "output_type": "stream",
     "text": [
      "Test R^2 score: 0.6355\n",
      "Number of non-zero coefficients: 13\n"
     ]
    }
   ],
   "source": [
    "lasso = Lasso(alpha=0.0001).fit(X_train_t, Y_train)\n",
    "print('Test R^2 score: %.4f' % lasso.score(X_test_t, Y_test))\n",
    "print('Number of non-zero coefficients: %d' % np.sum(lasso.coef_ != 0))"
   ]
  },
  {
   "cell_type": "markdown",
   "metadata": {},
   "source": [
    "**Your comment here**"
   ]
  },
  {
   "cell_type": "markdown",
   "metadata": {},
   "source": [
    "At very low values of alpha, the lasso regression model becomes very similar to the ridge regression model. This is because it is very difficult to actually force the coefficients to 0 at such a low value of alpha. In effect, none of the coefficients are dropped from the model and it results in the same number of non-zero coefficients. "
   ]
  },
  {
   "cell_type": "markdown",
   "metadata": {},
   "source": [
    "### Problem 6. Bayes Decision Boundary (14 pts)\n",
    "\n",
    "Consider a two-category classification problem with two-dimensional feature vector $X = (x_1, x_2)^t$. The two categories (i.e., classes) are $w_1$ and $w_2$, where\n",
    "\n",
    "\\begin{equation}\n",
    "P(X|w_1) \\sim \\mathcal{N}(\\mu_1,\\,\\Sigma_1),\n",
    "\\end{equation}\n",
    "\n",
    "\\begin{equation}\n",
    "P(X|w_2) \\sim \\mathcal{N}(\\mu_2,\\,\\Sigma_2).\n",
    "\\end{equation}\n",
    "\n",
    "Such that: \n",
    "\n",
    "$\\mu_1=\\begin{bmatrix} -1 \\\\ 1  \\end{bmatrix}$\n",
    "\n",
    "$\\Sigma_1 = \\begin{bmatrix} 1 & 0 \\\\0 & 1 \\end{bmatrix}$\n",
    "\n",
    "$\\mu_2=\\begin{bmatrix} 1 \\\\ 0  \\end{bmatrix}$\n",
    "\n",
    "$\\Sigma_2 = \\begin{bmatrix} 2 & 2 \\\\2 & 3 \\end{bmatrix}$"
   ]
  },
  {
   "cell_type": "markdown",
   "metadata": {},
   "source": [
    "**Problem 6-1 (5 pts)** Calculate the Bayes decision boundary.\n",
    "\n",
    "**Problem 6-2 (5 pts)** Randomly draw 50 patterns from each of the two class-conditional densities and plot them in the two-dimensional feature space. \n",
    "\n",
    "**Problem 6-3 (4 pts)** Draw the decision boundary. Is it linear or not?"
   ]
  },
  {
   "cell_type": "code",
   "execution_count": 24,
   "metadata": {},
   "outputs": [
    {
     "data": {
      "image/png": "[encoded data removed]",
      "text/plain": [
       "<Figure size 432x288 with 1 Axes>"
      ]
     },
     "metadata": {
      "needs_background": "light"
     },
     "output_type": "display_data"
    }
   ],
   "source": [
    "def f(x):\n",
    "    if x != 2:\n",
    "        return (0.5*x**2 - 5*x + 0.193) / (2*x - 4)\n",
    "    \n",
    "num_points = 50\n",
    "\n",
    "mean_1 = np.array([-1,1])\n",
    "cov_1 = np.array([[1,0],[0,1]])\n",
    "mean_2 = np.array([1,0])\n",
    "cov_2 = np.array([[2,2],[2,3]])\n",
    "\n",
    "x1 = np.random.multivariate_normal(mean_1, cov_1, num_points).T\n",
    "x2 = np.random.multivariate_normal(mean_2, cov_2, num_points).T\n",
    "\n",
    "x = np.linspace(-6, 6, 100)\n",
    "y = []\n",
    "\n",
    "for val in x:\n",
    "    y.append(f(val))\n",
    "\n",
    "plt.plot(x, y)\n",
    "plt.scatter(x1[0], x1[1])\n",
    "plt.scatter(x2[0], x2[1])\n",
    "plt.xlabel('$x_1$')\n",
    "plt.ylabel('$x_2$')\n",
    "plt.title('Bayes Decision Boundary')\n",
    "plt.show()"
   ]
  },
  {
   "cell_type": "markdown",
   "metadata": {},
   "source": [
    "The decision boundary does not look to be linear."
   ]
  },
  {
   "cell_type": "markdown",
   "metadata": {},
   "source": [
    "### Submission\n",
    "Once you completed the assignment, <br>\n",
    "Name your file in the format of <b style='color:red'>LASTNAME-Assignment1.ipynb</b>, and submit it on Canvas."
   ]
  }
 ],
 "metadata": {
  "kernelspec": {
   "display_name": "Python 3",
   "language": "python",
   "name": "python3"
  },
  "language_info": {
   "codemirror_mode": {
    "name": "ipython",
    "version": 3
   },
   "file_extension": ".py",
   "mimetype": "text/x-python",
   "name": "python",
   "nbconvert_exporter": "python",
   "pygments_lexer": "ipython3",
   "version": "3.8.3"
  }
 },
 "nbformat": 4,
 "nbformat_minor": 5
}
