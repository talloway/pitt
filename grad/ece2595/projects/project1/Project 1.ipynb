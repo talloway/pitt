{
 "cells": [
  {
   "cell_type": "markdown",
   "metadata": {},
   "source": [
    "# ECE 2595 Homework 1: Speech data classification for Parkinson's Disease patients\n",
    "## Avery Peiffer"
   ]
  },
  {
   "cell_type": "code",
   "execution_count": 132,
   "metadata": {},
   "outputs": [],
   "source": [
    "import numpy as np\n",
    "import matplotlib.pyplot as plt\n",
    "import pandas as pd\n",
    "import seaborn as sns\n",
    "\n",
    "from sklearn.svm import SVC\n",
    "from sklearn.preprocessing import MinMaxScaler\n",
    "from sklearn.metrics import precision_score, recall_score, accuracy_score\n",
    "from sklearn.model_selection import cross_val_score\n",
    "from sklearn.linear_model import LogisticRegression\n",
    "from sklearn.discriminant_analysis import QuadraticDiscriminantAnalysis\n",
    "from sklearn.ensemble import AdaBoostClassifier\n",
    "from sklearn.tree import DecisionTreeClassifier"
   ]
  },
  {
   "cell_type": "code",
   "execution_count": 134,
   "metadata": {},
   "outputs": [
    {
     "name": "stdout",
     "output_type": "stream",
     "text": [
      "<bound method NDFrame.head of        id  jitter_loc  jitter_loc_abs  jitter_rap  jitter_ppq5  jitter_ddp  \\\n",
      "1   1.488    0.000090           0.900       0.794        2.699       8.334   \n",
      "1   0.728    0.000038           0.353       0.376        1.059       5.864   \n",
      "1   1.220    0.000074           0.732       0.670        2.196       8.719   \n",
      "1   2.502    0.000123           1.156       1.634        3.469      13.513   \n",
      "1   3.509    0.000167           1.715       1.539        5.145       9.112   \n",
      "..    ...         ...             ...         ...          ...         ...   \n",
      "40  5.127    0.000398           2.721       2.510        8.162       9.846   \n",
      "40  1.757    0.000133           0.808       0.690        2.425       7.571   \n",
      "40  2.912    0.000226           1.141       1.266        3.423      15.489   \n",
      "40  3.788    0.000275           1.786       1.484        5.359      15.702   \n",
      "40  1.809    0.000149           0.680       0.843        2.040       7.881   \n",
      "\n",
      "    shimmer_loc, shimmer_loc_db  shimmer_apq3  shimmer_apq5  shimmer_apq11  \\\n",
      "1                         0.779         4.517         4.609          6.802   \n",
      "1                         0.642         2.058         3.180          7.194   \n",
      "1                         0.875         4.347         5.166          7.548   \n",
      "1                         1.273         5.263         8.771         16.779   \n",
      "1                         1.040         3.102         4.927         12.823   \n",
      "..                          ...           ...           ...            ...   \n",
      "40                        0.965         4.593         6.806          8.303   \n",
      "40                        0.740         2.720         3.927         11.928   \n",
      "40                        1.456         6.433        10.138         14.239   \n",
      "40                        1.367         6.374        11.094         18.818   \n",
      "40                        0.782         2.690         4.543         11.073   \n",
      "\n",
      "    ...  max_pitch  num_pulses  num_periods  mean_period  stdev_period  \\\n",
      "1   ...    187.576         160          159     0.006065      0.000416   \n",
      "1   ...    234.505         170          169     0.005181      0.000403   \n",
      "1   ...    211.442        1431         1427     0.006071      0.000474   \n",
      "1   ...    220.230          94           92     0.004910      0.000320   \n",
      "1   ...    225.162         117          114     0.004757      0.000380   \n",
      "..  ...        ...         ...          ...          ...           ...   \n",
      "40  ...    158.591          63           60     0.007766      0.001066   \n",
      "40  ...    143.797          47           44     0.007561      0.000430   \n",
      "40  ...    149.641          79           77     0.007767      0.000881   \n",
      "40  ...    451.366          75           70     0.007257      0.001714   \n",
      "40  ...    137.546          62           60     0.008211      0.000566   \n",
      "\n",
      "    locally_unvoiced_frac  voice_breaks  voice_break_deg  updrs  label  \n",
      "1                   0.000             0            0.000     23      1  \n",
      "1                   2.247             0            0.000     23      1  \n",
      "1                  10.656             1            0.178     23      1  \n",
      "1                   0.000             0            0.000     23      1  \n",
      "1                  18.182             1           13.318     23      1  \n",
      "..                    ...           ...              ...    ...    ...  \n",
      "40                 24.194             2           15.113      1      0  \n",
      "40                 46.053             1           25.792      1      0  \n",
      "40                 20.000             1            4.574      1      0  \n",
      "40                 16.667             3           19.575      1      0  \n",
      "40                 18.182             1            3.387      1      0  \n",
      "\n",
      "[1040 rows x 28 columns]>\n"
     ]
    }
   ],
   "source": [
    "column_names_train = ['id', 'jitter_loc', 'jitter_loc_abs', 'jitter_rap', 'jitter_ppq5', 'jitter_ddp',\n",
    "                      'shimmer_loc, shimmer_loc_db', 'shimmer_apq3', 'shimmer_apq5', 'shimmer_apq11', 'shimmer_dda',\n",
    "                      'ac', 'nth', 'htn', 'med_pitch', 'mean_pitch', 'stdev_pitch', 'min_pitch', 'max_pitch',\n",
    "                      'num_pulses', 'num_periods', 'mean_period', 'stdev_period', 'locally_unvoiced_frac', 'voice_breaks', \n",
    "                      'voice_break_deg', 'updrs', 'label']\n",
    "\n",
    "column_names_test = column_names_train.copy()\n",
    "column_names_test.remove('updrs')\n",
    "\n",
    "train = pd.read_csv('./speech_data/train_data.txt', names=column_names_train)\n",
    "test = pd.read_csv('./speech_data/test_data.txt', names=column_names_test)\n",
    "\n",
    "print(train.head)"
   ]
  },
  {
   "cell_type": "code",
   "execution_count": 112,
   "metadata": {},
   "outputs": [
    {
     "data": {
      "image/png": "[encoded data removed]",
      "text/plain": [
       "<Figure size 432x288 with 2 Axes>"
      ]
     },
     "metadata": {
      "needs_background": "light"
     },
     "output_type": "display_data"
    }
   ],
   "source": [
    "corr = train.corr()\n",
    "\n",
    "ax = sns.heatmap(corr)"
   ]
  },
  {
   "cell_type": "code",
   "execution_count": 110,
   "metadata": {},
   "outputs": [],
   "source": [
    "X_train_df = train.loc[:, ~train.columns.isin(['id', 'updrs', 'label'])]\n",
    "X_train = X_train_df.to_numpy()\n",
    "Y_train = train['label'].to_numpy()\n",
    "\n",
    "X_test_df = test.loc[:, ~test.columns.isin(['id', 'label'])]\n",
    "X_test = X_test_df.to_numpy()\n",
    "Y_test = test['label'].to_numpy()"
   ]
  },
  {
   "cell_type": "code",
   "execution_count": 92,
   "metadata": {},
   "outputs": [],
   "source": [
    "scaler = MinMaxScaler().fit(X_train)\n",
    "\n",
    "X_train_t = scaler.transform(X_train)\n",
    "X_test_t = scaler.transform(X_test)"
   ]
  },
  {
   "cell_type": "markdown",
   "metadata": {},
   "source": [
    "### Logistic Regression"
   ]
  },
  {
   "cell_type": "code",
   "execution_count": 119,
   "metadata": {},
   "outputs": [
    {
     "name": "stdout",
     "output_type": "stream",
     "text": [
      "Accuracy: 0.07\n"
     ]
    }
   ],
   "source": [
    "LogRegModel = LogisticRegression(solver='lbfgs', max_iter=1000, penalty='none')\n",
    "LogRegModel.fit(X_train_t, Y_train)\n",
    "\n",
    "print('Accuracy: %.2f' % LogRegModel.score(X_test_t, Y_test))"
   ]
  },
  {
   "cell_type": "markdown",
   "metadata": {},
   "source": [
    "Do 5-fold cross-validation to find the best regularization parameter for the Logistic Regression Model."
   ]
  },
  {
   "cell_type": "code",
   "execution_count": 125,
   "metadata": {},
   "outputs": [
    {
     "name": "stdout",
     "output_type": "stream",
     "text": [
      "Best tuning parameter is lambda = 1.00.\n",
      "Trainval accuracy with this tuning parameter = 0.54.\n",
      "Test accuracy with this tuning parameter = 0.11\n"
     ]
    }
   ],
   "source": [
    "params = [0.01, 0.1, 1, 10, 100]\n",
    "\n",
    "X_trainval = X_train\n",
    "Y_trainval = Y_train\n",
    "X_trainval_t = X_train_t\n",
    "\n",
    "best_acc = 0\n",
    "best_lambd = params[0]\n",
    "\n",
    "for lambd in params:\n",
    "    c = 1 / lambd\n",
    "    LogRegModel = LogisticRegression(C=c, solver='lbfgs', max_iter=1000)\n",
    "    scores = cross_val_score(LogRegModel, X_trainval_t, Y_trainval, cv=5)\n",
    "    mean = scores.mean()\n",
    "    \n",
    "    if mean > best_acc:\n",
    "        best_acc = mean\n",
    "        best_lambd = lambd\n",
    "\n",
    "print('Best tuning parameter is lambda = %.2f.' % best_lambd)\n",
    "print('Trainval accuracy with this tuning parameter = %.2f.' % best_acc)\n",
    "\n",
    "BestModel = LogisticRegression(C=1/best_lambd, solver='lbfgs', max_iter=1000)\n",
    "BestModel.fit(X_trainval_t, Y_trainval)\n",
    "print('Test accuracy with this tuning parameter = %.2f' % BestModel.score(X_test_t, Y_test))"
   ]
  },
  {
   "cell_type": "markdown",
   "metadata": {},
   "source": [
    "### QDA"
   ]
  },
  {
   "cell_type": "code",
   "execution_count": 128,
   "metadata": {},
   "outputs": [
    {
     "name": "stdout",
     "output_type": "stream",
     "text": [
      "Accuracy is 0.83.\n",
      "Precision is 1.00.\n",
      "Recall is 0.83.\n"
     ]
    }
   ],
   "source": [
    "qda = QuadraticDiscriminantAnalysis()\n",
    "\n",
    "qda.fit(X_train_t, Y_train)\n",
    "qda_preds = qda.predict(X_test_t)\n",
    "\n",
    "print('Accuracy is %.2f.' % accuracy_score(Y_test, qda_preds))\n",
    "print(f'Precision is %.2f.' % precision_score(Y_test, qda_preds))\n",
    "print(f'Recall is %.2f.' % recall_score(Y_test, qda_preds))"
   ]
  },
  {
   "cell_type": "markdown",
   "metadata": {},
   "source": [
    "### AdaBoost"
   ]
  },
  {
   "cell_type": "code",
   "execution_count": 133,
   "metadata": {},
   "outputs": [
    {
     "name": "stdout",
     "output_type": "stream",
     "text": [
      "Accuracy is 0.1071.\n"
     ]
    }
   ],
   "source": [
    "boostModel = AdaBoostClassifier(base_estimator=DecisionTreeClassifier(max_depth=1, random_state=0), \n",
    "                                n_estimators=5, random_state=0)\n",
    "boostModel.fit(X_train_t, Y_train)\n",
    "\n",
    "preds = boostModel.predict(X_test_t)\n",
    "acc = np.count_nonzero(preds==Y_test) / len(preds)\n",
    "print('Accuracy is %.4f.' % acc)"
   ]
  },
  {
   "cell_type": "markdown",
   "metadata": {},
   "source": [
    "### SVM"
   ]
  },
  {
   "cell_type": "code",
   "execution_count": 103,
   "metadata": {},
   "outputs": [
    {
     "name": "stdout",
     "output_type": "stream",
     "text": [
      "Accuracy is 0.8274.\n",
      "Recall is 1.0000.\n",
      "Precision is 0.8274.\n"
     ]
    }
   ],
   "source": [
    "svmModel = SVC(kernel='rbf', gamma=0.2, C=0.1)\n",
    "svmModel.fit(X_train_t, Y_train)\n",
    "\n",
    "preds = svmModel.predict(X_test_t)\n",
    "acc = svmModel.score(X_test_t, Y_test)\n",
    "\n",
    "print('Accuracy is %.4f.' % accuracy_score(preds, Y_test))\n",
    "print('Recall is %.4f.' % recall_score(preds, Y_test))\n",
    "print('Precision is %.4f.' % precision_score(preds, Y_test))"
   ]
  }
 ],
 "metadata": {
  "kernelspec": {
   "display_name": "Python 3",
   "language": "python",
   "name": "python3"
  },
  "language_info": {
   "codemirror_mode": {
    "name": "ipython",
    "version": 3
   },
   "file_extension": ".py",
   "mimetype": "text/x-python",
   "name": "python",
   "nbconvert_exporter": "python",
   "pygments_lexer": "ipython3",
   "version": "3.8.3"
  }
 },
 "nbformat": 4,
 "nbformat_minor": 4
}
