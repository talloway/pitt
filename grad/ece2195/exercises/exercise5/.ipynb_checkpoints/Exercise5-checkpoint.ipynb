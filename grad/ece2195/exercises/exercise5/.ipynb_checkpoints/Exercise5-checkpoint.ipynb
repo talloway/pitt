{
 "cells": [
  {
   "cell_type": "markdown",
   "metadata": {},
   "source": [
    "# Exercise 5: Logistic Regression \n",
    "\n",
    "In this exercise, you will use logistic regression to classify breast cancer as either malignant or benign. First run the code below to print and read the description of the data set.  "
   ]
  },
  {
   "cell_type": "code",
   "execution_count": 2,
   "metadata": {
    "scrolled": false
   },
   "outputs": [
    {
     "name": "stdout",
     "output_type": "stream",
     "text": [
      "dict_keys(['data', 'target', 'frame', 'target_names', 'DESCR', 'feature_names', 'filename'])\n",
      ".. _breast_cancer_dataset:\n",
      "\n",
      "Breast cancer wisconsin (diagnostic) dataset\n",
      "--------------------------------------------\n",
      "\n",
      "**Data Set Characteristics:**\n",
      "\n",
      "    :Number of Instances: 569\n",
      "\n",
      "    :Number of Attributes: 30 numeric, predictive attributes and the class\n",
      "\n",
      "    :Attribute Information:\n",
      "        - radius (mean of distances from center to points on the perimeter)\n",
      "        - texture (standard deviation of gray-scale values)\n",
      "        - perimeter\n",
      "        - area\n",
      "        - smoothness (local variation in radius lengths)\n",
      "        - compactness (perimeter^2 / area - 1.0)\n",
      "        - concavity (severity of concave portions of the contour)\n",
      "        - concave points (number of concave portions of the contour)\n",
      "        - symmetry\n",
      "        - fractal dimension (\"coastline approximation\" - 1)\n",
      "\n",
      "        The mean, standard error, and \"worst\" or largest (mean of the three\n",
      "        worst/largest values) of these features were computed for each image,\n",
      "        resulting in 30 features.  For instance, field 0 is Mean Radius, field\n",
      "        10 is Radius SE, field 20 is Worst Radius.\n",
      "\n",
      "        - class:\n",
      "                - WDBC-Malignant\n",
      "                - WDBC-Benign\n",
      "\n",
      "    :Summary Statistics:\n",
      "\n",
      "    ===================================== ====== ======\n",
      "                                           Min    Max\n",
      "    ===================================== ====== ======\n",
      "    radius (mean):                        6.981  28.11\n",
      "    texture (mean):                       9.71   39.28\n",
      "    perimeter (mean):                     43.79  188.5\n",
      "    area (mean):                          143.5  2501.0\n",
      "    smoothness (mean):                    0.053  0.163\n",
      "    compactness (mean):                   0.019  0.345\n",
      "    concavity (mean):                     0.0    0.427\n",
      "    concave points (mean):                0.0    0.201\n",
      "    symmetry (mean):                      0.106  0.304\n",
      "    fractal dimension (mean):             0.05   0.097\n",
      "    radius (standard error):              0.112  2.873\n",
      "    texture (standard error):             0.36   4.885\n",
      "    perimeter (standard error):           0.757  21.98\n",
      "    area (standard error):                6.802  542.2\n",
      "    smoothness (standard error):          0.002  0.031\n",
      "    compactness (standard error):         0.002  0.135\n",
      "    concavity (standard error):           0.0    0.396\n",
      "    concave points (standard error):      0.0    0.053\n",
      "    symmetry (standard error):            0.008  0.079\n",
      "    fractal dimension (standard error):   0.001  0.03\n",
      "    radius (worst):                       7.93   36.04\n",
      "    texture (worst):                      12.02  49.54\n",
      "    perimeter (worst):                    50.41  251.2\n",
      "    area (worst):                         185.2  4254.0\n",
      "    smoothness (worst):                   0.071  0.223\n",
      "    compactness (worst):                  0.027  1.058\n",
      "    concavity (worst):                    0.0    1.252\n",
      "    concave points (worst):               0.0    0.291\n",
      "    symmetry (worst):                     0.156  0.664\n",
      "    fractal dimension (worst):            0.055  0.208\n",
      "    ===================================== ====== ======\n",
      "\n",
      "    :Missing Attribute Values: None\n",
      "\n",
      "    :Class Distribution: 212 - Malignant, 357 - Benign\n",
      "\n",
      "    :Creator:  Dr. William H. Wolberg, W. Nick Street, Olvi L. Mangasarian\n",
      "\n",
      "    :Donor: Nick Street\n",
      "\n",
      "    :Date: November, 1995\n",
      "\n",
      "This is a copy of UCI ML Breast Cancer Wisconsin (Diagnostic) datasets.\n",
      "https://goo.gl/U2Uwz2\n",
      "\n",
      "Features are computed from a digitized image of a fine needle\n",
      "aspirate (FNA) of a breast mass.  They describe\n",
      "characteristics of the cell nuclei present in the image.\n",
      "\n",
      "Separating plane described above was obtained using\n",
      "Multisurface Method-Tree (MSM-T) [K. P. Bennett, \"Decision Tree\n",
      "Construction Via Linear Programming.\" Proceedings of the 4th\n",
      "Midwest Artificial Intelligence and Cognitive Science Society,\n",
      "pp. 97-101, 1992], a classification method which uses linear\n",
      "programming to construct a decision tree.  Relevant features\n",
      "were selected using an exhaustive search in the space of 1-4\n",
      "features and 1-3 separating planes.\n",
      "\n",
      "The actual linear program used to obtain the separating plane\n",
      "in the 3-dimensional space is that described in:\n",
      "[K. P. Bennett and O. L. Mangasarian: \"Robust Linear\n",
      "Programming Discrimination of Two Linearly Inseparable Sets\",\n",
      "Optimization Methods and Software 1, 1992, 23-34].\n",
      "\n",
      "This database is also available through the UW CS ftp server:\n",
      "\n",
      "ftp ftp.cs.wisc.edu\n",
      "cd math-prog/cpo-dataset/machine-learn/WDBC/\n",
      "\n",
      ".. topic:: References\n",
      "\n",
      "   - W.N. Street, W.H. Wolberg and O.L. Mangasarian. Nuclear feature extraction \n",
      "     for breast tumor diagnosis. IS&T/SPIE 1993 International Symposium on \n",
      "     Electronic Imaging: Science and Technology, volume 1905, pages 861-870,\n",
      "     San Jose, CA, 1993.\n",
      "   - O.L. Mangasarian, W.N. Street and W.H. Wolberg. Breast cancer diagnosis and \n",
      "     prognosis via linear programming. Operations Research, 43(4), pages 570-577, \n",
      "     July-August 1995.\n",
      "   - W.H. Wolberg, W.N. Street, and O.L. Mangasarian. Machine learning techniques\n",
      "     to diagnose breast cancer from fine-needle aspirates. Cancer Letters 77 (1994) \n",
      "     163-171.\n"
     ]
    }
   ],
   "source": [
    "%matplotlib inline\n",
    "\n",
    "from sklearn.datasets import load_breast_cancer\n",
    "from sklearn.preprocessing import StandardScaler\n",
    "from sklearn.model_selection import train_test_split, cross_val_score\n",
    "from sklearn.linear_model import LogisticRegression\n",
    "import numpy as np\n",
    "import matplotlib.pyplot as plt\n",
    "\n",
    "DataCancer=load_breast_cancer()\n",
    "print(DataCancer.keys())\n",
    "print(DataCancer.DESCR)\n",
    "\n",
    "X_features=DataCancer.data\n",
    "Y_targetClass=DataCancer.target"
   ]
  },
  {
   "cell_type": "markdown",
   "metadata": {},
   "source": [
    "### Scale the features  to have zero mean and unit variance. Use scaled features in all the following questions. Also, please  use random_state = 0 in the train_test_split whenever used.\n",
    "\n",
    "#### A)   Use logistic regression, without regularization (penalty='none'). Find the accuracy of the model.  \n",
    "- You may need to change the solver (the optimization method) as well as the iterations (max_iteration) for results of optimization to converge. You can for example set, solver='lbfgs', max_iter=1000 in the logistic regression function. Learn more about input arguments of logistic regression function here: \n",
    "https://scikit-learn.org/stable/modules/generated/sklearn.linear_model.LogisticRegression.html"
   ]
  },
  {
   "cell_type": "code",
   "execution_count": 5,
   "metadata": {},
   "outputs": [
    {
     "name": "stdout",
     "output_type": "stream",
     "text": [
      "Accuracy: 0.94\n"
     ]
    }
   ],
   "source": [
    "X_train, X_test, Y_train, Y_test = train_test_split(X_features, Y_targetClass, random_state=0)\n",
    "\n",
    "scaler = StandardScaler().fit(X_train)\n",
    "\n",
    "X_train_t = scaler.transform(X_train)\n",
    "X_test_t = scaler.transform(X_test)\n",
    "\n",
    "LogRegModel = LogisticRegression(solver='lbfgs', max_iter=1000, penalty='none')\n",
    "LogRegModel.fit(X_train_t, Y_train)\n",
    "\n",
    "print('Accuracy: %.2f' % LogRegModel.score(X_test_t, Y_test))"
   ]
  },
  {
   "cell_type": "markdown",
   "metadata": {},
   "source": [
    "#### B)  Apply Ridge regularization to Logistic regression. Try tuning parameters [0.01, 0.1, 1, 10, 100] and plot the coefficient of the first feature at each value of the regularization tuning parameter. What do you observe? Is your observation expected?"
   ]
  },
  {
   "cell_type": "code",
   "execution_count": 30,
   "metadata": {},
   "outputs": [
    {
     "data": {
      "image/png": "[encoded data removed]",
      "text/plain": [
       "<Figure size 432x288 with 1 Axes>"
      ]
     },
     "metadata": {
      "needs_background": "light"
     },
     "output_type": "display_data"
    },
    {
     "data": {
      "image/png": "[encoded data removed]",
      "text/plain": [
       "<Figure size 432x288 with 1 Axes>"
      ]
     },
     "metadata": {
      "needs_background": "light"
     },
     "output_type": "display_data"
    }
   ],
   "source": [
    "coefs = []\n",
    "params = [0.01, 0.1, 1, 10, 100]\n",
    "\n",
    "for lambd in params:\n",
    "    c = 1 / lambd\n",
    "    LogRegModel = LogisticRegression(C=c, solver='lbfgs', max_iter=1000)\n",
    "    LogRegModel.fit(X_train_t, Y_train)\n",
    "    \n",
    "    coefs.append(LogRegModel.coef_[0][1])\n",
    "    \n",
    "plt.scatter(params, coefs)\n",
    "plt.xlabel('Lambda (not C)')\n",
    "plt.ylabel('X$_1$ coefficient value')\n",
    "plt.title('Coefficient values with change in tuning parameters')\n",
    "plt.show()\n",
    "\n",
    "params = np.asarray(params)\n",
    "params = np.log10(params)\n",
    "\n",
    "plt.scatter(params, coefs)\n",
    "plt.xlabel('Log(lambda) (not C)')\n",
    "plt.ylabel('X$_1$ coefficient value')\n",
    "plt.title('Coefficient values with change in tuning parameters')\n",
    "plt.show()"
   ]
  },
  {
   "cell_type": "markdown",
   "metadata": {},
   "source": [
    "**(AP)**: This observation is consistent with the properties of ridge regression. A larger lambda (smaller c) means that there is more of a shrinkage penalty, meaning that the coefficients will tend towards 0. This is what is observed in the plots above."
   ]
  },
  {
   "cell_type": "markdown",
   "metadata": {},
   "source": [
    "#### C) Find the best tuning parameter of Ridge regularization in logistic regression using 5-fold cross validation. Here also try the tuning parameter values of [0.01, 0.1, 1, 10, 100]. Print the best tuning parameters and the accuracy when the best tuning parameters is selected. "
   ]
  },
  {
   "cell_type": "code",
   "execution_count": 38,
   "metadata": {},
   "outputs": [
    {
     "name": "stdout",
     "output_type": "stream",
     "text": [
      "0.9694938440492477\n",
      "0.976497948016416\n",
      "0.9812038303693571\n",
      "0.9765253077975377\n",
      "0.9484268125854994\n",
      "Best tuning parameter is lambda = 1.\n",
      "The accuracy with this tuning parameter is 0.9812038303693571.\n"
     ]
    }
   ],
   "source": [
    "params = [0.01, 0.1, 1, 10, 100]\n",
    "\n",
    "X_trainval = X_train\n",
    "Y_trainval = Y_train\n",
    "X_trainval_t = scaler.transform(X_trainval)\n",
    "\n",
    "best_acc = 0\n",
    "best_lambd = params[0]\n",
    "\n",
    "for lambd in params:\n",
    "    c = 1 / lambd\n",
    "    LogRegModel = LogisticRegression(C=c, solver='lbfgs', max_iter=1000)\n",
    "    scores = cross_val_score(LogRegModel, X_trainval_t, Y_trainval, cv=5)\n",
    "    mean = scores.mean()\n",
    "    \n",
    "    if mean > best_acc:\n",
    "        best_acc = mean\n",
    "        best_lambd = lambd\n",
    "\n",
    "print(f'Best tuning parameter is lambda = {best_lambd}.')\n",
    "print(f'The accuracy with this tuning parameter is {best_acc}.')"
   ]
  },
  {
   "cell_type": "markdown",
   "metadata": {
    "collapsed": true
   },
   "source": [
    "#### D) From the model in previous part with the best tuning parameter selected, use the Sigmoid function to find the probability that the first test example is predicted as class 1 (malignant). "
   ]
  },
  {
   "cell_type": "code",
   "execution_count": 43,
   "metadata": {},
   "outputs": [
    {
     "name": "stdout",
     "output_type": "stream",
     "text": [
      "Probability that first test example is malignant is 0.0.\n"
     ]
    }
   ],
   "source": [
    "BestModel = LogisticRegression(C=best_lambd, solver='lbfgs', max_iter=1000)\n",
    "BestModel.fit(X_trainval_t, Y_trainval)\n",
    "\n",
    "probabilities = BestModel.predict_proba(X_test)\n",
    "\n",
    "print(f'Probability that first test example is malignant is {probabilities[0][1]}.')"
   ]
  }
 ],
 "metadata": {
  "kernelspec": {
   "display_name": "Python 3",
   "language": "python",
   "name": "python3"
  },
  "language_info": {
   "codemirror_mode": {
    "name": "ipython",
    "version": 3
   },
   "file_extension": ".py",
   "mimetype": "text/x-python",
   "name": "python",
   "nbconvert_exporter": "python",
   "pygments_lexer": "ipython3",
   "version": "3.8.3"
  }
 },
 "nbformat": 4,
 "nbformat_minor": 2
}
