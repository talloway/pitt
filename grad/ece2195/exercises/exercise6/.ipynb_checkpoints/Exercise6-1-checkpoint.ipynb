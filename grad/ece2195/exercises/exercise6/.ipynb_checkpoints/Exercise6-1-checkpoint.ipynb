{
 "cells": [
  {
   "cell_type": "markdown",
   "metadata": {},
   "source": [
    "## Exercise 6:  Unbalanced Datasets and Discriminant Analysis\n",
    "\n",
    "\n"
   ]
  },
  {
   "cell_type": "code",
   "execution_count": 41,
   "metadata": {},
   "outputs": [],
   "source": [
    "import numpy as np\n",
    "from sklearn.linear_model import LogisticRegression\n",
    "from sklearn.model_selection import train_test_split\n",
    "from sklearn.datasets import make_classification\n",
    "from sklearn.preprocessing import StandardScaler\n",
    "from sklearn.metrics import confusion_matrix, precision_score, recall_score, roc_curve, accuracy_score\n",
    "from sklearn.dummy import DummyClassifier"
   ]
  },
  {
   "cell_type": "markdown",
   "metadata": {},
   "source": [
    "\n",
    "### Part 1)\n",
    "A) The following code generates synthetic data with one feature from two classes using the make_classification function.   Split the data into train and test, then estimate the parameters needed to implement LDA classification. \n",
    "Predict the test data using the LDA discriminant score (you need to write your own implementation for evaluating the discriminant score). Feel free to double-check your answer by comparing with the Scikit-learn function."
   ]
  },
  {
   "cell_type": "code",
   "execution_count": 2,
   "metadata": {},
   "outputs": [],
   "source": [
    "X, y = make_classification(n_samples=10000, n_features=1, \\\n",
    "                           n_informative =1, n_redundant =0, \\\n",
    "                           n_classes=2, n_clusters_per_class=1, \\\n",
    "                           n_repeated=0, weights=[0.5], flip_y=0, \\\n",
    "                           random_state=0)\n",
    "\n",
    "X_train, X_test, Y_train, Y_test = train_test_split(X, y, random_state=0)\n",
    "\n",
    "# split up classes to calculate mean, variance, and priors\n",
    "c0 = []\n",
    "c1 = []\n",
    "\n",
    "for i, j in zip(X_train, Y_train):\n",
    "    val = i[0]\n",
    "    if j == 0:\n",
    "        c0.append(val)\n",
    "    else:\n",
    "        c1.append(val)\n",
    "\n",
    "c0 = np.asarray(c0)\n",
    "c1 = np.asarray(c1)"
   ]
  },
  {
   "cell_type": "code",
   "execution_count": 3,
   "metadata": {},
   "outputs": [
    {
     "name": "stdout",
     "output_type": "stream",
     "text": [
      "Accuracy is 0.94.\n"
     ]
    }
   ],
   "source": [
    "# calculate mean, variance, and priors\n",
    "u = [np.mean(c0), np.mean(c1)]                                                # means of classes\n",
    "s = (np.var(c0) + np.var(c1)) / 2                                             # weighted average of all variances\n",
    "pi = [len(c0) / (len(c0) + len(c1)), len(c1) / (len(c0) + len(c1))]           # prior class probabilities\n",
    "\n",
    "# calculate discriminant score for each class\n",
    "preds = []\n",
    "\n",
    "for sample in X_test:\n",
    "    sample = sample[0]\n",
    "    scores = []\n",
    "    \n",
    "    for k in range(0, 2):\n",
    "        score = sample * u[k]/s - u[k]**2/s**2 + np.log(pi[k])\n",
    "        scores.append(score)\n",
    "        \n",
    "    if scores[0] > scores[1]:\n",
    "        preds.append(0)\n",
    "    else:\n",
    "        preds.append(1)\n",
    "\n",
    "acc = np.count_nonzero(preds==Y_test) / len(preds)\n",
    "print('Accuracy is %.2f.' % acc)"
   ]
  },
  {
   "cell_type": "code",
   "execution_count": 4,
   "metadata": {},
   "outputs": [
    {
     "name": "stdout",
     "output_type": "stream",
     "text": [
      "Accuracy is 0.94.\n"
     ]
    }
   ],
   "source": [
    "# double check with scikit-learn LDA function\n",
    "from sklearn.discriminant_analysis import LinearDiscriminantAnalysis\n",
    "\n",
    "lda = LinearDiscriminantAnalysis()\n",
    "lda.fit(X_train, Y_train)\n",
    "lda_preds = lda.predict(X_test)\n",
    "lda_acc = np.count_nonzero(lda_preds==Y_test) / len(lda_preds)\n",
    "print('Accuracy is %.2f.' % lda_acc)"
   ]
  },
  {
   "cell_type": "markdown",
   "metadata": {},
   "source": [
    "B) With the same data generated above, Estimate the parameters needed to implement QDA classification. \n",
    "Predict the test data using the QDA discriminant score (you need to write your own implementation for evaluating the discriminant score). Find the accuracy. Feel free to double-check your answer by comparing with the Scikit-learn function."
   ]
  },
  {
   "cell_type": "code",
   "execution_count": 5,
   "metadata": {},
   "outputs": [
    {
     "name": "stdout",
     "output_type": "stream",
     "text": [
      "Accuracy is 0.98.\n"
     ]
    }
   ],
   "source": [
    "s = [np.var(c0), np.var(c1)]    # each class has its own variance now\n",
    "\n",
    "# calculate discriminant score for each class\n",
    "preds = []\n",
    "\n",
    "for sample in X_test:\n",
    "    sample = sample[0]\n",
    "    scores = []\n",
    "    \n",
    "    for k in range(0, 2):\n",
    "        score = -0.5*sample*1/s[k]*sample + sample*1/s[k]*u[k] - 0.5*u[k]*1/s[k]*u[k] -0.5*np.log(s[k]) + np.log(pi[k])\n",
    "        scores.append(score)\n",
    "        \n",
    "    if scores[0] > scores[1]:\n",
    "        preds.append(0)\n",
    "    else:\n",
    "        preds.append(1)\n",
    "\n",
    "acc = np.count_nonzero(preds==Y_test) / len(preds)\n",
    "print('Accuracy is %.2f.' % acc)"
   ]
  },
  {
   "cell_type": "code",
   "execution_count": 6,
   "metadata": {},
   "outputs": [
    {
     "name": "stdout",
     "output_type": "stream",
     "text": [
      "Accuracy is 0.98.\n"
     ]
    }
   ],
   "source": [
    "# double check with scikit-learn QDA function\n",
    "from sklearn.discriminant_analysis import QuadraticDiscriminantAnalysis\n",
    "\n",
    "qda = QuadraticDiscriminantAnalysis()\n",
    "qda.fit(X_train, Y_train)\n",
    "qda_preds = qda.predict(X_test)\n",
    "qda_acc = np.count_nonzero(qda_preds==Y_test) / len(qda_preds)\n",
    "print('Accuracy is %.2f.' % qda_acc)"
   ]
  },
  {
   "cell_type": "markdown",
   "metadata": {},
   "source": [
    "### Part 2)\n",
    "Use the make_classification function (https://scikit-learn.org/stable/modules/generated/sklearn.datasets.make_classification.html) to create an imbalanced dataset for two classes with two features. Example input argument can be: (n_samples=10000, n_features=2, n_redundant=0, n_clusters_per_class=1, weights=[0.9], flip_y=0, random_state=0). The weights argument define how imbalaced the data in the classes are.\n",
    "\n",
    "A) After creating the dataset, split it into train and test.  Train a Logistic regression classifier (use solver='lbfgs' and keep the rest with default values) and find its accuracy, precision and recall.  \n",
    "\n",
    "B) Apply a threshold of 0.5 (default) on the probability values obtained via Logisitic regression to make the prediction. Then, find the accuracy, precision and recall. You should obtain the same results as in previous part. (You can use predict_proba method to find the probabilities.)\n",
    "\n",
    "C) Change the threshold to a lower value (e.g. 0.4), and find the accuracy, precision, and recall. Evaluate the precision and recall without using sklearn.metrics. Feel free to double check your results with values obtained from sklearn.metrics library.\n",
    "\n",
    "D) Train a dummy classifier that predict the most frequent class and find its accuracy. (you can use: https://scikit-learn.org/stable/modules/generated/sklearn.dummy.DummyClassifier.html)\n",
    "    Select dummy classifier with \"most frequent\" strategy as follows: \n",
    "         - dummy_majority=DummyClassifier(strategy='most_frequent')\n",
    "E) Comment on your results\n"
   ]
  },
  {
   "cell_type": "code",
   "execution_count": 19,
   "metadata": {},
   "outputs": [
    {
     "name": "stdout",
     "output_type": "stream",
     "text": [
      "Accuracy: 0.97\n",
      "Precision: 0.94\n",
      "Recall: 0.71\n"
     ]
    }
   ],
   "source": [
    "X, y = make_classification(n_samples=10000, n_features=2, \\\n",
    "                           n_redundant =0, \\\n",
    "                           n_clusters_per_class=1, \\\n",
    "                           weights=[0.9], flip_y=0, \\\n",
    "                           random_state=0)\n",
    "\n",
    "X_train, X_test, Y_train, Y_test = train_test_split(X, y, random_state=0)\n",
    "\n",
    "LogRegModel = LogisticRegression(solver='lbfgs')\n",
    "LogRegModel.fit(X_train, Y_train)\n",
    "\n",
    "Y_pred = LogRegModel.predict(X_test)\n",
    "\n",
    "# Only do for positive class (label=1)\n",
    "print('Accuracy: %.2f' % LogRegModel.score(X_test, Y_test))\n",
    "print(f'Precision: %.2f' % precision_score(Y_test, Y_pred))\n",
    "print(f'Recall: %.2f' % recall_score(Y_test, Y_pred))"
   ]
  },
  {
   "cell_type": "code",
   "execution_count": 32,
   "metadata": {},
   "outputs": [
    {
     "name": "stdout",
     "output_type": "stream",
     "text": [
      "THRESHOLD = 0.5.\n",
      "Accuracy: 0.97\n",
      "Precision for class 1: 0.94\n",
      "Recall for class 1: 0.71\n",
      "\n",
      "\n",
      "THRESHOLD = 0.4.\n",
      "Accuracy: 0.97\n",
      "Precision for class 1: 0.96\n",
      "Recall for class 1: 0.70\n",
      "\n",
      "\n",
      "THRESHOLD = 0.3.\n",
      "Accuracy: 0.97\n",
      "Precision for class 1: 0.97\n",
      "Recall for class 1: 0.68\n",
      "\n",
      "\n"
     ]
    }
   ],
   "source": [
    "probs = LogRegModel.predict_proba(X_test)\n",
    "\n",
    "thresholds = [0.5, 0.4, 0.3]\n",
    "\n",
    "for threshold in thresholds:\n",
    "    print(f'THRESHOLD = {threshold}.')\n",
    "    \n",
    "    tp = 0\n",
    "    tn = 0\n",
    "    fn = 0\n",
    "    fp = 0\n",
    "\n",
    "    for prob, val in zip(probs, Y_test):\n",
    "        if prob[0] > threshold: # prediction is 0\n",
    "            if val == 0:\n",
    "                tn += 1\n",
    "            else:               # real value is 1\n",
    "                fn += 1\n",
    "        else:                   # prediction is 1\n",
    "            if val == 0:     \n",
    "                fp += 1\n",
    "            else:\n",
    "                tp += 1\n",
    "\n",
    "    acc = (tp + tn) / (tp + tn + fp + fn)\n",
    "    prec = tp / (tp + fp)\n",
    "    rec = tp / (tp + fn)\n",
    "\n",
    "    print('Accuracy: %.2f' % acc)\n",
    "    print('Precision: %.2f' % prec)\n",
    "    print('Recall: %.2f' % rec)\n",
    "    \n",
    "    print('\\n')"
   ]
  },
  {
   "cell_type": "code",
   "execution_count": 9,
   "metadata": {},
   "outputs": [
    {
     "name": "stdout",
     "output_type": "stream",
     "text": [
      "Accuracy: 0.90\n"
     ]
    }
   ],
   "source": [
    "dummy = DummyClassifier(strategy='most_frequent')\n",
    "dummy.fit(X_train, Y_train)\n",
    "\n",
    "print('Accuracy: %.2f' % dummy.score(X_test, Y_test))"
   ]
  },
  {
   "cell_type": "markdown",
   "metadata": {},
   "source": [
    "**(AP)** Since the dummy classifier has an accuracy around 0.91, just relying on the accuracy for the logistic regression classifier is not sufficient for this unbalanced dataset. The precision and recall metrics for each class are more useful for evaluating its performance."
   ]
  },
  {
   "cell_type": "markdown",
   "metadata": {},
   "source": [
    "### Part 3) \n",
    "In this part, we will use the handwritten digits data set of Scikit-learn (load_digits). Run the code below. Read the description of the data set and check a sample image. \n"
   ]
  },
  {
   "cell_type": "code",
   "execution_count": 50,
   "metadata": {},
   "outputs": [
    {
     "name": "stdout",
     "output_type": "stream",
     "text": [
      "dict_keys(['data', 'target', 'frame', 'feature_names', 'target_names', 'images', 'DESCR'])\n",
      ".. _digits_dataset:\n",
      "\n",
      "Optical recognition of handwritten digits dataset\n",
      "--------------------------------------------------\n",
      "\n",
      "**Data Set Characteristics:**\n",
      "\n",
      "    :Number of Instances: 5620\n",
      "    :Number of Attributes: 64\n",
      "    :Attribute Information: 8x8 image of integer pixels in the range 0..16.\n",
      "    :Missing Attribute Values: None\n",
      "    :Creator: E. Alpaydin (alpaydin '@' boun.edu.tr)\n",
      "    :Date: July; 1998\n",
      "\n",
      "This is a copy of the test set of the UCI ML hand-written digits datasets\n",
      "https://archive.ics.uci.edu/ml/datasets/Optical+Recognition+of+Handwritten+Digits\n",
      "\n",
      "The data set contains images of hand-written digits: 10 classes where\n",
      "each class refers to a digit.\n",
      "\n",
      "Preprocessing programs made available by NIST were used to extract\n",
      "normalized bitmaps of handwritten digits from a preprinted form. From a\n",
      "total of 43 people, 30 contributed to the training set and different 13\n",
      "to the test set. 32x32 bitmaps are divided into nonoverlapping blocks of\n",
      "4x4 and the number of on pixels are counted in each block. This generates\n",
      "an input matrix of 8x8 where each element is an integer in the range\n",
      "0..16. This reduces dimensionality and gives invariance to small\n",
      "distortions.\n",
      "\n",
      "For info on NIST preprocessing routines, see M. D. Garris, J. L. Blue, G.\n",
      "T. Candela, D. L. Dimmick, J. Geist, P. J. Grother, S. A. Janet, and C.\n",
      "L. Wilson, NIST Form-Based Handprint Recognition System, NISTIR 5469,\n",
      "1994.\n",
      "\n",
      ".. topic:: References\n",
      "\n",
      "  - C. Kaynak (1995) Methods of Combining Multiple Classifiers and Their\n",
      "    Applications to Handwritten Digit Recognition, MSc Thesis, Institute of\n",
      "    Graduate Studies in Science and Engineering, Bogazici University.\n",
      "  - E. Alpaydin, C. Kaynak (1998) Cascading Classifiers, Kybernetika.\n",
      "  - Ken Tang and Ponnuthurai N. Suganthan and Xi Yao and A. Kai Qin.\n",
      "    Linear dimensionalityreduction using relevance weighted LDA. School of\n",
      "    Electrical and Electronic Engineering Nanyang Technological University.\n",
      "    2005.\n",
      "  - Claudio Gentile. A New Approximate Maximal Margin Classification\n",
      "    Algorithm. NIPS. 2000.\n",
      "[ 0.  0.  0. 12. 13.  5.  0.  0.  0.  0.  0. 11. 16.  9.  0.  0.  0.  0.\n",
      "  3. 15. 16.  6.  0.  0.  0.  7. 15. 16. 16.  2.  0.  0.  0.  0.  1. 16.\n",
      " 16.  3.  0.  0.  0.  0.  1. 16. 16.  6.  0.  0.  0.  0.  1. 16. 16.  6.\n",
      "  0.  0.  0.  0.  0. 11. 16. 10.  0.  0.]\n"
     ]
    },
    {
     "data": {
      "text/plain": [
       "<Figure size 432x288 with 0 Axes>"
      ]
     },
     "metadata": {},
     "output_type": "display_data"
    },
    {
     "data": {
      "image/png": "[encoded data removed]",
      "text/plain": [
       "<Figure size 288x288 with 1 Axes>"
      ]
     },
     "metadata": {
      "needs_background": "light"
     },
     "output_type": "display_data"
    }
   ],
   "source": [
    "%matplotlib inline\n",
    "import matplotlib.pyplot as plt\n",
    "from sklearn.datasets import load_digits\n",
    "\n",
    "\n",
    "DigitsData=load_digits()\n",
    "print(DigitsData.keys()) \n",
    "print(DigitsData.DESCR) #read description of the dataset\n",
    "print(DigitsData.data[1])\n",
    "\n",
    "#plot one of the images in the data\n",
    "plt.gray() \n",
    "plt.matshow(DigitsData.images[1]) \n",
    "plt.show() "
   ]
  },
  {
   "cell_type": "markdown",
   "metadata": {},
   "source": [
    "A) Our objective is to build classfiers that identify digit 9. For this purpose, answer the following:\n",
    "\n",
    " Define the target value to be equal to 1 (or True) only for digit 9, and 0 (or False) otherwise.\n",
    "You can define: y= (DigitsData.target == 9)\n",
    "\n",
    "\n",
    "- Find how many times y is equal to 9 and how many times it is not equal to 9\n",
    "\n",
    "what do you observe? Is the dataset for this classification problem balanced or not?\n",
    "\n"
   ]
  },
  {
   "cell_type": "code",
   "execution_count": 58,
   "metadata": {},
   "outputs": [
    {
     "name": "stdout",
     "output_type": "stream",
     "text": [
      "Number of times y is equal to 9: 180.\n",
      "Number of times y is not equal to 9: 1617.\n"
     ]
    }
   ],
   "source": [
    "y = np.array((DigitsData.target == 9),dtype=int)\n",
    "\n",
    "t = np.count_nonzero(y==True)\n",
    "f = np.count_nonzero(y==False)\n",
    "\n",
    "print(f'Number of times y is equal to 9: {t}.')\n",
    "print(f'Number of times y is not equal to 9: {f}.')"
   ]
  },
  {
   "cell_type": "markdown",
   "metadata": {},
   "source": [
    "**(AP)** The dataset is not balanced."
   ]
  },
  {
   "cell_type": "markdown",
   "metadata": {},
   "source": [
    "B) Find the accuracy of a dummy classifier (imported below) that always selects the majority class. Use the DigitsData.data as features and y (defined above) as the response.\n",
    "\n",
    "- Use train_test_split with random_state= 0 for splitting the data\n",
    "- Select dummy classifier with \"most frequent\" strategy as follows: \n",
    "    - dummy_majority=DummyClassifier(strategy='most_frequent')\n"
   ]
  },
  {
   "cell_type": "code",
   "execution_count": 59,
   "metadata": {},
   "outputs": [
    {
     "name": "stdout",
     "output_type": "stream",
     "text": [
      "Accuracy: 0.90\n"
     ]
    }
   ],
   "source": [
    "X = DigitsData.data\n",
    "X_train, X_test, Y_train, Y_test = train_test_split(X, y, random_state=0)\n",
    "\n",
    "dummy = DummyClassifier(strategy='most_frequent')\n",
    "\n",
    "dummy.fit(X_train, Y_train)\n",
    "\n",
    "print('Accuracy: %.2f' % dummy.score(X_test, Y_test))"
   ]
  },
  {
   "cell_type": "markdown",
   "metadata": {},
   "source": [
    "C) Instead of a dummy classifier, use an LDA classifer (with default threshold) to solve the above classification problem. Find accuracy, confusion matrix, precision, and recall\n",
    "\n",
    "- Note: you may get a warning that features are correlated (collinear). However, we can still get the performance metrics as usual"
   ]
  },
  {
   "cell_type": "code",
   "execution_count": 60,
   "metadata": {},
   "outputs": [
    {
     "name": "stdout",
     "output_type": "stream",
     "text": [
      "Accuracy is 0.96.\n",
      "[[394   9]\n",
      " [  7  40]]\n",
      "Precision is 0.82.\n",
      "Recall is 0.85.\n"
     ]
    }
   ],
   "source": [
    "lda = LinearDiscriminantAnalysis()\n",
    "\n",
    "lda.fit(X_train, Y_train)\n",
    "lda_preds = lda.predict(X_test)\n",
    "\n",
    "print('Accuracy is %.2f.' % accuracy_score(Y_test, lda_preds))\n",
    "print(confusion_matrix(Y_test, lda_preds))\n",
    "print(f'Precision is %.2f.' % precision_score(Y_test, lda_preds))\n",
    "print(f'Recall is %.2f.' % recall_score(Y_test, lda_preds))"
   ]
  },
  {
   "cell_type": "markdown",
   "metadata": {},
   "source": [
    "D) Use QDA classifer to perform the classification. Find accuracy, confusion matrix, precision, and recall.\n",
    "- Note: expect to see a warning that features are correlated (collinear). You can still get performance metrics."
   ]
  },
  {
   "cell_type": "code",
   "execution_count": 61,
   "metadata": {},
   "outputs": [
    {
     "name": "stdout",
     "output_type": "stream",
     "text": [
      "Accuracy is 0.76.\n",
      "[[299 104]\n",
      " [  2  45]]\n",
      "Precision is 0.30.\n",
      "Recall is 0.96.\n"
     ]
    },
    {
     "name": "stderr",
     "output_type": "stream",
     "text": [
      "C:\\Users\\Avery Peiffer\\anaconda3_new\\lib\\site-packages\\sklearn\\discriminant_analysis.py:715: UserWarning: Variables are collinear\n",
      "  warnings.warn(\"Variables are collinear\")\n"
     ]
    }
   ],
   "source": [
    "from sklearn.discriminant_analysis import QuadraticDiscriminantAnalysis\n",
    "\n",
    "qda = QuadraticDiscriminantAnalysis()\n",
    "\n",
    "qda.fit(X_train, Y_train)\n",
    "qda_preds = qda.predict(X_test)\n",
    "\n",
    "print('Accuracy is %.2f.' % accuracy_score(Y_test, qda_preds))\n",
    "print(confusion_matrix(Y_test, qda_preds))\n",
    "print(f'Precision is %.2f.' % precision_score(Y_test, qda_preds))\n",
    "print(f'Recall is %.2f.' % recall_score(Y_test, qda_preds))"
   ]
  },
  {
   "cell_type": "markdown",
   "metadata": {},
   "source": [
    "E) From the prediction of the QDA, plot the ROC curve"
   ]
  },
  {
   "cell_type": "code",
   "execution_count": 62,
   "metadata": {},
   "outputs": [
    {
     "data": {
      "text/plain": [
       "<sklearn.metrics._plot.roc_curve.RocCurveDisplay at 0x1e2146bb7f0>"
      ]
     },
     "execution_count": 62,
     "metadata": {},
     "output_type": "execute_result"
    },
    {
     "data": {
      "image/png": "[encoded data removed]",
      "text/plain": [
       "<Figure size 432x288 with 1 Axes>"
      ]
     },
     "metadata": {
      "needs_background": "light"
     },
     "output_type": "display_data"
    }
   ],
   "source": [
    "from sklearn.metrics import plot_roc_curve\n",
    "\n",
    "plot_roc_curve(qda, X_test, Y_test)"
   ]
  }
 ],
 "metadata": {
  "kernelspec": {
   "display_name": "Python 3",
   "language": "python",
   "name": "python3"
  },
  "language_info": {
   "codemirror_mode": {
    "name": "ipython",
    "version": 3
   },
   "file_extension": ".py",
   "mimetype": "text/x-python",
   "name": "python",
   "nbconvert_exporter": "python",
   "pygments_lexer": "ipython3",
   "version": "3.8.3"
  }
 },
 "nbformat": 4,
 "nbformat_minor": 2
}
