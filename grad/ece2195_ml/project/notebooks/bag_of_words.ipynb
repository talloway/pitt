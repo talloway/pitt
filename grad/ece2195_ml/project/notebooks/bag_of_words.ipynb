{
 "cells": [
  {
   "cell_type": "markdown",
   "metadata": {},
   "source": [
    "# Bag-Of-Words Analysis\n",
    "\n",
    "This notebook includes preliminary analysis of bagging, random forest, and AdaBoost using bag-of-words (BoW) features. Random Forest Evaluation is then performed in more details using BoW features."
   ]
  },
  {
   "cell_type": "markdown",
   "metadata": {},
   "source": [
    "## Preliminary BoW Analysis"
   ]
  },
  {
   "cell_type": "code",
   "execution_count": 31,
   "metadata": {},
   "outputs": [],
   "source": [
    "import pandas as pd\n",
    "\n",
    "# read in all data\n",
    "test = pd.read_csv('../data/test.txt', delimiter=';', names=['text', 'target'])\n",
    "train = pd.read_csv('../data/train.txt', delimiter=';',\n",
    "                    names=['text', 'target'])\n",
    "val = pd.read_csv('../data/val.txt', delimiter=';', names=['text', 'target'])\n",
    "trainval = pd.concat([train,val])\n",
    "testval = pd.concat([test,val])"
   ]
  },
  {
   "cell_type": "code",
   "execution_count": 32,
   "metadata": {},
   "outputs": [
    {
     "name": "stdout",
     "output_type": "stream",
     "text": [
      "Number of Features in BoW:  3397\n"
     ]
    }
   ],
   "source": [
    "import numpy as np\n",
    "from sklearn.feature_extraction.text import CountVectorizer\n",
    "\n",
    "# create vectorier for BoW\n",
    "vectorizer = CountVectorizer(max_df=.5,min_df=5, ngram_range=(1,1), stop_words='english')\n",
    "BoW = vectorizer.fit_transform(trainval.text)\n",
    "print('Number of Features in BoW: ',len(vectorizer.get_feature_names_out()))\n",
    "\n",
    "X_trainval = vectorizer.transform(trainval.text).toarray()\n",
    "Y_trainval = trainval.target\n",
    "X_train = vectorizer.transform(train.text).toarray()\n",
    "Y_train = train.target\n",
    "X_val = vectorizer.transform(val.text).toarray()\n",
    "Y_val = val.target\n",
    "X_test = vectorizer.transform(test.text).toarray()\n",
    "Y_test = test.target\n"
   ]
  },
  {
   "cell_type": "markdown",
   "metadata": {},
   "source": [
    "### Bagging Classification with DT"
   ]
  },
  {
   "cell_type": "code",
   "execution_count": 33,
   "metadata": {},
   "outputs": [],
   "source": [
    "from sklearn.tree import DecisionTreeClassifier\n",
    "from sklearn.ensemble import BaggingClassifier\n",
    "import sklearn.metrics as skm\n",
    "\n",
    "bag = BaggingClassifier(n_estimators=10, random_state=0)\n",
    "bag.fit(X_train, Y_train)\n",
    "Y_test_pred = bag.predict(X_test)\n",
    "\n",
    "train_acc = bag.score(X_train, Y_train)\n",
    "test_acc = bag.score(X_test, Y_test)\n"
   ]
  },
  {
   "cell_type": "code",
   "execution_count": 34,
   "metadata": {},
   "outputs": [
    {
     "name": "stdout",
     "output_type": "stream",
     "text": [
      "---------------- Bagging Statistics ----------------\n",
      "Train Accuracy: 0.9833\n",
      "Test Accuracy: 0.849\n",
      "              precision    recall  f1-score   support\n",
      "\n",
      "       anger       0.83      0.91      0.87       275\n",
      "        fear       0.83      0.87      0.85       224\n",
      "         joy       0.90      0.82      0.86       695\n",
      "        love       0.71      0.75      0.73       159\n",
      "     sadness       0.88      0.89      0.89       581\n",
      "    surprise       0.60      0.65      0.62        66\n",
      "\n",
      "    accuracy                           0.85      2000\n",
      "   macro avg       0.79      0.82      0.80      2000\n",
      "weighted avg       0.85      0.85      0.85      2000\n",
      "\n"
     ]
    },
    {
     "data": {
      "text/html": [
       "<div>\n",
       "<style scoped>\n",
       "    .dataframe tbody tr th:only-of-type {\n",
       "        vertical-align: middle;\n",
       "    }\n",
       "\n",
       "    .dataframe tbody tr th {\n",
       "        vertical-align: top;\n",
       "    }\n",
       "\n",
       "    .dataframe thead th {\n",
       "        text-align: right;\n",
       "    }\n",
       "</style>\n",
       "<table border=\"1\" class=\"dataframe\">\n",
       "  <thead>\n",
       "    <tr style=\"text-align: right;\">\n",
       "      <th></th>\n",
       "      <th>anger</th>\n",
       "      <th>fear</th>\n",
       "      <th>joy</th>\n",
       "      <th>love</th>\n",
       "      <th>sadness</th>\n",
       "      <th>surprise</th>\n",
       "    </tr>\n",
       "  </thead>\n",
       "  <tbody>\n",
       "    <tr>\n",
       "      <th>anger</th>\n",
       "      <td>250</td>\n",
       "      <td>5</td>\n",
       "      <td>7</td>\n",
       "      <td>1</td>\n",
       "      <td>10</td>\n",
       "      <td>2</td>\n",
       "    </tr>\n",
       "    <tr>\n",
       "      <th>fear</th>\n",
       "      <td>8</td>\n",
       "      <td>195</td>\n",
       "      <td>1</td>\n",
       "      <td>1</td>\n",
       "      <td>7</td>\n",
       "      <td>12</td>\n",
       "    </tr>\n",
       "    <tr>\n",
       "      <th>joy</th>\n",
       "      <td>17</td>\n",
       "      <td>9</td>\n",
       "      <td>572</td>\n",
       "      <td>40</td>\n",
       "      <td>50</td>\n",
       "      <td>7</td>\n",
       "    </tr>\n",
       "    <tr>\n",
       "      <th>love</th>\n",
       "      <td>2</td>\n",
       "      <td>0</td>\n",
       "      <td>33</td>\n",
       "      <td>119</td>\n",
       "      <td>3</td>\n",
       "      <td>2</td>\n",
       "    </tr>\n",
       "    <tr>\n",
       "      <th>sadness</th>\n",
       "      <td>22</td>\n",
       "      <td>14</td>\n",
       "      <td>13</td>\n",
       "      <td>7</td>\n",
       "      <td>519</td>\n",
       "      <td>6</td>\n",
       "    </tr>\n",
       "    <tr>\n",
       "      <th>surprise</th>\n",
       "      <td>1</td>\n",
       "      <td>13</td>\n",
       "      <td>7</td>\n",
       "      <td>0</td>\n",
       "      <td>2</td>\n",
       "      <td>43</td>\n",
       "    </tr>\n",
       "  </tbody>\n",
       "</table>\n",
       "</div>"
      ],
      "text/plain": [
       "          anger  fear  joy  love  sadness  surprise\n",
       "anger       250     5    7     1       10         2\n",
       "fear          8   195    1     1        7        12\n",
       "joy          17     9  572    40       50         7\n",
       "love          2     0   33   119        3         2\n",
       "sadness      22    14   13     7      519         6\n",
       "surprise      1    13    7     0        2        43"
      ]
     },
     "execution_count": 34,
     "metadata": {},
     "output_type": "execute_result"
    }
   ],
   "source": [
    "# get metrics\n",
    "\n",
    "print('---------------- Bagging Statistics ----------------')\n",
    "print('Train Accuracy: {:.4}'.format(train_acc))\n",
    "print('Test Accuracy: {:.4}'.format(test_acc))\n",
    "print(skm.classification_report(Y_test, Y_test_pred))\n",
    "pd.DataFrame(skm.confusion_matrix(Y_test, Y_test_pred), \n",
    "    columns=['anger', 'fear', 'joy', 'love', 'sadness', 'surprise'],\n",
    "             index=['anger', 'fear', 'joy', 'love', 'sadness', 'surprise'])\n"
   ]
  },
  {
   "cell_type": "markdown",
   "metadata": {},
   "source": [
    "### Random Forest with DT"
   ]
  },
  {
   "cell_type": "code",
   "execution_count": 35,
   "metadata": {},
   "outputs": [],
   "source": [
    "from sklearn.ensemble import RandomForestClassifier\n",
    "import sklearn.metrics as skm\n",
    "\n",
    "rf = RandomForestClassifier(n_estimators=10, random_state=0)\n",
    "rf.fit(X_train, Y_train)\n",
    "Y_test_pred = rf.predict(X_test)\n",
    "\n",
    "train_acc = rf.score(X_train, Y_train)\n",
    "test_acc = rf.score(X_test, Y_test)\n"
   ]
  },
  {
   "cell_type": "code",
   "execution_count": 36,
   "metadata": {},
   "outputs": [
    {
     "name": "stdout",
     "output_type": "stream",
     "text": [
      "------------- Random Forest Statistics -------------\n",
      "Train Accuracy: 0.9892\n",
      "Test Accuracy: 0.879\n",
      "              precision    recall  f1-score   support\n",
      "\n",
      "       anger       0.87      0.91      0.89       275\n",
      "        fear       0.85      0.89      0.87       224\n",
      "         joy       0.90      0.89      0.90       695\n",
      "        love       0.75      0.79      0.77       159\n",
      "     sadness       0.92      0.90      0.91       581\n",
      "    surprise       0.70      0.64      0.67        66\n",
      "\n",
      "    accuracy                           0.88      2000\n",
      "   macro avg       0.83      0.84      0.83      2000\n",
      "weighted avg       0.88      0.88      0.88      2000\n",
      "\n"
     ]
    },
    {
     "data": {
      "text/html": [
       "<div>\n",
       "<style scoped>\n",
       "    .dataframe tbody tr th:only-of-type {\n",
       "        vertical-align: middle;\n",
       "    }\n",
       "\n",
       "    .dataframe tbody tr th {\n",
       "        vertical-align: top;\n",
       "    }\n",
       "\n",
       "    .dataframe thead th {\n",
       "        text-align: right;\n",
       "    }\n",
       "</style>\n",
       "<table border=\"1\" class=\"dataframe\">\n",
       "  <thead>\n",
       "    <tr style=\"text-align: right;\">\n",
       "      <th></th>\n",
       "      <th>anger</th>\n",
       "      <th>fear</th>\n",
       "      <th>joy</th>\n",
       "      <th>love</th>\n",
       "      <th>sadness</th>\n",
       "      <th>surprise</th>\n",
       "    </tr>\n",
       "  </thead>\n",
       "  <tbody>\n",
       "    <tr>\n",
       "      <th>anger</th>\n",
       "      <td>250</td>\n",
       "      <td>5</td>\n",
       "      <td>9</td>\n",
       "      <td>1</td>\n",
       "      <td>9</td>\n",
       "      <td>1</td>\n",
       "    </tr>\n",
       "    <tr>\n",
       "      <th>fear</th>\n",
       "      <td>10</td>\n",
       "      <td>200</td>\n",
       "      <td>0</td>\n",
       "      <td>0</td>\n",
       "      <td>7</td>\n",
       "      <td>7</td>\n",
       "    </tr>\n",
       "    <tr>\n",
       "      <th>joy</th>\n",
       "      <td>5</td>\n",
       "      <td>6</td>\n",
       "      <td>619</td>\n",
       "      <td>34</td>\n",
       "      <td>24</td>\n",
       "      <td>7</td>\n",
       "    </tr>\n",
       "    <tr>\n",
       "      <th>love</th>\n",
       "      <td>2</td>\n",
       "      <td>0</td>\n",
       "      <td>30</td>\n",
       "      <td>125</td>\n",
       "      <td>1</td>\n",
       "      <td>1</td>\n",
       "    </tr>\n",
       "    <tr>\n",
       "      <th>sadness</th>\n",
       "      <td>19</td>\n",
       "      <td>11</td>\n",
       "      <td>20</td>\n",
       "      <td>7</td>\n",
       "      <td>522</td>\n",
       "      <td>2</td>\n",
       "    </tr>\n",
       "    <tr>\n",
       "      <th>surprise</th>\n",
       "      <td>1</td>\n",
       "      <td>12</td>\n",
       "      <td>9</td>\n",
       "      <td>0</td>\n",
       "      <td>2</td>\n",
       "      <td>42</td>\n",
       "    </tr>\n",
       "  </tbody>\n",
       "</table>\n",
       "</div>"
      ],
      "text/plain": [
       "          anger  fear  joy  love  sadness  surprise\n",
       "anger       250     5    9     1        9         1\n",
       "fear         10   200    0     0        7         7\n",
       "joy           5     6  619    34       24         7\n",
       "love          2     0   30   125        1         1\n",
       "sadness      19    11   20     7      522         2\n",
       "surprise      1    12    9     0        2        42"
      ]
     },
     "execution_count": 36,
     "metadata": {},
     "output_type": "execute_result"
    }
   ],
   "source": [
    "print('------------- Random Forest Statistics -------------')\n",
    "print('Train Accuracy: {:.4}'.format(train_acc))\n",
    "print('Test Accuracy: {:.4}'.format(test_acc))\n",
    "print(skm.classification_report(Y_test, Y_test_pred))\n",
    "pd.DataFrame(skm.confusion_matrix(Y_test, Y_test_pred),\n",
    "             columns=['anger', 'fear', 'joy', 'love', 'sadness', 'surprise'],\n",
    "             index=['anger', 'fear', 'joy', 'love', 'sadness', 'surprise'])"
   ]
  },
  {
   "cell_type": "markdown",
   "metadata": {},
   "source": [
    "### AdaBoost Classification with DT"
   ]
  },
  {
   "cell_type": "code",
   "execution_count": 37,
   "metadata": {},
   "outputs": [],
   "source": [
    "from sklearn.ensemble import AdaBoostClassifier\n",
    "import sklearn.metrics as skm\n",
    "\n",
    "ada = AdaBoostClassifier(n_estimators=1000, random_state=0)\n",
    "ada.fit(X_train, Y_train)\n",
    "Y_test_pred = ada.predict(X_test)\n",
    "\n",
    "train_acc = ada.score(X_train, Y_train)\n",
    "test_acc = ada.score(X_test, Y_test)\n"
   ]
  },
  {
   "cell_type": "code",
   "execution_count": 38,
   "metadata": {},
   "outputs": [
    {
     "name": "stdout",
     "output_type": "stream",
     "text": [
      "---------------- AdaBoost Statistics ----------------\n",
      "Train Accuracy: 0.3806\n",
      "Test Accuracy: 0.3925\n",
      "              precision    recall  f1-score   support\n",
      "\n",
      "       anger       0.81      0.09      0.17       275\n",
      "        fear       0.66      0.24      0.35       224\n",
      "         joy       0.37      0.94      0.53       695\n",
      "        love       0.51      0.24      0.32       159\n",
      "     sadness       0.00      0.00      0.00       581\n",
      "    surprise       0.72      0.20      0.31        66\n",
      "\n",
      "    accuracy                           0.39      2000\n",
      "   macro avg       0.51      0.29      0.28      2000\n",
      "weighted avg       0.38      0.39      0.28      2000\n",
      "\n"
     ]
    },
    {
     "data": {
      "text/html": [
       "<div>\n",
       "<style scoped>\n",
       "    .dataframe tbody tr th:only-of-type {\n",
       "        vertical-align: middle;\n",
       "    }\n",
       "\n",
       "    .dataframe tbody tr th {\n",
       "        vertical-align: top;\n",
       "    }\n",
       "\n",
       "    .dataframe thead th {\n",
       "        text-align: right;\n",
       "    }\n",
       "</style>\n",
       "<table border=\"1\" class=\"dataframe\">\n",
       "  <thead>\n",
       "    <tr style=\"text-align: right;\">\n",
       "      <th></th>\n",
       "      <th>anger</th>\n",
       "      <th>fear</th>\n",
       "      <th>joy</th>\n",
       "      <th>love</th>\n",
       "      <th>sadness</th>\n",
       "      <th>surprise</th>\n",
       "    </tr>\n",
       "  </thead>\n",
       "  <tbody>\n",
       "    <tr>\n",
       "      <th>anger</th>\n",
       "      <td>26</td>\n",
       "      <td>5</td>\n",
       "      <td>244</td>\n",
       "      <td>0</td>\n",
       "      <td>0</td>\n",
       "      <td>0</td>\n",
       "    </tr>\n",
       "    <tr>\n",
       "      <th>fear</th>\n",
       "      <td>1</td>\n",
       "      <td>54</td>\n",
       "      <td>168</td>\n",
       "      <td>1</td>\n",
       "      <td>0</td>\n",
       "      <td>0</td>\n",
       "    </tr>\n",
       "    <tr>\n",
       "      <th>joy</th>\n",
       "      <td>4</td>\n",
       "      <td>0</td>\n",
       "      <td>654</td>\n",
       "      <td>33</td>\n",
       "      <td>1</td>\n",
       "      <td>3</td>\n",
       "    </tr>\n",
       "    <tr>\n",
       "      <th>love</th>\n",
       "      <td>1</td>\n",
       "      <td>2</td>\n",
       "      <td>118</td>\n",
       "      <td>38</td>\n",
       "      <td>0</td>\n",
       "      <td>0</td>\n",
       "    </tr>\n",
       "    <tr>\n",
       "      <th>sadness</th>\n",
       "      <td>0</td>\n",
       "      <td>3</td>\n",
       "      <td>573</td>\n",
       "      <td>3</td>\n",
       "      <td>0</td>\n",
       "      <td>2</td>\n",
       "    </tr>\n",
       "    <tr>\n",
       "      <th>surprise</th>\n",
       "      <td>0</td>\n",
       "      <td>18</td>\n",
       "      <td>29</td>\n",
       "      <td>0</td>\n",
       "      <td>6</td>\n",
       "      <td>13</td>\n",
       "    </tr>\n",
       "  </tbody>\n",
       "</table>\n",
       "</div>"
      ],
      "text/plain": [
       "          anger  fear  joy  love  sadness  surprise\n",
       "anger        26     5  244     0        0         0\n",
       "fear          1    54  168     1        0         0\n",
       "joy           4     0  654    33        1         3\n",
       "love          1     2  118    38        0         0\n",
       "sadness       0     3  573     3        0         2\n",
       "surprise      0    18   29     0        6        13"
      ]
     },
     "execution_count": 38,
     "metadata": {},
     "output_type": "execute_result"
    }
   ],
   "source": [
    "\n",
    "print('---------------- AdaBoost Statistics ----------------')\n",
    "print('Train Accuracy: {:.4}'.format(train_acc))\n",
    "print('Test Accuracy: {:.4}'.format(test_acc))\n",
    "print(skm.classification_report(Y_test, Y_test_pred))\n",
    "pd.DataFrame(skm.confusion_matrix(Y_test, Y_test_pred),\n",
    "             columns=['anger', 'fear', 'joy', 'love', 'sadness', 'surprise'],\n",
    "             index=['anger', 'fear', 'joy', 'love', 'sadness', 'surprise'])\n"
   ]
  },
  {
   "cell_type": "markdown",
   "metadata": {},
   "source": [
    "## Detailed Analysis and Fine Tuning \n",
    "**Random Forrest** showed the most promising initial results. In this section we fine tune parameters and perform additional evaluation of the model and its performance."
   ]
  },
  {
   "cell_type": "markdown",
   "metadata": {},
   "source": [
    "### BoW Generation and Dataset Transformation\n",
    "We duplicate here from above for additional testing and tuning if required."
   ]
  },
  {
   "cell_type": "code",
   "execution_count": 39,
   "metadata": {},
   "outputs": [
    {
     "name": "stdout",
     "output_type": "stream",
     "text": [
      "Number of Features in BoW:  3397\n"
     ]
    }
   ],
   "source": [
    "import numpy as np\n",
    "from sklearn.feature_extraction.text import CountVectorizer\n",
    "from sklearn.preprocessing import LabelEncoder\n",
    "\n",
    "# create vectorier for BoW\n",
    "vectorizer = CountVectorizer(max_df=0.5, min_df=5, stop_words='english', ngram_range=(1, 1))\n",
    "BoW = vectorizer.fit_transform(trainval.text)\n",
    "print('Number of Features in BoW: ', len(vectorizer.get_feature_names_out()))\n",
    "\n",
    "enc = LabelEncoder().fit(['anger', 'fear', 'joy', 'love', 'sadness', 'surprise'])\n",
    "\n",
    "# transform all the data\n",
    "X_trainval = vectorizer.transform(trainval.text).toarray()\n",
    "Y_trainval = enc.transform(trainval.target)\n",
    "X_train = vectorizer.transform(train.text).toarray()\n",
    "Y_train = enc.transform(train.target)\n",
    "X_val = vectorizer.transform(val.text).toarray()\n",
    "Y_val = enc.transform(val.target)\n",
    "X_test = vectorizer.transform(test.text).toarray()\n",
    "Y_test = enc.transform(test.target)\n",
    "\n",
    "\n"
   ]
  },
  {
   "cell_type": "markdown",
   "metadata": {},
   "source": [
    "### Multiclass ROC Curve Function\n",
    "Function to generate a multiclass ROC plot. We'll use this for further evaluation."
   ]
  },
  {
   "cell_type": "code",
   "execution_count": 40,
   "metadata": {},
   "outputs": [],
   "source": [
    "import matplotlib.pyplot as plt\n",
    "from sklearn.metrics import roc_curve\n",
    "from sklearn.metrics import auc\n",
    "from itertools import cycle\n",
    "from sklearn.metrics import RocCurveDisplay\n",
    "\n",
    "classes = ['anger', 'fear', 'joy', 'love', 'sadness', 'surprise']\n",
    "\n",
    "def plot_mc_roc(Y_test_bin, Y_test_proba, n_classes, title='ROC Curve'):\n",
    "    ax = plt.axes()\n",
    "    leg = []\n",
    "    for i in range(n_classes):\n",
    "        y_score = Y_test_proba[:, i]\n",
    "        fpr, tpr, _ = roc_curve(Y_test_bin[:, i], y_score)\n",
    "        roc_auc = auc(fpr, tpr)\n",
    "        leg.append(classes[i] + ' (auc = {:.4})'.format(roc_auc))\n",
    "        RocCurveDisplay(fpr=fpr, tpr=tpr).plot(ax=ax)\n",
    "\n",
    "    plt.xlim((0, .4))\n",
    "    plt.ylim((.6, 1))\n",
    "    plt.legend(leg)\n",
    "    plt.title(title)\n"
   ]
  },
  {
   "cell_type": "markdown",
   "metadata": {},
   "source": [
    "### Evaluate Hyperparameters"
   ]
  },
  {
   "cell_type": "markdown",
   "metadata": {},
   "source": [
    "#### N-Estimators Evaluation\n",
    "Evaluating random forrest performance as the number of estimator trees is changed."
   ]
  },
  {
   "cell_type": "code",
   "execution_count": 41,
   "metadata": {},
   "outputs": [
    {
     "data": {
      "text/plain": [
       "<matplotlib.legend.Legend at 0x244db6c7550>"
      ]
     },
     "execution_count": 41,
     "metadata": {},
     "output_type": "execute_result"
    },
    {
     "data": {
      "image/png": "[encoded data removed]",
      "text/plain": [
       "<Figure size 432x288 with 1 Axes>"
      ]
     },
     "metadata": {
      "needs_background": "light"
     },
     "output_type": "display_data"
    }
   ],
   "source": [
    "from sklearn.ensemble import RandomForestClassifier\n",
    "from sklearn.metrics import f1_score\n",
    "import matplotlib.pyplot as plt\n",
    "\n",
    "train_F1 = []\n",
    "test_F1 = []\n",
    "ne_samps = [1, 2, 3, 5, 7, 10, 15, 25, 50, 100]\n",
    "for ne in ne_samps:\n",
    "    rf = RandomForestClassifier(n_estimators=ne, random_state=0)\n",
    "    rf.fit(X_trainval, Y_trainval)\n",
    "    Y_test_pred = rf.predict(X_test)\n",
    "    Y_train_pred = rf.predict(X_trainval)\n",
    "    train_F1.append(f1_score(Y_trainval, Y_train_pred, average='micro'))\n",
    "    test_F1.append(f1_score(Y_test, Y_test_pred, average='micro'))\n",
    "\n",
    "plt.xlabel('N-Estimators')\n",
    "plt.ylabel('Micro F1-Score')\n",
    "plt.title('F1-Score vs. N-Estimators')\n",
    "plt.plot(ne_samps, train_F1)\n",
    "plt.plot(ne_samps, test_F1)\n",
    "plt.legend(['Train','Test'])"
   ]
  },
  {
   "cell_type": "markdown",
   "metadata": {},
   "source": [
    "#### Max Features Evaluation"
   ]
  },
  {
   "cell_type": "code",
   "execution_count": 42,
   "metadata": {},
   "outputs": [
    {
     "data": {
      "text/plain": [
       "<matplotlib.legend.Legend at 0x244db1c42b0>"
      ]
     },
     "execution_count": 42,
     "metadata": {},
     "output_type": "execute_result"
    },
    {
     "data": {
      "image/png": "[encoded data removed]",
      "text/plain": [
       "<Figure size 432x288 with 1 Axes>"
      ]
     },
     "metadata": {
      "needs_background": "light"
     },
     "output_type": "display_data"
    }
   ],
   "source": [
    "from sklearn.ensemble import RandomForestClassifier\n",
    "from sklearn.metrics import f1_score\n",
    "import matplotlib.pyplot as plt\n",
    "\n",
    "train_F1 = []\n",
    "test_F1 = []\n",
    "mf_samps = [1, 5, 10, 25, 50, 100, 150, 200]\n",
    "for mf in mf_samps:\n",
    "    rf = RandomForestClassifier(n_estimators=25, max_features=mf, random_state=0)\n",
    "    rf.fit(X_trainval, Y_trainval)\n",
    "    Y_test_pred = rf.predict(X_test)\n",
    "    Y_train_pred = rf.predict(X_trainval)\n",
    "    train_F1.append(f1_score(Y_trainval, Y_train_pred, average='micro'))\n",
    "    test_F1.append(f1_score(Y_test, Y_test_pred, average='micro'))\n",
    "\n",
    "plt.xlabel('max_features')\n",
    "plt.ylabel('Micro F1-Score')\n",
    "plt.title('F1-Score vs. Max Features')\n",
    "plt.plot(mf_samps, train_F1)\n",
    "plt.plot(mf_samps, test_F1)\n",
    "plt.legend(['Train', 'Test'])\n"
   ]
  },
  {
   "cell_type": "markdown",
   "metadata": {},
   "source": [
    "### Train Model"
   ]
  },
  {
   "cell_type": "code",
   "execution_count": 43,
   "metadata": {},
   "outputs": [
    {
     "name": "stdout",
     "output_type": "stream",
     "text": [
      "              precision    recall  f1-score   support\n",
      "\n",
      "           0      0.865     0.909     0.887       275\n",
      "           1      0.887     0.839     0.862       224\n",
      "           2      0.911     0.899     0.905       695\n",
      "           3      0.742     0.723     0.732       159\n",
      "           4      0.930     0.917     0.924       581\n",
      "           5      0.659     0.848     0.742        66\n",
      "\n",
      "    accuracy                          0.884      2000\n",
      "   macro avg      0.832     0.856     0.842      2000\n",
      "weighted avg      0.886     0.883     0.884      2000\n",
      "\n",
      "Top-2 Accuracy:  0.981\n"
     ]
    },
    {
     "data": {
      "text/plain": [
       "<sklearn.metrics._plot.confusion_matrix.ConfusionMatrixDisplay at 0x244e21b9748>"
      ]
     },
     "execution_count": 43,
     "metadata": {},
     "output_type": "execute_result"
    },
    {
     "data": {
      "image/png": "[encoded data removed]",
      "text/plain": [
       "<Figure size 576x432 with 2 Axes>"
      ]
     },
     "metadata": {
      "needs_background": "light"
     },
     "output_type": "display_data"
    }
   ],
   "source": [
    "from sklearn.ensemble import RandomForestClassifier\n",
    "import sklearn.metrics as skm\n",
    "import matplotlib.pyplot as plt\n",
    "\n",
    "rf = RandomForestClassifier(n_estimators=25, max_features=50, random_state=0)\n",
    "rf.fit(X_trainval, Y_trainval)\n",
    "Y_test_pred = rf.predict(X_test)\n",
    "Y_test_proba = rf.predict_proba(X_test)\n",
    "print(skm.classification_report(Y_test, Y_test_pred, digits=3))\n",
    "print('Top-2 Accuracy: ', skm.top_k_accuracy_score(Y_test, Y_test_proba,k=2))\n",
    "plt.figure(figsize=(8, 6))\n",
    "ax = plt.axes()\n",
    "skm.ConfusionMatrixDisplay(skm.confusion_matrix(Y_test, Y_test_pred), display_labels=classes).plot(ax=ax)\n",
    "\n"
   ]
  },
  {
   "cell_type": "markdown",
   "metadata": {},
   "source": [
    "#### plot ROC curve for un-tuned Random Forrest Classifier"
   ]
  },
  {
   "cell_type": "code",
   "execution_count": 44,
   "metadata": {},
   "outputs": [
    {
     "data": {
      "image/png": "[encoded data removed]",
      "text/plain": [
       "<Figure size 432x288 with 1 Axes>"
      ]
     },
     "metadata": {
      "needs_background": "light"
     },
     "output_type": "display_data"
    }
   ],
   "source": [
    "from sklearn.preprocessing import label_binarize\n",
    "\n",
    "Y_test_bin = label_binarize(Y_test, classes=[0, 1, 2, 3, 4, 5])\n",
    "Y_test_proba = rf.predict_proba(X_test)\n",
    "plot_mc_roc(Y_test_bin, Y_test_proba, n_classes=6, title='ROC for Tuned Random Forrest (one-vs-all)')"
   ]
  }
 ],
 "metadata": {
  "interpreter": {
   "hash": "7ccb67de7081a05f54dc297e18d4107ab1f61dedc55f288c5f31e7d83840b6d4"
  },
  "kernelspec": {
   "display_name": "Python 3.7.3 64-bit ('base': conda)",
   "name": "python3"
  },
  "language_info": {
   "codemirror_mode": {
    "name": "ipython",
    "version": 3
   },
   "file_extension": ".py",
   "mimetype": "text/x-python",
   "name": "python",
   "nbconvert_exporter": "python",
   "pygments_lexer": "ipython3",
   "version": "3.7.3"
  },
  "orig_nbformat": 4
 },
 "nbformat": 4,
 "nbformat_minor": 2
}
