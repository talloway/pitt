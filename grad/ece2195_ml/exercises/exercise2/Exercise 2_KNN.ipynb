{
 "cells": [
  {
   "cell_type": "markdown",
   "metadata": {},
   "source": [
    "# ECE 2195 :  Exercise 2\n",
    "\n",
    "## KNN Classifier\n",
    "\n",
    "In this exercise, you will implement KNN for classification of the Iris dataset. \n",
    "You code should have comments for readability. You will also need to comment on your result where applicable. \n",
    "\n",
    "First, understand the dataset and its contents by finding the keys and reading the description of the dataset. "
   ]
  },
  {
   "cell_type": "code",
   "execution_count": 30,
   "metadata": {},
   "outputs": [],
   "source": [
    "%matplotlib inline\n",
    "import matplotlib.pyplot as plt\n",
    "import pandas as pd\n",
    "import numpy as np\n",
    "from sklearn.datasets import load_iris\n",
    "from sklearn.model_selection import train_test_split\n",
    "from sklearn.neighbors import KNeighborsClassifier\n",
    "from sklearn import preprocessing\n",
    "from collections import Counter"
   ]
  },
  {
   "cell_type": "code",
   "execution_count": 2,
   "metadata": {},
   "outputs": [
    {
     "name": "stdout",
     "output_type": "stream",
     "text": [
      ".. _iris_dataset:\n",
      "\n",
      "Iris plants dataset\n",
      "--------------------\n",
      "\n",
      "**Data Set Characteristics:**\n",
      "\n",
      "    :Number of Instances: 150 (50 in each of three classes)\n",
      "    :Number of Attributes: 4 numeric, predictive attributes and the class\n",
      "    :Attribute Information:\n",
      "        - sepal length in cm\n",
      "        - sepal width in cm\n",
      "        - petal length in cm\n",
      "        - petal width in cm\n",
      "        - class:\n",
      "                - Iris-Setosa\n",
      "                - Iris-Versicolour\n",
      "                - Iris-Virginica\n",
      "                \n",
      "    :Summary Statistics:\n",
      "\n",
      "    ============== ==== ==== ======= ===== ====================\n",
      "                    Min  Max   Mean    SD   Class Correlation\n",
      "    ============== ==== ==== ======= ===== ====================\n",
      "    sepal length:   4.3  7.9   5.84   0.83    0.7826\n",
      "    sepal width:    2.0  4.4   3.05   0.43   -0.4194\n",
      "    petal length:   1.0  6.9   3.76   1.76    0.9490  (high!)\n",
      "    petal width:    0.1  2.5   1.20   0.76    0.9565  (high!)\n",
      "    ============== ==== ==== ======= ===== ====================\n",
      "\n",
      "    :Missing Attribute Values: None\n",
      "    :Class Distribution: 33.3% for each of 3 classes.\n",
      "    :Creator: R.A. Fisher\n",
      "    :Donor: Michael Marshall (MARSHALL%PLU@io.arc.nasa.gov)\n",
      "    :Date: July, 1988\n",
      "\n",
      "The famous Iris database, first used by Sir R.A. Fisher. The dataset is taken\n",
      "from Fisher's paper. Note that it's the same as in R, but not as in the UCI\n",
      "Machine Learning Repository, which has two wrong data points.\n",
      "\n",
      "This is perhaps the best known database to be found in the\n",
      "pattern recognition literature.  Fisher's paper is a classic in the field and\n",
      "is referenced frequently to this day.  (See Duda & Hart, for example.)  The\n",
      "data set contains 3 classes of 50 instances each, where each class refers to a\n",
      "type of iris plant.  One class is linearly separable from the other 2; the\n",
      "latter are NOT linearly separable from each other.\n",
      "\n",
      ".. topic:: References\n",
      "\n",
      "   - Fisher, R.A. \"The use of multiple measurements in taxonomic problems\"\n",
      "     Annual Eugenics, 7, Part II, 179-188 (1936); also in \"Contributions to\n",
      "     Mathematical Statistics\" (John Wiley, NY, 1950).\n",
      "   - Duda, R.O., & Hart, P.E. (1973) Pattern Classification and Scene Analysis.\n",
      "     (Q327.D83) John Wiley & Sons.  ISBN 0-471-22361-1.  See page 218.\n",
      "   - Dasarathy, B.V. (1980) \"Nosing Around the Neighborhood: A New System\n",
      "     Structure and Classification Rule for Recognition in Partially Exposed\n",
      "     Environments\".  IEEE Transactions on Pattern Analysis and Machine\n",
      "     Intelligence, Vol. PAMI-2, No. 1, 67-71.\n",
      "   - Gates, G.W. (1972) \"The Reduced Nearest Neighbor Rule\".  IEEE Transactions\n",
      "     on Information Theory, May 1972, 431-433.\n",
      "   - See also: 1988 MLC Proceedings, 54-64.  Cheeseman et al\"s AUTOCLASS II\n",
      "     conceptual clustering system finds 3 classes in the data.\n",
      "   - Many, many more ...\n",
      "dict_keys(['data', 'target', 'frame', 'target_names', 'DESCR', 'feature_names', 'filename'])\n"
     ]
    }
   ],
   "source": [
    "iris_dataset=load_iris() #creates an object that contains the iris dataset\n",
    "print(iris_dataset.DESCR)\n",
    "\n",
    "# print the keys as well\n",
    "print(iris_dataset.keys())"
   ]
  },
  {
   "cell_type": "markdown",
   "metadata": {},
   "source": [
    "### A) To better understand the stucture of the dataset, answer the following\n",
    "1. Find the type and shape of ‘data’ in the Iris_dataset\n",
    "2. Print the first five rows of 'data' \n",
    "3. Print the feature_names\n",
    "4. Print the target_names\n",
    "5. print type and shape of 'target'\n",
    "6. Print first 10 values of the target, then print the unique values using np.unique(iris_dataset['target'])"
   ]
  },
  {
   "cell_type": "code",
   "execution_count": 3,
   "metadata": {},
   "outputs": [
    {
     "name": "stdout",
     "output_type": "stream",
     "text": [
      "Data type: float64. Data shape: (150, 4)\n",
      "First five rows of data: \n",
      "[[5.1 3.5 1.4 0.2]\n",
      " [4.9 3.  1.4 0.2]\n",
      " [4.7 3.2 1.3 0.2]\n",
      " [4.6 3.1 1.5 0.2]\n",
      " [5.  3.6 1.4 0.2]]\n",
      "Feature names: ['sepal length (cm)', 'sepal width (cm)', 'petal length (cm)', 'petal width (cm)'].\n",
      "Target names: ['setosa' 'versicolor' 'virginica'].\n",
      "Target type: int32. Target shape: (150,).\n",
      "First ten rows of target: [0 0 0 0 0 0 0 0 0 0].\n",
      "Unique values: [0 1 2].\n"
     ]
    }
   ],
   "source": [
    "print(f'Data type: {iris_dataset.data.dtype}. Data shape: {iris_dataset.data.shape}')\n",
    "print(f'First five rows of data: \\n{iris_dataset.data[:5]}')\n",
    "print(f'Feature names: {iris_dataset.feature_names}.')\n",
    "print(f'Target names: {iris_dataset.target_names}.')\n",
    "print(f'Target type: {iris_dataset.target.dtype}. Target shape: {iris_dataset.target.shape}.')\n",
    "print(f'First ten rows of target: {iris_dataset.target[:10]}.')\n",
    "print(f'Unique values: {np.unique(iris_dataset.target)}.')"
   ]
  },
  {
   "cell_type": "markdown",
   "metadata": {},
   "source": [
    "### B) Implement KNN classifier\n",
    "Use the train-test split to generate train and test data\n",
    "(from sklearn.model_selection import train_test_split). In this part we will use just few test samples to validate your KNN implementation. \n",
    "Without using the KNeighborsClassifier built-in function, implement a KNN_classifier function that takes as an input (1) the training set, (2) one test sample, (3) the value of K. The function should return the label of the test sample and the counts (i.e. votes) corresponding to that label. Complete the program to test the function using the first two test samples.\n",
    "Make your code generic for any K, then use K=3 for validating your function. Comment on your result. Were your predictions correct?\n"
   ]
  },
  {
   "cell_type": "code",
   "execution_count": 4,
   "metadata": {},
   "outputs": [],
   "source": [
    "def KNN_classifier(X_train, Y_train, X0_test, k):\n",
    "    # find the Euclidean distance from the test point to each training point\n",
    "    distances = []\n",
    "    for i in range(0, len(X_train)):\n",
    "        distances.append(np.linalg.norm(X0_test - X_train[i]))\n",
    "    \n",
    "    max_val = max(distances)  \n",
    "    min_indices = []\n",
    "    \n",
    "    # find the k smallest distances in the array\n",
    "    for i in range(0, k):\n",
    "        min_index = distances.index(min(distances))\n",
    "        min_indices.append(min_index)\n",
    "        distances[min_index] = max_val\n",
    "        \n",
    "    votes = []\n",
    "    \n",
    "    # see which class the nearest neighbors belong to\n",
    "    for i in range(0, k):\n",
    "        votes.append(Y_train[min_indices[i]])\n",
    "    \n",
    "    # count the occurrence of each class\n",
    "    occurrence_count = Counter(votes)\n",
    "    label = occurrence_count.most_common(1)[0][0]\n",
    "        \n",
    "    return label, votes"
   ]
  },
  {
   "cell_type": "code",
   "execution_count": 5,
   "metadata": {
    "scrolled": true
   },
   "outputs": [
    {
     "name": "stdout",
     "output_type": "stream",
     "text": [
      "The predicted label is 2. The vote spread is [2, 2, 2]. The correct label is 2.\n",
      "The predicted label is 0. The vote spread is [0, 0, 0]. The correct label is 0.\n",
      "The predicted label is 2. The vote spread is [2, 2, 2]. The correct label is 2.\n",
      "The predicted label is 0. The vote spread is [0, 0, 0]. The correct label is 0.\n",
      "The predicted label is 2. The vote spread is [2, 2, 1]. The correct label is 2.\n",
      "The predicted label is 2. The vote spread is [2, 2, 2]. The correct label is 2.\n",
      "The predicted label is 0. The vote spread is [0, 0, 0]. The correct label is 0.\n",
      "The predicted label is 0. The vote spread is [0, 0, 0]. The correct label is 0.\n",
      "The predicted label is 2. The vote spread is [2, 2, 2]. The correct label is 2.\n",
      "The predicted label is 0. The vote spread is [0, 0, 0]. The correct label is 0.\n",
      "The predicted label is 0. The vote spread is [0, 0, 0]. The correct label is 0.\n",
      "The predicted label is 2. The vote spread is [2, 2, 2]. The correct label is 2.\n",
      "The predicted label is 0. The vote spread is [0, 0, 0]. The correct label is 0.\n",
      "The predicted label is 0. The vote spread is [0, 0, 0]. The correct label is 0.\n",
      "The predicted label is 2. The vote spread is [2, 2, 2]. The correct label is 2.\n",
      "The predicted label is 1. The vote spread is [1, 1, 1]. The correct label is 1.\n",
      "The predicted label is 1. The vote spread is [1, 1, 1]. The correct label is 1.\n",
      "The predicted label is 1. The vote spread is [1, 1, 2]. The correct label is 1.\n",
      "The predicted label is 2. The vote spread is [2, 2, 2]. The correct label is 2.\n",
      "The predicted label is 2. The vote spread is [2, 2, 2]. The correct label is 2.\n",
      "The predicted label is 2. The vote spread is [2, 2, 2]. The correct label is 2.\n",
      "The predicted label is 0. The vote spread is [0, 0, 0]. The correct label is 0.\n",
      "The predicted label is 2. The vote spread is [2, 2, 1]. The correct label is 2.\n",
      "The predicted label is 0. The vote spread is [0, 0, 0]. The correct label is 0.\n",
      "The predicted label is 1. The vote spread is [1, 1, 1]. The correct label is 1.\n",
      "The predicted label is 2. The vote spread is [2, 2, 2]. The correct label is 2.\n",
      "The predicted label is 1. The vote spread is [1, 1, 1]. The correct label is 1.\n",
      "The predicted label is 0. The vote spread is [0, 0, 0]. The correct label is 0.\n",
      "The predicted label is 1. The vote spread is [1, 1, 1]. The correct label is 1.\n",
      "The predicted label is 2. The vote spread is [2, 2, 2]. The correct label is 2.\n",
      "The predicted label is 1. The vote spread is [1, 1, 1]. The correct label is 1.\n",
      "The predicted label is 1. The vote spread is [1, 1, 1]. The correct label is 1.\n",
      "The predicted label is 1. The vote spread is [1, 1, 1]. The correct label is 2.\n",
      "The predicted label is 0. The vote spread is [0, 0, 0]. The correct label is 0.\n",
      "The predicted label is 0. The vote spread is [0, 0, 0]. The correct label is 0.\n",
      "The predicted label is 1. The vote spread is [1, 1, 1]. The correct label is 1.\n",
      "The predicted label is 0. The vote spread is [0, 0, 0]. The correct label is 0.\n",
      "The predicted label is 1. The vote spread is [1, 1, 1]. The correct label is 1.\n",
      "\n",
      "Correct = 37. Incorrect = 1. Overall accuracy is: 97.36842105263158 %.\n"
     ]
    }
   ],
   "source": [
    "X_train, X_test, Y_train, Y_test = train_test_split(iris_dataset['data'], iris_dataset['target'], random_state=100)\n",
    "\n",
    "# inspect the data visually\n",
    "# iris_dataFrame = pd.DataFrame(X_train, columns=iris_dataset.feature_names)\n",
    "# sm = pd.plotting.scatter_matrix(iris_dataFrame, c=Y_train, figsize=(15, 15))\n",
    "\n",
    "k = 3\n",
    "correct = 0\n",
    "incorrect = 0\n",
    "\n",
    "for i in range(0, len(X_test)):   \n",
    "    label, votes = KNN_classifier(X_train, Y_train, X_test[i], k)\n",
    "    print(f'The predicted label is {label}. The vote spread is {votes}. The correct label is {Y_test[i]}.')\n",
    "\n",
    "    if label == Y_test[i]:\n",
    "        correct += 1\n",
    "    else:\n",
    "        incorrect += 1\n",
    "        \n",
    "accuracy = correct / (correct + incorrect)\n",
    "print(f'\\nCorrect = {correct}. Incorrect = {incorrect}. Overall accuracy is: {100 * accuracy} %.')    "
   ]
  },
  {
   "cell_type": "markdown",
   "metadata": {},
   "source": [
    "#### (AP): The predictions of the KNN algorithm look to be correct for the most part. For `k = 3`, the algorithm has an accuracy of 97.37%.\n",
    "\n",
    "Note: I did compare my algorithm to the built-in functions that I used in Part C (still only using the first two features as in Part C) and ended up with some quirky behavior. For some values of k, my algorithm had a difference of 1-2 correct labels, but for other values of k the accuracy was identical between my algorithm and the scikit-learn function. I think this is just due to some small difference in figuring out which neighbors are the nearest ones between the two algorithms."
   ]
  },
  {
   "cell_type": "markdown",
   "metadata": {},
   "source": [
    "### C) In all questions that follow, feel free to use your implemented function from previous part or the built-in scikit-learn functions. \n",
    "Classify the Iris species with KNN approach using the first two feature only, and check the accuracy as K changes. Let K takes the values [1, 5, 10, 15]. No need to scale features.\n",
    "In the code, use random_state=100 in train_test_split\n",
    "\n",
    "Plot the accuracy versus K and comment on your result"
   ]
  },
  {
   "cell_type": "code",
   "execution_count": 34,
   "metadata": {},
   "outputs": [
    {
     "name": "stdout",
     "output_type": "stream",
     "text": [
      "K = 1.\n",
      "Overall accuracy for k = 1 is: 73.68421052631578 %.\n",
      "\n",
      "K = 5.\n",
      "Overall accuracy for k = 5 is: 84.21052631578947 %.\n",
      "\n",
      "K = 10.\n",
      "Overall accuracy for k = 10 is: 84.21052631578947 %.\n",
      "\n",
      "K = 15.\n",
      "Overall accuracy for k = 15 is: 76.31578947368422 %.\n",
      "\n"
     ]
    },
    {
     "data": {
      "image/png": "[encoded data removed]",
      "text/plain": [
       "<Figure size 432x288 with 1 Axes>"
      ]
     },
     "metadata": {
      "needs_background": "light"
     },
     "output_type": "display_data"
    }
   ],
   "source": [
    "k_values =  [1, 5, 10, 15]\n",
    "accuracies = []\n",
    "\n",
    "X_train, X_test, Y_train, Y_test = train_test_split(iris_dataset['data'], iris_dataset['target'], random_state=100)\n",
    "\n",
    "# use only the first two features of X_train and X_test\n",
    "X_train = np.array([x[0:2] for x in X_train])\n",
    "X_test  = np.array([x[0:2] for x in X_test ])\n",
    "\n",
    "for k in k_values:\n",
    "    print(f'K = {k}.')\n",
    "    \n",
    "    # run the KNN classifier\n",
    "    knn = KNeighborsClassifier(n_neighbors=k)\n",
    "    knn.fit(X_train, Y_train)\n",
    "    \n",
    "    Y_predict = knn.predict(X_test)\n",
    "    \n",
    "    accuracy = knn.score(X_test, Y_test)\n",
    "    print(f'Overall accuracy for k = {k} is: {100 * accuracy} %.\\n')\n",
    "    accuracies.append(accuracy)\n",
    "    \n",
    "plt.scatter(k_values, accuracies)\n",
    "plt.xlabel('K value')\n",
    "plt.ylabel('Accuracy')\n",
    "plt.title('K-nearest-neighbors accuracy on first two features of iris dataset')\n",
    "plt.show()"
   ]
  },
  {
   "cell_type": "markdown",
   "metadata": {},
   "source": [
    "#### (AP): K = 5 and K = 10 seem to be in the optimal region between overfitting and underfitting for this problem. K = 1 is too low to capture the variability in the data and K = 15 is overfitting."
   ]
  },
  {
   "cell_type": "markdown",
   "metadata": {},
   "source": [
    "### D) Use the Iris example, and find the accuracy of the KNN approach with K=5 when different number of features is used without scaling. \n",
    "\n",
    "Here we just take features by the order they appear in the dataset. No feature selection. \n",
    "\n",
    "Print then plot the accuracy verus the number of feature (i.e. when using one, two, three, and the four features)\n",
    "\n"
   ]
  },
  {
   "cell_type": "code",
   "execution_count": 32,
   "metadata": {},
   "outputs": [
    {
     "name": "stdout",
     "output_type": "stream",
     "text": [
      "Overall accuracy for k = 5 with 1 feature(s) is: 78.94736842105263 %.\n",
      "\n",
      "Overall accuracy for k = 5 with 2 feature(s) is: 84.21052631578947 %.\n",
      "\n",
      "Overall accuracy for k = 5 with 3 feature(s) is: 92.10526315789474 %.\n",
      "\n",
      "Overall accuracy for k = 5 with 4 feature(s) is: 97.36842105263158 %.\n",
      "\n"
     ]
    },
    {
     "data": {
      "image/png": "[encoded data removed]",
      "text/plain": [
       "<Figure size 432x288 with 1 Axes>"
      ]
     },
     "metadata": {
      "needs_background": "light"
     },
     "output_type": "display_data"
    }
   ],
   "source": [
    "X_train, X_test, Y_train, Y_test = train_test_split(iris_dataset['data'], iris_dataset['target'], random_state=100)\n",
    "k = 5\n",
    "features = []\n",
    "accuracies = []\n",
    "\n",
    "for i in range(1, len(X_train[0]) + 1):\n",
    "    features.append(i)\n",
    "    \n",
    "    # clip X_train and X_test to the first i features\n",
    "    X_train_clipped = np.array([x[0:i] for x in X_train])\n",
    "    X_test_clipped = np.array([x[0:i] for x in X_test])\n",
    "    \n",
    "    # run the KNN classifier as before\n",
    "    knn = KNeighborsClassifier(n_neighbors=k)\n",
    "    knn.fit(X_train_clipped, Y_train)\n",
    "    \n",
    "    Y_predict = knn.predict(X_test_clipped)\n",
    "\n",
    "    accuracy = knn.score(X_test_clipped, Y_test)\n",
    "    print(f'Overall accuracy for k = {k} with {i} feature(s) is: {100 * accuracy} %.\\n')\n",
    "    accuracies.append(accuracy)\n",
    "\n",
    "plt.scatter(features, accuracies)\n",
    "plt.xlabel('Number of features used')\n",
    "plt.ylabel('Accuracy')\n",
    "plt.title('K-nearest-neighbors accuracy on varying number of features')\n",
    "plt.show()"
   ]
  },
  {
   "cell_type": "markdown",
   "metadata": {},
   "source": [
    "### E) Repeat D when feature scaling with MinMaxScaler is used. \n",
    "### Comment on your results."
   ]
  },
  {
   "cell_type": "code",
   "execution_count": 33,
   "metadata": {},
   "outputs": [
    {
     "name": "stdout",
     "output_type": "stream",
     "text": [
      "Overall accuracy for k = 5 with 1 feature(s) is: 78.94736842105263 %.\n",
      "\n",
      "Overall accuracy for k = 5 with 2 feature(s) is: 86.8421052631579 %.\n",
      "\n",
      "Overall accuracy for k = 5 with 3 feature(s) is: 92.10526315789474 %.\n",
      "\n",
      "Overall accuracy for k = 5 with 4 feature(s) is: 97.36842105263158 %.\n",
      "\n"
     ]
    },
    {
     "data": {
      "image/png": "[encoded data removed]",
      "text/plain": [
       "<Figure size 432x288 with 1 Axes>"
      ]
     },
     "metadata": {
      "needs_background": "light"
     },
     "output_type": "display_data"
    }
   ],
   "source": [
    "scaler = preprocessing.StandardScaler().fit(X_train)\n",
    "\n",
    "X_train_transformed = scaler.transform(X_train)\n",
    "X_test_transformed = scaler.transform(X_test)\n",
    "\n",
    "features = []\n",
    "accuracies = []\n",
    "\n",
    "for i in range(1, len(X_train_transformed[0]) + 1):\n",
    "    features.append(i)\n",
    "    \n",
    "    X_train_clipped = np.array([x[0:i] for x in X_train_transformed])\n",
    "    X_test_clipped = np.array([x[0:i] for x in X_test_transformed])\n",
    "    \n",
    "    knn = KNeighborsClassifier(n_neighbors=k)\n",
    "    knn.fit(X_train_clipped, Y_train)\n",
    "    \n",
    "    Y_predict = knn.predict(X_test_clipped)\n",
    "\n",
    "    accuracy = knn.score(X_test_clipped, Y_test)\n",
    "    print(f'Overall accuracy for k = {k} with {i} feature(s) is: {100 * accuracy} %.\\n')\n",
    "    accuracies.append(accuracy)\n",
    "\n",
    "plt.scatter(features, accuracies)\n",
    "plt.xlabel('Number of features used')\n",
    "plt.ylabel('Accuracy')\n",
    "plt.title('K-nearest-neighbors accuracy on varying number of features')\n",
    "plt.show()"
   ]
  },
  {
   "cell_type": "markdown",
   "metadata": {},
   "source": [
    "#### (AP): The scaling seems to not have much of an effect on the accuracy in this case. The only difference is with 2 features, where there is a 2 percentage point increase in accuracy (which should just be equivalent to one more correctly labeled test sample)."
   ]
  },
  {
   "cell_type": "code",
   "execution_count": null,
   "metadata": {},
   "outputs": [],
   "source": []
  }
 ],
 "metadata": {
  "kernelspec": {
   "display_name": "Python 3",
   "language": "python",
   "name": "python3"
  },
  "language_info": {
   "codemirror_mode": {
    "name": "ipython",
    "version": 3
   },
   "file_extension": ".py",
   "mimetype": "text/x-python",
   "name": "python",
   "nbconvert_exporter": "python",
   "pygments_lexer": "ipython3",
   "version": "3.8.3"
  }
 },
 "nbformat": 4,
 "nbformat_minor": 2
}
