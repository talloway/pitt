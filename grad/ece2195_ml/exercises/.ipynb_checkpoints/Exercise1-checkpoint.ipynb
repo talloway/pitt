{
 "cells": [
  {
   "cell_type": "markdown",
   "metadata": {},
   "source": [
    "# ECE 2195 - Exercise 1\n",
    "A)\n",
    "\n",
    "1. Create a dictionary of score of each team with keys:values as follows\n",
    "\n",
    "Team1: 4,\n",
    "\n",
    "Team2: 3,\n",
    "\n",
    "Team3: 5,\n",
    "\n",
    "Team4: 2\n",
    "\n",
    "2. Add to the dictionary ‘Team5’ who has a score ‘5’ \n",
    "\n",
    "3. PRINT all the keys of the dictionary using the keys() method\n",
    "\n",
    "4. Find the length of VALUES in the dictionary and print it\n",
    "\n",
    "5. Get the average score of the teams and print it \n"
   ]
  },
  {
   "cell_type": "code",
   "execution_count": 3,
   "metadata": {},
   "outputs": [
    {
     "name": "stdout",
     "output_type": "stream",
     "text": [
      "dict_keys(['Team1', 'Team2', 'Team3', 'Team4', 'Team5'])\n",
      "5\n",
      "3.8\n"
     ]
    }
   ],
   "source": [
    "scores = {\n",
    "    'Team1': 4,\n",
    "    'Team2': 3,\n",
    "    'Team3': 5,\n",
    "    'Team4': 2\n",
    "}\n",
    "\n",
    "scores['Team5'] = 5\n",
    "\n",
    "print(scores.keys())\n",
    "print(len(scores.values()))\n",
    "print(sum(scores.values()) / len(scores.values()) )"
   ]
  },
  {
   "cell_type": "markdown",
   "metadata": {},
   "source": [
    "B) \n",
    "1. Generate a numpy array with 2 columns, where first column contains numbers from 0 to 5 and second column is [0, 1, 4, 9, 16, 25]\n",
    "\n",
    "2. Check the shape of your array. It should be 6x2.\n",
    "\n",
    "3. Put the array into a data frame, with column labels ‘x’ and ‘y’ \n",
    "\n",
    "4. Plot ‘x’ (on x-axis) versus ‘y’ (on y-axis)\n",
    "\n",
    "5. Get average of elements in second column of the data frame\n"
   ]
  },
  {
   "cell_type": "code",
   "execution_count": 5,
   "metadata": {},
   "outputs": [],
   "source": [
    "%matplotlib inline\n",
    "import matplotlib.pyplot as plt\n",
    "import pandas as pd\n",
    "import numpy as np "
   ]
  },
  {
   "cell_type": "code",
   "execution_count": 16,
   "metadata": {},
   "outputs": [
    {
     "name": "stdout",
     "output_type": "stream",
     "text": [
      "(6, 2)\n"
     ]
    },
    {
     "data": {
      "image/png": "[encoded data removed]",
      "text/plain": [
       "<Figure size 432x288 with 1 Axes>"
      ]
     },
     "metadata": {
      "needs_background": "light"
     },
     "output_type": "display_data"
    },
    {
     "name": "stdout",
     "output_type": "stream",
     "text": [
      "9.166666666666666\n"
     ]
    }
   ],
   "source": [
    "arr = np.array( [ [0, 0], [1, 1], [2, 4], [3, 9], [4, 16], [5, 25]])\n",
    "print(arr.shape)\n",
    "\n",
    "colLabels = ['x', 'y']\n",
    "\n",
    "df = pd.DataFrame(arr, columns=colLabels)\n",
    "\n",
    "plt.plot(df.x, df.y, marker='o')\n",
    "plt.xlabel('x')\n",
    "plt.ylabel('$x^2$')\n",
    "plt.title('Quadratic function')\n",
    "plt.show()\n",
    "\n",
    "print(df.y.mean())"
   ]
  }
 ],
 "metadata": {
  "kernelspec": {
   "display_name": "Python 3",
   "language": "python",
   "name": "python3"
  },
  "language_info": {
   "codemirror_mode": {
    "name": "ipython",
    "version": 3
   },
   "file_extension": ".py",
   "mimetype": "text/x-python",
   "name": "python",
   "nbconvert_exporter": "python",
   "pygments_lexer": "ipython3",
   "version": "3.8.3"
  }
 },
 "nbformat": 4,
 "nbformat_minor": 2
}
