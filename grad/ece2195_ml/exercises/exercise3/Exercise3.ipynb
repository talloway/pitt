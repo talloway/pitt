{
 "cells": [
  {
   "cell_type": "markdown",
   "metadata": {},
   "source": [
    "# Exercise 3: Linear Regression\n",
    "\n",
    "\n"
   ]
  },
  {
   "cell_type": "code",
   "execution_count": 1,
   "metadata": {},
   "outputs": [],
   "source": [
    "%matplotlib inline\n",
    "\n",
    "import numpy as np\n",
    "import matplotlib.pyplot as plt\n",
    "import pandas as pd\n",
    "import statsmodels.formula.api as smf\n",
    "\n",
    "from statistics import mean\n",
    "from sklearn.model_selection import train_test_split\n",
    "from sklearn.linear_model import LinearRegression\n",
    "from sklearn.metrics import mean_squared_error, r2_score"
   ]
  },
  {
   "cell_type": "markdown",
   "metadata": {},
   "source": [
    "## Part 1: Synthetic Data\n",
    "\n",
    "In this part you will use mathematical formulas to get coefficients and compare results with built-in function of Scikit-learn. Please follow the steps below.\n",
    "\n",
    "1) Generate the data for a population line y=2+3 x + e; the feature X takes values from -2 to 2 and the error (e) is modeled as normal (Gaussian) distribution with zero mean and unit variace (check numpy.random.normal method to generate e). (i) Generate 100 data samples, (ii) plot the data (y vs x), and (iii) split the data into train and test (feel free to use the built in function for splitting). \n",
    "\n",
    "2) Then, assume that we don't know the actual model now but only have the data. Use the train data to find the coefficients of the Linear regression model using the mathematical formula derived for each. \n",
    "\n",
    "3) Now use the built-in scikit-learn function for linear regression to fit a linear regression model. Find the coefficients and compare coafficients with previous part as well as with the actual coefficient values. \n",
    "\n",
    "4) Run the above steps several times. Do coefficients' estimates change? Why?"
   ]
  },
  {
   "cell_type": "code",
   "execution_count": 2,
   "metadata": {},
   "outputs": [
    {
     "data": {
      "image/png": "[encoded data removed]",
      "text/plain": [
       "<Figure size 432x288 with 1 Axes>"
      ]
     },
     "metadata": {
      "needs_background": "light"
     },
     "output_type": "display_data"
    }
   ],
   "source": [
    "beta0 = 2\n",
    "beta1 = 3\n",
    "\n",
    "num_samples = 100\n",
    "\n",
    "x_0 = -2\n",
    "x_n = 2\n",
    "width = (x_n - x_0) / num_samples\n",
    "\n",
    "y = []\n",
    "x = []\n",
    "\n",
    "for i in range(0, num_samples + 1):\n",
    "    error = np.random.normal()\n",
    "    x_i = x_0 + i * width\n",
    "    y_i = beta0 + beta1 * x_i + error\n",
    "    \n",
    "    x.append(x_i)\n",
    "    y.append(y_i)\n",
    "    \n",
    "plt.scatter(x, y)\n",
    "plt.title('Synthetic data of y = 2x + 3')\n",
    "plt.xlabel('x')\n",
    "plt.ylabel('y')\n",
    "plt.show()"
   ]
  },
  {
   "cell_type": "code",
   "execution_count": 3,
   "metadata": {},
   "outputs": [
    {
     "name": "stdout",
     "output_type": "stream",
     "text": [
      "1.9725903216631755\n",
      "2.981541312743943\n"
     ]
    }
   ],
   "source": [
    "X_train, X_test, Y_train, Y_test = train_test_split(x, y, random_state=0)\n",
    "\n",
    "y_bar = mean(Y_train)\n",
    "x_bar = mean(X_train)\n",
    "\n",
    "sum1 = 0\n",
    "sum2 = 0\n",
    "\n",
    "for x_val, y_val in zip(X_train, Y_train):\n",
    "    sum1 += (y_val - y_bar) * (x_val - x_bar)\n",
    "    sum2 += (x_val - x_bar) ** 2\n",
    "\n",
    "beta1_hat = sum1 / sum2\n",
    "beta0_hat = y_bar - beta1_hat * x_bar\n",
    "    \n",
    "print(beta0_hat)\n",
    "print(beta1_hat)"
   ]
  },
  {
   "cell_type": "code",
   "execution_count": 4,
   "metadata": {},
   "outputs": [
    {
     "name": "stdout",
     "output_type": "stream",
     "text": [
      "Intercept:  [1.97259032]\n",
      "Coefficient:  [2.98154131]\n"
     ]
    }
   ],
   "source": [
    "X_train = np.array(X_train).reshape(-1, 1)\n",
    "Y_train = np.array(Y_train).reshape(-1, 1)\n",
    "linreg = LinearRegression().fit(X_train, Y_train)\n",
    "\n",
    "print('Intercept: ', linreg.intercept_)\n",
    "print('Coefficient: ', linreg.coef_[0])"
   ]
  },
  {
   "cell_type": "markdown",
   "metadata": {},
   "source": [
    "**(AP)**: Some of the coefficient estimates I saw:\n",
    "\n",
    "B_0_hat = 1.82, B_1_hat = 3.04\n",
    "\n",
    "B_0_hat = 1.97, B_1_hat = 2.93\n",
    "\n",
    "B_0_hat = 1.80, B_1_hat = 3.03\n",
    "\n",
    "The coefficient estimates change because of the variance in the error when generating the synthetic data. "
   ]
  },
  {
   "cell_type": "markdown",
   "metadata": {},
   "source": [
    "## Part 2: Advertising Data Set\n",
    "In this exercise we will fit a linear regression model using using statsmodels and scikit-learn (or your own function). Using statsmodels you will be able to get the statistical tests and significance of the features. "
   ]
  },
  {
   "cell_type": "markdown",
   "metadata": {},
   "source": [
    "#### A) Using the advertising data, use the statsmodel to fit an OLS model that predicts the sales using features (TV, Radio and Newspaper). Print the p-values and confidence interval of features. \n",
    "\n"
   ]
  },
  {
   "cell_type": "code",
   "execution_count": 5,
   "metadata": {},
   "outputs": [
    {
     "name": "stdout",
     "output_type": "stream",
     "text": [
      "==============================================================================\n",
      "                 coef    std err          t      P>|t|      [0.025      0.975]\n",
      "------------------------------------------------------------------------------\n",
      "Intercept      2.9389      0.312      9.422      0.000       2.324       3.554\n",
      "TV             0.0458      0.001     32.809      0.000       0.043       0.049\n",
      "Radio          0.1885      0.009     21.893      0.000       0.172       0.206\n",
      "Newspaper     -0.0010      0.006     -0.177      0.860      -0.013       0.011\n",
      "==============================================================================\n",
      "\n",
      "\n",
      "p-values are:\n",
      " Intercept    1.267295e-17\n",
      "TV           1.509960e-81\n",
      "Radio        1.505339e-54\n",
      "Newspaper    8.599151e-01\n",
      "dtype: float64\n",
      "\n",
      "\n",
      "confidence intervals are:\n",
      "                   0         1\n",
      "Intercept  2.323762  3.554016\n",
      "TV         0.043014  0.048516\n",
      "Radio      0.171547  0.205513\n",
      "Newspaper -0.012616  0.010541\n"
     ]
    }
   ],
   "source": [
    "df = pd.read_csv('advertising.csv')\n",
    "\n",
    "model = smf.ols('Sales ~ TV+Radio+Newspaper', df)\n",
    "fitting_results = model.fit()\n",
    "\n",
    "print(fitting_results.summary().tables[1])\n",
    "print('\\n')\n",
    "print('p-values are:\\n', fitting_results.pvalues)\n",
    "print('\\n')\n",
    "print('confidence intervals are:\\n', fitting_results.conf_int(alpha=0.05, cols=None))"
   ]
  },
  {
   "cell_type": "markdown",
   "metadata": {},
   "source": [
    "#### B) Repeat  question (A) without the Radio feature. Comment on results (A) and (B). What do the results imply? "
   ]
  },
  {
   "cell_type": "code",
   "execution_count": 6,
   "metadata": {},
   "outputs": [
    {
     "name": "stdout",
     "output_type": "stream",
     "text": [
      "==============================================================================\n",
      "                 coef    std err          t      P>|t|      [0.025      0.975]\n",
      "------------------------------------------------------------------------------\n",
      "Intercept      5.7749      0.525     10.993      0.000       4.739       6.811\n",
      "TV             0.0469      0.003     18.173      0.000       0.042       0.052\n",
      "Newspaper      0.0442      0.010      4.346      0.000       0.024       0.064\n",
      "==============================================================================\n",
      "\n",
      "\n",
      "p-values are:\n",
      " Intercept    3.145860e-22\n",
      "TV           5.507584e-44\n",
      "Newspaper    2.217084e-05\n",
      "dtype: float64\n",
      "\n",
      "\n",
      "confidence intervals are:\n",
      "                   0         1\n",
      "Intercept  4.738940  6.810956\n",
      "TV         0.041812  0.051991\n",
      "Newspaper  0.024155  0.064284\n"
     ]
    }
   ],
   "source": [
    "model = smf.ols('Sales ~ TV+Newspaper', df)\n",
    "fitting_results = model.fit()\n",
    "\n",
    "print(fitting_results.summary().tables[1])\n",
    "print('\\n')\n",
    "print('p-values are:\\n', fitting_results.pvalues)\n",
    "print('\\n')\n",
    "print('confidence intervals are:\\n', fitting_results.conf_int(alpha=0.05, cols=None))"
   ]
  },
  {
   "cell_type": "markdown",
   "metadata": {},
   "source": [
    "**(AP)**: Since the confidence interval for newspaper in Part A contains 0, and since its p-value is very high, it likely does not impact sales."
   ]
  },
  {
   "cell_type": "markdown",
   "metadata": {},
   "source": [
    "#### C) In this part you can use the Scikit-Learn library or your own defined function. Use only the TV and Radio advertising features. Fit a linear regression model using advertising trianing set, then find and print the test mean square error (MSE)  and the $R^2$ score of the fitted model. Use random_state= 0 in the train_test_split function."
   ]
  },
  {
   "cell_type": "code",
   "execution_count": 7,
   "metadata": {},
   "outputs": [
    {
     "name": "stdout",
     "output_type": "stream",
     "text": [
      "Test MSE: 4.01\n",
      "R^2 score: 0.84\n"
     ]
    }
   ],
   "source": [
    "X_train, X_test, Y_train, Y_test = train_test_split(df[['TV', 'Radio', 'Newspaper']], df['Sales'], random_state = 0)\n",
    "\n",
    "linreg = LinearRegression().fit(X_train, Y_train)\n",
    "\n",
    "pred = linreg.predict(X_test)\n",
    "\n",
    "print('Test MSE: %.2f' % mean_squared_error(pred, Y_test))\n",
    "print('R^2 score: %.2f' % r2_score(pred, Y_test))"
   ]
  }
 ],
 "metadata": {
  "kernelspec": {
   "display_name": "Python 3",
   "language": "python",
   "name": "python3"
  },
  "language_info": {
   "codemirror_mode": {
    "name": "ipython",
    "version": 3
   },
   "file_extension": ".py",
   "mimetype": "text/x-python",
   "name": "python",
   "nbconvert_exporter": "python",
   "pygments_lexer": "ipython3",
   "version": "3.8.3"
  }
 },
 "nbformat": 4,
 "nbformat_minor": 2
}
