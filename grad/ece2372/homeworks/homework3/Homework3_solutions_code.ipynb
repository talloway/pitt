{
 "cells": [
  {
   "cell_type": "code",
   "execution_count": 13,
   "metadata": {},
   "outputs": [],
   "source": [
    "import numpy as np\n",
    "import os\n",
    "import matplotlib.pyplot as plt\n",
    "\n",
    "from scipy.io import loadmat\n",
    "from sklearn.model_selection import train_test_split\n",
    "from sklearn.preprocessing import StandardScaler"
   ]
  },
  {
   "cell_type": "code",
   "execution_count": 17,
   "metadata": {},
   "outputs": [],
   "source": [
    "def sigmoid(val, b0, b1, b2):\n",
    "    x1 = val[0]\n",
    "    x2 = val[1]\n",
    "    \n",
    "    z = (b0 + x1*b1 + x2*b2).astype(\"float_\")\n",
    "    return 1.0 / (1.0 + np.exp(-z))\n",
    "\n",
    "def load_data(file):\n",
    "    print('Synthetic file: ', synth_file)\n",
    "    data = loadmat(os.getcwd() + '\\data\\\\' + synth_file)\n",
    "    X, Y = np.transpose(data['X']), data['Y'][0]\n",
    "    \n",
    "    X_train, X_test, Y_train, Y_test = train_test_split(X, Y, random_state=0)\n",
    "    scaler = StandardScaler().fit(X_train)\n",
    "    \n",
    "    X_train_t = scaler.transform(X_train)\n",
    "    X_test_t = scaler.transform(X_test)\n",
    "    \n",
    "    return X_train_t, X_test_t, Y_train, Y_test\n",
    "\n",
    "def eval_model(X, Y, b0, b1, b2):\n",
    "    y_pred = []\n",
    "    \n",
    "    for val in X:\n",
    "        res = sigmoid(val, b0, b1, b2)\n",
    "        \n",
    "        if res > 0.5:\n",
    "            y_pred.append(1)\n",
    "        else:\n",
    "            y_pred.append(0)\n",
    "            \n",
    "    acc = np.count_nonzero(y_pred == Y) / len(Y)\n",
    "    print('Accuracy = %.4f' % acc)\n",
    "\n",
    "def predict(X, b0, b1, b2):\n",
    "    l = []\n",
    "\n",
    "    for val in X:\n",
    "        l.append(sigmoid(val, b0, b1, b2))\n",
    "\n",
    "    return np.asarray(l)"
   ]
  },
  {
   "cell_type": "code",
   "execution_count": 18,
   "metadata": {},
   "outputs": [],
   "source": [
    "def pla(X, Y, alpha):    \n",
    "    rand_multiplier = 30\n",
    "    b0 = rand_multiplier * np.random.rand()\n",
    "    b1 = rand_multiplier * np.random.rand()\n",
    "    b2 = rand_multiplier * np.random.rand()\n",
    "\n",
    "    its = []\n",
    "    rss = []\n",
    "    \n",
    "    n = 1000\n",
    "\n",
    "    for i in range(0, n):\n",
    "        b_0_sum = 0\n",
    "        b_1_sum = 0\n",
    "        b_2_sum = 0\n",
    "        running_rss = 0\n",
    "        \n",
    "        j = np.random.randint(0, len(X))\n",
    "\n",
    "        x1 = X[j][0]\n",
    "        x2 = X[j][1]\n",
    "\n",
    "        inside_deriv = sigmoid(X[j], b0, b1, b2) - Y[j]\n",
    "        running_rss += inside_deriv ** 2\n",
    "       \n",
    "        its.append(i)\n",
    "        rss.append(running_rss)\n",
    "\n",
    "        sign_b0 = 1 if (b0 > 0) else -1\n",
    "        sign_b1 = 1 if (b1 > 0) else -1\n",
    "        sign_b2 = 1 if (b2 > 0) else -1\n",
    "\n",
    "        b0 = b0 - alpha * sign_b0\n",
    "        b1 = b1 - alpha * sign_b1\n",
    "        b2 = b2 - alpha * sign_b2\n",
    "\n",
    "    return b0, b1, b2"
   ]
  },
  {
   "cell_type": "code",
   "execution_count": 19,
   "metadata": {},
   "outputs": [
    {
     "name": "stdout",
     "output_type": "stream",
     "text": [
      "Synthetic file:  synthetic1.mat\n",
      "Coefficients:  0.126184167480222 -0.2141951506716424 -0.029896432743800716\n",
      "Accuracy = 0.0400\n",
      "Synthetic file:  synthetic2.mat\n",
      "Coefficients:  -0.2687154315378968 0.3768597886506022 -0.2381524039459233\n",
      "Accuracy = 0.5000\n",
      "Synthetic file:  synthetic3.mat\n",
      "Coefficients:  -0.2733197148001061 0.3325622083915931 -0.0039045402336839174\n",
      "Accuracy = 0.6400\n",
      "Synthetic file:  synthetic4.mat\n",
      "Coefficients:  0.45223844794470835 0.10641145078968961 -0.14769509681940463\n",
      "Accuracy = 0.2600\n"
     ]
    }
   ],
   "source": [
    "synthetic_files = ['synthetic1.mat', 'synthetic2.mat', 'synthetic3.mat', 'synthetic4.mat']\n",
    "    \n",
    "for synth_file in synthetic_files:    \n",
    "    X_train, X_test, Y_train, Y_test = load_data(synth_file)\n",
    "\n",
    "    alpha = 0.5 # Parameter for PLA\n",
    "\n",
    "    b0, b1, b2 = pla(X_train, Y_train, alpha)\n",
    "    print('Coefficients: ', b0, b1, b2)\n",
    "    eval_model(X_test, Y_test, b0, b1, b2)"
   ]
  }
 ],
 "metadata": {
  "kernelspec": {
   "display_name": "Python 3",
   "language": "python",
   "name": "python3"
  },
  "language_info": {
   "codemirror_mode": {
    "name": "ipython",
    "version": 3
   },
   "file_extension": ".py",
   "mimetype": "text/x-python",
   "name": "python",
   "nbconvert_exporter": "python",
   "pygments_lexer": "ipython3",
   "version": "3.8.3"
  }
 },
 "nbformat": 4,
 "nbformat_minor": 4
}
