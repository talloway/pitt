{
 "cells": [
  {
   "cell_type": "markdown",
   "metadata": {},
   "source": [
    "# ECE 2556 Homework 1 - Avery Peiffer"
   ]
  },
  {
   "cell_type": "code",
   "execution_count": 1,
   "metadata": {},
   "outputs": [],
   "source": [
    "import pandas as pd\n",
    "import random\n",
    "import statsmodels.api as sm\n",
    "from statistics import mean\n",
    "from statsmodels.formula.api import glm\n",
    "from scipy import stats"
   ]
  },
  {
   "cell_type": "markdown",
   "metadata": {},
   "source": [
    "## Question 1: For data in `scores.txt` (120x2), design a permutation algorithm (permutate 1000 times), and identify whether column 1 > column 2 (or column 1 < column 2) and report the p-value."
   ]
  },
  {
   "cell_type": "code",
   "execution_count": 2,
   "metadata": {},
   "outputs": [
    {
     "name": "stdout",
     "output_type": "stream",
     "text": [
      "Original difference = -0.041666666666671404.\n",
      "Since the original difference < 0:           H_0 = mean(col2) NOT > mean(col1)           H_a = mean(col2) > mean(col1).\n"
     ]
    }
   ],
   "source": [
    "# Set up the hyperparameters for the experiment, read in the data, and posit the null and alternative hypotheses.\n",
    "n = 1000\n",
    "alpha = 0.05\n",
    "top_x = n * alpha\n",
    "perms = []\n",
    "\n",
    "data = pd.read_csv('scores.txt', sep='\\t', header=None, names=['col1', 'col2'])\n",
    "samples = len(data)\n",
    "\n",
    "orig_diff = data['col1'].mean() - data['col2'].mean()\n",
    "print(f'Original difference = {orig_diff}.')\n",
    "\n",
    "if orig_diff < 0:\n",
    "    print(f'Since the original difference < 0: \\\n",
    "          H_0 = mean(col2) NOT > mean(col1) \\\n",
    "          H_a = mean(col2) > mean(col1).')\n",
    "else:\n",
    "    print(f'Since the original difference > 0: \\\n",
    "          H_0 = mean(col1) NOT > mean(col2) \\\n",
    "          H_a = mean(col1) > mean(col2).')"
   ]
  },
  {
   "cell_type": "code",
   "execution_count": 3,
   "metadata": {},
   "outputs": [],
   "source": [
    "# Perform the permutations for the experiment.\n",
    "for i in range(0, n):\n",
    "    perm = data['col1'].tolist() + data['col2'].tolist()\n",
    "    random.shuffle(perm)\n",
    "\n",
    "    size = int(len(perm) / 2)\n",
    "    new_col_1 = perm[:size]\n",
    "    new_col_2 = perm[size:]\n",
    "    \n",
    "    mean1 = mean(new_col_1)\n",
    "    mean2 = mean(new_col_2)\n",
    "    \n",
    "    if orig_diff < 0:\n",
    "        perms.append(mean2 - mean1)\n",
    "    else:\n",
    "        perms.append(mean1 - mean2)"
   ]
  },
  {
   "cell_type": "code",
   "execution_count": 4,
   "metadata": {},
   "outputs": [
    {
     "name": "stdout",
     "output_type": "stream",
     "text": [
      "The p-value is 0.484.\n",
      "The p-value is greater than alpha; the experiment fails to reject the null hypothesis.\n",
      "Result: mean(col2) is NOT > mean(col1).\n"
     ]
    }
   ],
   "source": [
    "# Tabulate and interpret the results of the experiment.\n",
    "count = 0\n",
    "\n",
    "for i in range(0, len(perms)):\n",
    "    if perms[i] > abs(orig_diff):\n",
    "        count += 1\n",
    "\n",
    "p_value = count / len(perms)\n",
    "\n",
    "print(f'The p-value is {p_value}.')\n",
    "\n",
    "if p_value > alpha:\n",
    "    print(f'The p-value is greater than alpha; the experiment fails to reject the null hypothesis.')\n",
    "    \n",
    "    if orig_diff < 0:\n",
    "        print(f'Result: mean(col2) is NOT > mean(col1).')\n",
    "    else:\n",
    "        print(f'Result: mean(col1) is NOT > mean(col2).')\n",
    "        \n",
    "else:\n",
    "    print(f'The p-value is less than alpha; the experiment rejects the null hypothesis.')\n",
    "    \n",
    "    if orig_diff < 0:\n",
    "        print(f'Result: mean(col2) > mean(col1) at this significance.')\n",
    "    else:\n",
    "        print(f'Result: mean(col1) > mean(col2) at this significance.')"
   ]
  },
  {
   "cell_type": "markdown",
   "metadata": {},
   "source": [
    "## Question 2: For data in `hospital.txt`:\n",
    "    - Divide subjects based on smoker (0: non-smoker, 1: smoker). Then, check whether weight has a significant difference between groups.\n",
    "    - Design a regression model to explore the relationship between blood pressure and smoke. Report B, P, AIC, and BIC."
   ]
  },
  {
   "cell_type": "code",
   "execution_count": 5,
   "metadata": {},
   "outputs": [
    {
     "name": "stdout",
     "output_type": "stream",
     "text": [
      "T-test statistic = 2.185583781463617 and p-value = 0.03122827941228747.\n",
      "Constant from t-value lookup table = 1.984467454426692.\n",
      "Able to reject null hypothesis: there is a significant difference between the means of the two groups.\n"
     ]
    }
   ],
   "source": [
    "# Use student's t-test to determine the difference between the means of the groups.\n",
    "# Null hypothesis: Weight has no significant difference between the groups\n",
    "\n",
    "df = pd.read_csv('hospital.txt', sep='\\t')\n",
    "\n",
    "df_smoker = df['Weight'][df['Smoker'] == 1]\n",
    "df_non_smoker = df['Weight'][df['Smoker'] == 0]\n",
    "\n",
    "ttest = stats.ttest_ind(df_smoker, df_non_smoker)\n",
    "\n",
    "# The t value with alpha = 0.05 and degrees of freedom = 98 is about 1.984\n",
    "alpha = 0.05\n",
    "degrees_freedom = len(df_smoker) + len(df_non_smoker) - 2 \n",
    "t_const = stats.t.ppf(1 - (alpha / 2), degrees_freedom)\n",
    "\n",
    "print(f'T-test statistic = {ttest.statistic} and p-value = {ttest.pvalue}.')\n",
    "print(f'Constant from t-value lookup table = {t_const}.')\n",
    "\n",
    "if ttest.statistic > t_const:\n",
    "    print('Able to reject null hypothesis: there is a significant difference between the means of the two groups.')\n",
    "else:\n",
    "    print('Fail to reject null hyopthesis: there is no significant difference between the means of the two groups.')"
   ]
  },
  {
   "cell_type": "code",
   "execution_count": 6,
   "metadata": {},
   "outputs": [
    {
     "name": "stdout",
     "output_type": "stream",
     "text": [
      "These models examine the effect that smoking has on blood pressure - both high and low.\n",
      "Note: in the summary, the beta values are listed under the coefficient column and the p-values are under the P>|z| column.\n",
      "\n",
      "                 Generalized Linear Model Regression Results                  \n",
      "==============================================================================\n",
      "Dep. Variable:     BloodPressure_high   No. Observations:                  100\n",
      "Model:                            GLM   Df Residuals:                       99\n",
      "Model Family:                Gaussian   Df Model:                            0\n",
      "Link Function:               identity   Scale:                          9525.9\n",
      "Method:                          IRLS   Log-Likelihood:                -599.48\n",
      "Date:                Mon, 20 Sep 2021   Deviance:                   9.4306e+05\n",
      "Time:                        14:08:44   Pearson chi2:                 9.43e+05\n",
      "No. Iterations:                     3                                         \n",
      "Covariance Type:            nonrobust                                         \n",
      "==============================================================================\n",
      "                 coef    std err          z      P>|z|      [0.025      0.975]\n",
      "------------------------------------------------------------------------------\n",
      "Smoker       129.3529     16.738      7.728      0.000      96.546     162.159\n",
      "==============================================================================\n",
      "AIC: 1200.9591817235264.\n",
      "BIC: 942603.8528574695.\n",
      "\n",
      "\n",
      "\n",
      "                 Generalized Linear Model Regression Results                  \n",
      "==============================================================================\n",
      "Dep. Variable:      BloodPressure_Low   No. Observations:                  100\n",
      "Model:                            GLM   Df Residuals:                       99\n",
      "Model Family:                Gaussian   Df Model:                            0\n",
      "Link Function:               identity   Scale:                          4223.6\n",
      "Method:                          IRLS   Log-Likelihood:                -558.81\n",
      "Date:                Mon, 20 Sep 2021   Deviance:                   4.1813e+05\n",
      "Time:                        14:08:44   Pearson chi2:                 4.18e+05\n",
      "No. Iterations:                     3                                         \n",
      "Covariance Type:            nonrobust                                         \n",
      "==============================================================================\n",
      "                 coef    std err          z      P>|z|      [0.025      0.975]\n",
      "------------------------------------------------------------------------------\n",
      "Smoker        89.9118     11.146      8.067      0.000      68.067     111.757\n",
      "==============================================================================\n",
      "AIC: 1119.6263481652995.\n",
      "BIC: 417677.8234457048.\n"
     ]
    }
   ],
   "source": [
    "# Use two GLMs to examine the effect that smoking has on blood pressure.\n",
    "X = df['Smoker']\n",
    "y = df['BloodPressure_high']\n",
    "z = df['BloodPressure_Low']\n",
    "\n",
    "model = sm.GLM(y, X, family=sm.families.Gaussian())\n",
    "results = model.fit()\n",
    "\n",
    "model2 = sm.GLM(z, X, family=sm.families.Gaussian())\n",
    "results2 = model2.fit()\n",
    "\n",
    "print(f'These models examine the effect that smoking has on blood pressure - both high and low.')\n",
    "print(f'Note: in the summary, the beta values are listed under the coefficient column and the p-values are under the P>|z| column.\\n')\n",
    "print(results.summary())\n",
    "print(f'AIC: {results.aic}.')\n",
    "print(f'BIC: {results.bic}.')\n",
    "print('\\n\\n')\n",
    "print(results2.summary())\n",
    "print(f'AIC: {results2.aic}.')\n",
    "print(f'BIC: {results2.bic}.')"
   ]
  },
  {
   "cell_type": "code",
   "execution_count": 7,
   "metadata": {},
   "outputs": [
    {
     "name": "stdout",
     "output_type": "stream",
     "text": [
      "This model measures the likelihood that an individual is a smoker based on their blood pressure.\n",
      "Note: in the summary, the beta values are listed under the coefficient column and the p-values are under the P>|z| column.\n",
      "\n",
      "                 Generalized Linear Model Regression Results                  \n",
      "==============================================================================\n",
      "Dep. Variable:                 Smoker   No. Observations:                  100\n",
      "Model:                            GLM   Df Residuals:                       98\n",
      "Model Family:                Gaussian   Df Model:                            1\n",
      "Link Function:               identity   Scale:                         0.19486\n",
      "Method:                          IRLS   Log-Likelihood:                -59.109\n",
      "Date:                Mon, 20 Sep 2021   Deviance:                       19.096\n",
      "Time:                        14:08:44   Pearson chi2:                     19.1\n",
      "No. Iterations:                     3                                         \n",
      "Covariance Type:            nonrobust                                         \n",
      "======================================================================================\n",
      "                         coef    std err          z      P>|z|      [0.025      0.975]\n",
      "--------------------------------------------------------------------------------------\n",
      "BloodPressure_high    -0.0134      0.005     -2.698      0.007      -0.023      -0.004\n",
      "BloodPressure_Low      0.0242      0.007      3.291      0.001       0.010       0.039\n",
      "======================================================================================\n",
      "AIC: 122.21862732487348.\n",
      "BIC: -432.21066860643856.\n"
     ]
    }
   ],
   "source": [
    "# Use another GLM to examine the opposite: the likelihood that an individual is a smoker based on their blood pressure.\n",
    "X = df[['BloodPressure_high', 'BloodPressure_Low']]\n",
    "y = df['Smoker']\n",
    "model = sm.GLM(y, X, family=sm.families.Gaussian())\n",
    "results = model.fit()\n",
    "\n",
    "print(f'This model measures the likelihood that an individual is a smoker based on their blood pressure.')\n",
    "print(f'Note: in the summary, the beta values are listed under the coefficient column and the p-values are under the P>|z| column.\\n')\n",
    "print(results.summary())\n",
    "print(f'AIC: {results.aic}.')\n",
    "print(f'BIC: {results.bic}.')"
   ]
  }
 ],
 "metadata": {
  "kernelspec": {
   "display_name": "Python 3",
   "language": "python",
   "name": "python3"
  },
  "language_info": {
   "codemirror_mode": {
    "name": "ipython",
    "version": 3
   },
   "file_extension": ".py",
   "mimetype": "text/x-python",
   "name": "python",
   "nbconvert_exporter": "python",
   "pygments_lexer": "ipython3",
   "version": "3.8.3"
  }
 },
 "nbformat": 4,
 "nbformat_minor": 4
}
