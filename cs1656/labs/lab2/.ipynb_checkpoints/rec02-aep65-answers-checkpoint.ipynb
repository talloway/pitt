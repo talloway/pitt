{
 "cells": [
  {
   "cell_type": "code",
   "execution_count": 1,
   "metadata": {},
   "outputs": [],
   "source": [
    "import matplotlib.pyplot as plt\n",
    "import pandas as pd\n",
    "import datetime\n",
    "import io\n",
    "import requests"
   ]
  },
  {
   "cell_type": "code",
   "execution_count": 2,
   "metadata": {},
   "outputs": [],
   "source": [
    "%matplotlib inline"
   ]
  },
  {
   "cell_type": "code",
   "execution_count": 4,
   "metadata": {},
   "outputs": [
    {
     "name": "stderr",
     "output_type": "stream",
     "text": [
      "C:\\Users\\Avery Peiffer\\anaconda3_new\\lib\\site-packages\\urllib3\\connectionpool.py:979: InsecureRequestWarning: Unverified HTTPS request is being made to host 'db.cs.pitt.edu'. Adding certificate verification is strongly advised. See: https://urllib3.readthedocs.io/en/latest/advanced-usage.html#ssl-warnings\n",
      "  warnings.warn(\n"
     ]
    }
   ],
   "source": [
    "r = io.StringIO(requests.get('http://data.cs1656.org/top12cities.csv', verify=False).content.decode('utf-8'))\n",
    "df = pd.read_csv(r,\\\n",
    "                       sep=',', engine='python')"
   ]
  },
  {
   "cell_type": "code",
   "execution_count": 6,
   "metadata": {
    "scrolled": false
   },
   "outputs": [
    {
     "data": {
      "text/html": [
       "<div>\n",
       "<style scoped>\n",
       "    .dataframe tbody tr th:only-of-type {\n",
       "        vertical-align: middle;\n",
       "    }\n",
       "\n",
       "    .dataframe tbody tr th {\n",
       "        vertical-align: top;\n",
       "    }\n",
       "\n",
       "    .dataframe thead th {\n",
       "        text-align: right;\n",
       "    }\n",
       "</style>\n",
       "<table border=\"1\" class=\"dataframe\">\n",
       "  <thead>\n",
       "    <tr style=\"text-align: right;\">\n",
       "      <th></th>\n",
       "      <th>2014 rank</th>\n",
       "      <th>City</th>\n",
       "      <th>State</th>\n",
       "      <th>2014 estimate</th>\n",
       "      <th>2010 Census</th>\n",
       "      <th>Change</th>\n",
       "      <th>2014 land area</th>\n",
       "    </tr>\n",
       "  </thead>\n",
       "  <tbody>\n",
       "    <tr>\n",
       "      <th>0</th>\n",
       "      <td>1</td>\n",
       "      <td>New York</td>\n",
       "      <td>New York</td>\n",
       "      <td>8491079</td>\n",
       "      <td>8175133</td>\n",
       "      <td>3.86%</td>\n",
       "      <td>302.60</td>\n",
       "    </tr>\n",
       "    <tr>\n",
       "      <th>1</th>\n",
       "      <td>2</td>\n",
       "      <td>Los Angeles</td>\n",
       "      <td>California</td>\n",
       "      <td>3928864</td>\n",
       "      <td>3792621</td>\n",
       "      <td>3.59%</td>\n",
       "      <td>468.70</td>\n",
       "    </tr>\n",
       "    <tr>\n",
       "      <th>2</th>\n",
       "      <td>3</td>\n",
       "      <td>Chicago</td>\n",
       "      <td>Illinois</td>\n",
       "      <td>2722389</td>\n",
       "      <td>2695598</td>\n",
       "      <td>0.99%</td>\n",
       "      <td>227.60</td>\n",
       "    </tr>\n",
       "    <tr>\n",
       "      <th>3</th>\n",
       "      <td>4</td>\n",
       "      <td>Houston</td>\n",
       "      <td>Texas</td>\n",
       "      <td>2239558</td>\n",
       "      <td>2100263</td>\n",
       "      <td>6.63%</td>\n",
       "      <td>599.60</td>\n",
       "    </tr>\n",
       "    <tr>\n",
       "      <th>4</th>\n",
       "      <td>5</td>\n",
       "      <td>Philadelphia</td>\n",
       "      <td>Pennsylvania</td>\n",
       "      <td>1560297</td>\n",
       "      <td>1526006</td>\n",
       "      <td>2.25%</td>\n",
       "      <td>134.10</td>\n",
       "    </tr>\n",
       "    <tr>\n",
       "      <th>5</th>\n",
       "      <td>6</td>\n",
       "      <td>Phoenix</td>\n",
       "      <td>Arizona</td>\n",
       "      <td>1537058</td>\n",
       "      <td>1445632</td>\n",
       "      <td>6.32%</td>\n",
       "      <td>516.70</td>\n",
       "    </tr>\n",
       "    <tr>\n",
       "      <th>6</th>\n",
       "      <td>7</td>\n",
       "      <td>San Antonio</td>\n",
       "      <td>Texas</td>\n",
       "      <td>1436697</td>\n",
       "      <td>1327407</td>\n",
       "      <td>8.23%</td>\n",
       "      <td>460.90</td>\n",
       "    </tr>\n",
       "    <tr>\n",
       "      <th>7</th>\n",
       "      <td>8</td>\n",
       "      <td>San Diego</td>\n",
       "      <td>California</td>\n",
       "      <td>1381069</td>\n",
       "      <td>1307402</td>\n",
       "      <td>5.63%</td>\n",
       "      <td>325.20</td>\n",
       "    </tr>\n",
       "    <tr>\n",
       "      <th>8</th>\n",
       "      <td>9</td>\n",
       "      <td>Dallas</td>\n",
       "      <td>Texas</td>\n",
       "      <td>1281047</td>\n",
       "      <td>1197816</td>\n",
       "      <td>6.95%</td>\n",
       "      <td>340.50</td>\n",
       "    </tr>\n",
       "    <tr>\n",
       "      <th>9</th>\n",
       "      <td>10</td>\n",
       "      <td>San Jose</td>\n",
       "      <td>California</td>\n",
       "      <td>1015785</td>\n",
       "      <td>945942</td>\n",
       "      <td>7.38%</td>\n",
       "      <td>176.60</td>\n",
       "    </tr>\n",
       "    <tr>\n",
       "      <th>10</th>\n",
       "      <td>11</td>\n",
       "      <td>Austin</td>\n",
       "      <td>Texas</td>\n",
       "      <td>912791</td>\n",
       "      <td>790390</td>\n",
       "      <td>15.49%</td>\n",
       "      <td>322.48</td>\n",
       "    </tr>\n",
       "    <tr>\n",
       "      <th>11</th>\n",
       "      <td>12</td>\n",
       "      <td>Jacksonville</td>\n",
       "      <td>Florida</td>\n",
       "      <td>853382</td>\n",
       "      <td>821784</td>\n",
       "      <td>3.85%</td>\n",
       "      <td>747.00</td>\n",
       "    </tr>\n",
       "  </tbody>\n",
       "</table>\n",
       "</div>"
      ],
      "text/plain": [
       "    2014 rank          City         State  2014 estimate  2010 Census  Change  \\\n",
       "0           1      New York      New York        8491079      8175133   3.86%   \n",
       "1           2   Los Angeles    California        3928864      3792621   3.59%   \n",
       "2           3       Chicago      Illinois        2722389      2695598   0.99%   \n",
       "3           4       Houston         Texas        2239558      2100263   6.63%   \n",
       "4           5  Philadelphia  Pennsylvania        1560297      1526006   2.25%   \n",
       "5           6       Phoenix       Arizona        1537058      1445632   6.32%   \n",
       "6           7   San Antonio         Texas        1436697      1327407   8.23%   \n",
       "7           8     San Diego    California        1381069      1307402   5.63%   \n",
       "8           9        Dallas         Texas        1281047      1197816   6.95%   \n",
       "9          10      San Jose    California        1015785       945942   7.38%   \n",
       "10         11        Austin         Texas         912791       790390  15.49%   \n",
       "11         12  Jacksonville       Florida         853382       821784   3.85%   \n",
       "\n",
       "    2014 land area  \n",
       "0           302.60  \n",
       "1           468.70  \n",
       "2           227.60  \n",
       "3           599.60  \n",
       "4           134.10  \n",
       "5           516.70  \n",
       "6           460.90  \n",
       "7           325.20  \n",
       "8           340.50  \n",
       "9           176.60  \n",
       "10          322.48  \n",
       "11          747.00  "
      ]
     },
     "execution_count": 6,
     "metadata": {},
     "output_type": "execute_result"
    }
   ],
   "source": [
    "df.head(12)"
   ]
  },
  {
   "cell_type": "code",
   "execution_count": 7,
   "metadata": {},
   "outputs": [
    {
     "data": {
      "image/png": "[encoded data removed]",
      "text/plain": [
       "<Figure size 720x432 with 1 Axes>"
      ]
     },
     "metadata": {
      "needs_background": "light"
     },
     "output_type": "display_data"
    }
   ],
   "source": [
    "fig = plt.figure(figsize=(10, 6))\n",
    "\n",
    "plt.scatter(df['2014 land area'], df['2014 estimate'])\n",
    "\n",
    "plt.xlabel('2014 Land Area')\n",
    "plt.ylabel('2014 Population Estimate')\n",
    "plt.title('Land Area vs. Population Estimate for 12 US Cities in 2014')\n",
    "\n",
    "plt.savefig('scatter_plot.png')\n",
    "plt.show()"
   ]
  },
  {
   "cell_type": "code",
   "execution_count": null,
   "metadata": {},
   "outputs": [],
   "source": []
  }
 ],
 "metadata": {
  "kernelspec": {
   "display_name": "Python 3",
   "language": "python",
   "name": "python3"
  },
  "language_info": {
   "codemirror_mode": {
    "name": "ipython",
    "version": 3
   },
   "file_extension": ".py",
   "mimetype": "text/x-python",
   "name": "python",
   "nbconvert_exporter": "python",
   "pygments_lexer": "ipython3",
   "version": "3.8.3"
  }
 },
 "nbformat": 4,
 "nbformat_minor": 4
}
