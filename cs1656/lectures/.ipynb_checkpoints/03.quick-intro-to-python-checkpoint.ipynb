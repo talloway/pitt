{
 "cells": [
  {
   "cell_type": "markdown",
   "metadata": {},
   "source": [
    "# Quick Introduction to Python  \n",
    "**CS 1656 -- Introduction to Data Science**   \n",
    "**[Alexandros Labrinidis](http://labrinidis.cs.pitt.edu)**     \n",
    "**http://cs1656.org** "
   ]
  },
  {
   "cell_type": "code",
   "execution_count": 1,
   "metadata": {},
   "outputs": [
    {
     "name": "stdout",
     "output_type": "stream",
     "text": [
      "Hello, world!\n"
     ]
    }
   ],
   "source": [
    "# ADAPTED FROM: Scipy Lecture Notes\n",
    "# http://www.scipy-lectures.org/index.html\n",
    "\n",
    "# Section 1.2 -- The Python Language\n",
    "# http://www.scipy-lectures.org/intro/language/python_language.html\n",
    "\n",
    "print(\"Hello, world!\")"
   ]
  },
  {
   "cell_type": "code",
   "execution_count": 2,
   "metadata": {},
   "outputs": [
    {
     "name": "stdout",
     "output_type": "stream",
     "text": [
      "<class 'int'>\n"
     ]
    },
    {
     "data": {
      "text/plain": [
       "6"
      ]
     },
     "execution_count": 2,
     "metadata": {},
     "output_type": "execute_result"
    }
   ],
   "source": [
    "a = 3\n",
    "b = 2*a\n",
    "print(type(b)) \n",
    "b"
   ]
  },
  {
   "cell_type": "code",
   "execution_count": 3,
   "metadata": {},
   "outputs": [
    {
     "name": "stdout",
     "output_type": "stream",
     "text": [
      "6\n"
     ]
    },
    {
     "data": {
      "text/plain": [
       "18"
      ]
     },
     "execution_count": 3,
     "metadata": {},
     "output_type": "execute_result"
    }
   ],
   "source": [
    "print(b)\n",
    "\n",
    "a*b"
   ]
  },
  {
   "cell_type": "code",
   "execution_count": 4,
   "metadata": {},
   "outputs": [
    {
     "data": {
      "text/plain": [
       "str"
      ]
     },
     "execution_count": 4,
     "metadata": {},
     "output_type": "execute_result"
    }
   ],
   "source": [
    "b = 'hello'\n",
    "type(b)    "
   ]
  },
  {
   "cell_type": "code",
   "execution_count": 5,
   "metadata": {},
   "outputs": [
    {
     "data": {
      "text/plain": [
       "'hellohello'"
      ]
     },
     "execution_count": 5,
     "metadata": {},
     "output_type": "execute_result"
    }
   ],
   "source": [
    "b + b"
   ]
  },
  {
   "cell_type": "code",
   "execution_count": 6,
   "metadata": {},
   "outputs": [
    {
     "data": {
      "text/plain": [
       "'hellohellohellohellohello'"
      ]
     },
     "execution_count": 6,
     "metadata": {},
     "output_type": "execute_result"
    }
   ],
   "source": [
    "5*b"
   ]
  },
  {
   "cell_type": "markdown",
   "metadata": {},
   "source": [
    "**Note**: above was example of dynamically typed variables"
   ]
  },
  {
   "cell_type": "code",
   "execution_count": 7,
   "metadata": {},
   "outputs": [
    {
     "data": {
      "text/plain": [
       "2"
      ]
     },
     "execution_count": 7,
     "metadata": {},
     "output_type": "execute_result"
    }
   ],
   "source": [
    "1 + 1"
   ]
  },
  {
   "cell_type": "code",
   "execution_count": 8,
   "metadata": {},
   "outputs": [
    {
     "data": {
      "text/plain": [
       "int"
      ]
     },
     "execution_count": 8,
     "metadata": {},
     "output_type": "execute_result"
    }
   ],
   "source": [
    "a = 4\n",
    "type(a)   "
   ]
  },
  {
   "cell_type": "code",
   "execution_count": 9,
   "metadata": {},
   "outputs": [
    {
     "data": {
      "text/plain": [
       "float"
      ]
     },
     "execution_count": 9,
     "metadata": {},
     "output_type": "execute_result"
    }
   ],
   "source": [
    "c = 2.1\n",
    "type(c)   "
   ]
  },
  {
   "cell_type": "code",
   "execution_count": 10,
   "metadata": {},
   "outputs": [
    {
     "data": {
      "text/plain": [
       "False"
      ]
     },
     "execution_count": 10,
     "metadata": {},
     "output_type": "execute_result"
    }
   ],
   "source": [
    "3 > 4\n",
    "\n",
    "test = (3 > 4)\n",
    "test"
   ]
  },
  {
   "cell_type": "code",
   "execution_count": 11,
   "metadata": {},
   "outputs": [
    {
     "data": {
      "text/plain": [
       "bool"
      ]
     },
     "execution_count": 11,
     "metadata": {},
     "output_type": "execute_result"
    }
   ],
   "source": [
    "type(test)      "
   ]
  },
  {
   "cell_type": "code",
   "execution_count": 12,
   "metadata": {},
   "outputs": [
    {
     "data": {
      "text/plain": [
       "1.5"
      ]
     },
     "execution_count": 12,
     "metadata": {},
     "output_type": "execute_result"
    }
   ],
   "source": [
    "# integer division - python 2\n",
    "3 / 2   \n",
    "# = 1"
   ]
  },
  {
   "cell_type": "code",
   "execution_count": 13,
   "metadata": {},
   "outputs": [
    {
     "data": {
      "text/plain": [
       "1.5"
      ]
     },
     "execution_count": 13,
     "metadata": {},
     "output_type": "execute_result"
    }
   ],
   "source": [
    "# integer division - python 3\n",
    "3 / 2\n",
    "# = 1.5"
   ]
  },
  {
   "cell_type": "code",
   "execution_count": 14,
   "metadata": {},
   "outputs": [
    {
     "data": {
      "text/plain": [
       "1.5"
      ]
     },
     "execution_count": 14,
     "metadata": {},
     "output_type": "execute_result"
    }
   ],
   "source": [
    "3 / 2."
   ]
  },
  {
   "cell_type": "code",
   "execution_count": 15,
   "metadata": {},
   "outputs": [
    {
     "data": {
      "text/plain": [
       "1.5"
      ]
     },
     "execution_count": 15,
     "metadata": {},
     "output_type": "execute_result"
    }
   ],
   "source": [
    "a = 3\n",
    "b = 2\n",
    "a / b # In Python 2  "
   ]
  },
  {
   "cell_type": "code",
   "execution_count": 16,
   "metadata": {},
   "outputs": [
    {
     "data": {
      "text/plain": [
       "1.5"
      ]
     },
     "execution_count": 16,
     "metadata": {},
     "output_type": "execute_result"
    }
   ],
   "source": [
    "a / float(b)"
   ]
  },
  {
   "cell_type": "code",
   "execution_count": 17,
   "metadata": {},
   "outputs": [
    {
     "data": {
      "text/plain": [
       "1.5"
      ]
     },
     "execution_count": 17,
     "metadata": {},
     "output_type": "execute_result"
    }
   ],
   "source": [
    "from __future__ import division  \n",
    "3 / 2  "
   ]
  },
  {
   "cell_type": "markdown",
   "metadata": {},
   "source": [
    "## Lists"
   ]
  },
  {
   "cell_type": "code",
   "execution_count": 18,
   "metadata": {},
   "outputs": [
    {
     "data": {
      "text/plain": [
       "list"
      ]
     },
     "execution_count": 18,
     "metadata": {},
     "output_type": "execute_result"
    }
   ],
   "source": [
    "####################### LISTS ####################### \n",
    "\n",
    "l = ['red', 'white', 'blue', 'gold', 'black', 'pink']\n",
    "type(l)"
   ]
  },
  {
   "cell_type": "code",
   "execution_count": 19,
   "metadata": {},
   "outputs": [
    {
     "name": "stdout",
     "output_type": "stream",
     "text": [
      "['red', 'white', 'blue', 'gold', 'black', 'pink']\n",
      "blue\n",
      "pink\n",
      "black\n"
     ]
    },
    {
     "ename": "IndexError",
     "evalue": "list index out of range",
     "output_type": "error",
     "traceback": [
      "\u001b[0;31m---------------------------------------------------------------------------\u001b[0m",
      "\u001b[0;31mIndexError\u001b[0m                                Traceback (most recent call last)",
      "\u001b[0;32m<ipython-input-19-77c5f6e5b694>\u001b[0m in \u001b[0;36m<module>\u001b[0;34m\u001b[0m\n\u001b[1;32m      3\u001b[0m \u001b[0mprint\u001b[0m \u001b[0;34m(\u001b[0m\u001b[0ml\u001b[0m\u001b[0;34m[\u001b[0m\u001b[0;34m-\u001b[0m\u001b[0;36m1\u001b[0m\u001b[0;34m]\u001b[0m\u001b[0;34m)\u001b[0m\u001b[0;34m\u001b[0m\u001b[0;34m\u001b[0m\u001b[0m\n\u001b[1;32m      4\u001b[0m \u001b[0mprint\u001b[0m \u001b[0;34m(\u001b[0m\u001b[0ml\u001b[0m\u001b[0;34m[\u001b[0m\u001b[0;34m-\u001b[0m\u001b[0;36m2\u001b[0m\u001b[0;34m]\u001b[0m\u001b[0;34m)\u001b[0m\u001b[0;34m\u001b[0m\u001b[0;34m\u001b[0m\u001b[0m\n\u001b[0;32m----> 5\u001b[0;31m \u001b[0mprint\u001b[0m \u001b[0;34m(\u001b[0m\u001b[0ml\u001b[0m\u001b[0;34m[\u001b[0m\u001b[0;36m15\u001b[0m\u001b[0;34m]\u001b[0m\u001b[0;34m)\u001b[0m \u001b[0;31m# causes runtime error\u001b[0m\u001b[0;34m\u001b[0m\u001b[0;34m\u001b[0m\u001b[0m\n\u001b[0m",
      "\u001b[0;31mIndexError\u001b[0m: list index out of range"
     ]
    }
   ],
   "source": [
    "print (l)\n",
    "print (l[2])\n",
    "print (l[-1])\n",
    "print (l[-2])\n",
    "print (l[15]) # causes runtime error"
   ]
  },
  {
   "cell_type": "code",
   "execution_count": 20,
   "metadata": {},
   "outputs": [
    {
     "name": "stdout",
     "output_type": "stream",
     "text": [
      "['red', 'white', 'blue']\n",
      "['red', 'white', 'blue']\n",
      "['blue', 'gold']\n",
      "['blue', 'gold', 'black', 'pink']\n"
     ]
    }
   ],
   "source": [
    "# l[start:stop] contains the elements with index=i, such that start<= i < stop \n",
    "# (i.e., i ranges from start to stop-1)\n",
    "print (l[0:3])\n",
    "print (l[:3])\n",
    "\n",
    "print (l[2:4])\n",
    "print (l[2:])"
   ]
  },
  {
   "cell_type": "code",
   "execution_count": 21,
   "metadata": {},
   "outputs": [
    {
     "name": "stdout",
     "output_type": "stream",
     "text": [
      "['red', 'white', 'blue', 'yellow', 'black', 'pink']\n",
      "['red', 'white', 'light blue', 'gold', 'black', 'pink']\n"
     ]
    }
   ],
   "source": [
    "# lists are mutable\n",
    "l[3] = 'yellow'\n",
    "print (l)\n",
    "\n",
    "l[2:4] = ['light blue', 'gold']\n",
    "print (l)"
   ]
  },
  {
   "cell_type": "code",
   "execution_count": 22,
   "metadata": {},
   "outputs": [
    {
     "name": "stdout",
     "output_type": "stream",
     "text": [
      "['red', '42', 'light blue', 'gold', 'black', 'pink']\n",
      "['red', '42', 'light blue', 'gold', 'black', 'pink', 'green']\n"
     ]
    }
   ],
   "source": [
    "l[1] = '42'\n",
    "print (l)\n",
    "\n",
    "l.append('green')\n",
    "print (l)"
   ]
  },
  {
   "cell_type": "code",
   "execution_count": 23,
   "metadata": {},
   "outputs": [
    {
     "name": "stdout",
     "output_type": "stream",
     "text": [
      "green\n",
      "['red', '42', 'light blue', 'gold', 'black', 'pink']\n"
     ]
    }
   ],
   "source": [
    "print(l.pop())\n",
    "print (l)"
   ]
  },
  {
   "cell_type": "code",
   "execution_count": 24,
   "metadata": {},
   "outputs": [
    {
     "name": "stdout",
     "output_type": "stream",
     "text": [
      "['red', '42', 'light blue', 'gold', 'black', 'pink', 'one', 'two']\n"
     ]
    }
   ],
   "source": [
    "l.extend(['one', 'two'])\n",
    "print (l)"
   ]
  },
  {
   "cell_type": "code",
   "execution_count": 25,
   "metadata": {},
   "outputs": [
    {
     "name": "stdout",
     "output_type": "stream",
     "text": [
      "['red', '42', 'light blue', 'gold', 'black', 'pink']\n"
     ]
    }
   ],
   "source": [
    "l = l[:-2]\n",
    "print (l)"
   ]
  },
  {
   "cell_type": "code",
   "execution_count": 26,
   "metadata": {},
   "outputs": [
    {
     "name": "stdout",
     "output_type": "stream",
     "text": [
      "['alice', 'bob', 'cathy', 'dre']\n",
      "['red', '42', 'light blue', 'gold', 'black', 'pink', 'alice', 'bob', 'cathy', 'dre']\n"
     ]
    }
   ],
   "source": [
    "m = ['alice', 'bob', 'cathy', 'dre']\n",
    "print (m)\n",
    "\n",
    "n = l + m\n",
    "print (n)"
   ]
  },
  {
   "cell_type": "markdown",
   "metadata": {},
   "source": [
    "## Strings"
   ]
  },
  {
   "cell_type": "code",
   "execution_count": 27,
   "metadata": {},
   "outputs": [
    {
     "name": "stdout",
     "output_type": "stream",
     "text": [
      "Hello,                \n",
      "how are you\n",
      "abcdefghij.def\n",
      "def\n",
      "defghij.def\n"
     ]
    }
   ],
   "source": [
    "####################### STRINGS ####################### \n",
    "s = 'Hello, how are you?'\n",
    "s = \"Hi, what's up\"\n",
    "# tripling the quotes allows the string to span more than one line\n",
    "s = '''Hello,                \n",
    "how are you''' \n",
    "print (s)\n",
    "\n",
    "astr = 'abcdefghij.def'\n",
    "print (astr)\n",
    "print (astr[3:6])\n",
    "print (astr[3:])"
   ]
  },
  {
   "cell_type": "code",
   "execution_count": 28,
   "metadata": {},
   "outputs": [
    {
     "ename": "TypeError",
     "evalue": "'str' object does not support item assignment",
     "output_type": "error",
     "traceback": [
      "\u001b[0;31m---------------------------------------------------------------------------\u001b[0m",
      "\u001b[0;31mTypeError\u001b[0m                                 Traceback (most recent call last)",
      "\u001b[0;32m<ipython-input-28-e349735a87c9>\u001b[0m in \u001b[0;36m<module>\u001b[0;34m\u001b[0m\n\u001b[1;32m      1\u001b[0m \u001b[0;31m# strings are not immutable\u001b[0m\u001b[0;34m\u001b[0m\u001b[0;34m\u001b[0m\u001b[0;34m\u001b[0m\u001b[0m\n\u001b[0;32m----> 2\u001b[0;31m \u001b[0mastr\u001b[0m\u001b[0;34m[\u001b[0m\u001b[0;36m2\u001b[0m\u001b[0;34m]\u001b[0m \u001b[0;34m=\u001b[0m \u001b[0;34m'z'\u001b[0m \u001b[0;31m## uncomment to see runtime error\u001b[0m\u001b[0;34m\u001b[0m\u001b[0;34m\u001b[0m\u001b[0m\n\u001b[0m\u001b[1;32m      3\u001b[0m \u001b[0mprint\u001b[0m \u001b[0;34m(\u001b[0m\u001b[0mastr\u001b[0m\u001b[0;34m)\u001b[0m\u001b[0;34m\u001b[0m\u001b[0;34m\u001b[0m\u001b[0m\n",
      "\u001b[0;31mTypeError\u001b[0m: 'str' object does not support item assignment"
     ]
    }
   ],
   "source": [
    "# strings are not immutable\n",
    "astr[2] = 'z' ## uncomment to see runtime error \n",
    "print (astr)"
   ]
  },
  {
   "cell_type": "code",
   "execution_count": 29,
   "metadata": {},
   "outputs": [
    {
     "name": "stdout",
     "output_type": "stream",
     "text": [
      "abcdefghij.def\n",
      "abc#efghij.def\n",
      "abcdefghij.def\n"
     ]
    }
   ],
   "source": [
    "print (astr)\n",
    "print (astr.replace('d', '#', 1))\n",
    "print (astr)"
   ]
  },
  {
   "cell_type": "code",
   "execution_count": 30,
   "metadata": {},
   "outputs": [
    {
     "data": {
      "text/plain": [
       "'abc#efghij.#ef'"
      ]
     },
     "execution_count": 30,
     "metadata": {},
     "output_type": "execute_result"
    }
   ],
   "source": [
    "astr.replace('d', '#')"
   ]
  },
  {
   "cell_type": "code",
   "execution_count": 31,
   "metadata": {},
   "outputs": [
    {
     "data": {
      "text/plain": [
       "'An integer: 42; a float: 0.010000; another string: alice'"
      ]
     },
     "execution_count": 31,
     "metadata": {},
     "output_type": "execute_result"
    }
   ],
   "source": [
    "fs = 'An integer: %i; a float: %f; another string: %s' % (42, 0.01, 'alice')\n",
    "fs"
   ]
  },
  {
   "cell_type": "code",
   "execution_count": 32,
   "metadata": {},
   "outputs": [
    {
     "data": {
      "text/plain": [
       "'processing_of_dataset_102.txt'"
      ]
     },
     "execution_count": 32,
     "metadata": {},
     "output_type": "execute_result"
    }
   ],
   "source": [
    "i = 102\n",
    "filename = 'processing_of_dataset_%d.txt' % i\n",
    "filename"
   ]
  },
  {
   "cell_type": "markdown",
   "metadata": {},
   "source": [
    "## Dictionaries"
   ]
  },
  {
   "cell_type": "code",
   "execution_count": 33,
   "metadata": {},
   "outputs": [
    {
     "name": "stdout",
     "output_type": "stream",
     "text": [
      "{'cs1555': 'intro to database systems', 'cs1520': 'web programming', 'cs1501': 'algorithm implementation', 'cs1656': 'intro to data science'}\n"
     ]
    }
   ],
   "source": [
    "####################### DICTIONARIES ####################### \n",
    "courses = {'cs1555':'intro to database systems', \n",
    "    'cs1520':'web programming', \n",
    "    'cs1501':'algorithm implementation'}\n",
    "\n",
    "courses['cs1656'] = 'intro to data science'\n",
    "\n",
    "print (courses)"
   ]
  },
  {
   "cell_type": "code",
   "execution_count": 34,
   "metadata": {},
   "outputs": [
    {
     "data": {
      "text/plain": [
       "'intro to database systems'"
      ]
     },
     "execution_count": 34,
     "metadata": {},
     "output_type": "execute_result"
    }
   ],
   "source": [
    "courses['cs1555']"
   ]
  },
  {
   "cell_type": "code",
   "execution_count": 35,
   "metadata": {},
   "outputs": [
    {
     "name": "stdout",
     "output_type": "stream",
     "text": [
      "dict_keys(['cs1555', 'cs1520', 'cs1501', 'cs1656'])\n",
      "dict_values(['intro to database systems', 'web programming', 'algorithm implementation', 'intro to data science'])\n"
     ]
    }
   ],
   "source": [
    "print (courses.keys())\n",
    "\n",
    "print (courses.values())"
   ]
  },
  {
   "cell_type": "code",
   "execution_count": 36,
   "metadata": {},
   "outputs": [
    {
     "data": {
      "text/plain": [
       "True"
      ]
     },
     "execution_count": 36,
     "metadata": {},
     "output_type": "execute_result"
    }
   ],
   "source": [
    "'cs1656' in courses"
   ]
  },
  {
   "cell_type": "code",
   "execution_count": 37,
   "metadata": {},
   "outputs": [
    {
     "data": {
      "text/plain": [
       "False"
      ]
     },
     "execution_count": 37,
     "metadata": {},
     "output_type": "execute_result"
    }
   ],
   "source": [
    "'cs1655' in courses"
   ]
  },
  {
   "cell_type": "code",
   "execution_count": 38,
   "metadata": {},
   "outputs": [
    {
     "data": {
      "text/plain": [
       "{'a': 1, 'b': 2, 3: 'hello'}"
      ]
     },
     "execution_count": 38,
     "metadata": {},
     "output_type": "execute_result"
    }
   ],
   "source": [
    "mixed = {'a':1, 'b':2, 3:'hello'}\n",
    "mixed"
   ]
  },
  {
   "cell_type": "code",
   "execution_count": 39,
   "metadata": {},
   "outputs": [
    {
     "name": "stdout",
     "output_type": "stream",
     "text": [
      "{'user': 'alex', 'text': 'cs1656 today features an intro to python', 'retweet_count': 3, 'hashtags': ['#datascience', '#python', '#pitt']}\n",
      "cs1656 today features an intro to python\n",
      "['#datascience', '#python', '#pitt']\n",
      "#python\n"
     ]
    }
   ],
   "source": [
    "tweet = {\n",
    "    'user' : 'alex',\n",
    "    'text' : 'cs1656 today features an intro to python',\n",
    "    'retweet_count' : 3,\n",
    "    'hashtags' : [\"#datascience\", \"#python\", \"#pitt\"]\n",
    "}\n",
    "print (tweet)\n",
    "print (tweet['text'])\n",
    "print (tweet['hashtags'])\n",
    "print (tweet['hashtags'][1])"
   ]
  },
  {
   "cell_type": "markdown",
   "metadata": {},
   "source": [
    "## Tuples"
   ]
  },
  {
   "cell_type": "code",
   "execution_count": 40,
   "metadata": {},
   "outputs": [
    {
     "name": "stdout",
     "output_type": "stream",
     "text": [
      "12345\n",
      "(12345, 54321, 'hello', 'there!')\n",
      "(0, 2)\n"
     ]
    }
   ],
   "source": [
    "####################### TUPLES (IMMUTABLE LISTS) ####################### \n",
    "t = 12345, 54321, 'hello', \"there!\"\n",
    "print (t[0])\n",
    "print (t)\n",
    "u = (0, 2)\n",
    "print (u)"
   ]
  },
  {
   "cell_type": "code",
   "execution_count": 41,
   "metadata": {},
   "outputs": [
    {
     "ename": "TypeError",
     "evalue": "'tuple' object does not support item assignment",
     "output_type": "error",
     "traceback": [
      "\u001b[0;31m---------------------------------------------------------------------------\u001b[0m",
      "\u001b[0;31mTypeError\u001b[0m                                 Traceback (most recent call last)",
      "\u001b[0;32m<ipython-input-41-0ec1c1b7f949>\u001b[0m in \u001b[0;36m<module>\u001b[0;34m\u001b[0m\n\u001b[0;32m----> 1\u001b[0;31m \u001b[0mu\u001b[0m\u001b[0;34m[\u001b[0m\u001b[0;36m1\u001b[0m\u001b[0;34m]\u001b[0m \u001b[0;34m=\u001b[0m \u001b[0;36m6\u001b[0m  \u001b[0;31m## uncomment to see runtime error\u001b[0m\u001b[0;34m\u001b[0m\u001b[0;34m\u001b[0m\u001b[0m\n\u001b[0m\u001b[1;32m      2\u001b[0m \u001b[0mprint\u001b[0m \u001b[0;34m(\u001b[0m\u001b[0mu\u001b[0m\u001b[0;34m)\u001b[0m\u001b[0;34m\u001b[0m\u001b[0;34m\u001b[0m\u001b[0m\n",
      "\u001b[0;31mTypeError\u001b[0m: 'tuple' object does not support item assignment"
     ]
    }
   ],
   "source": [
    "u[1] = 6  ## uncomment to see runtime error\n",
    "print (u)"
   ]
  },
  {
   "cell_type": "code",
   "execution_count": 42,
   "metadata": {},
   "outputs": [
    {
     "name": "stdout",
     "output_type": "stream",
     "text": [
      "cannot modify a tuple\n"
     ]
    }
   ],
   "source": [
    "my_list = [1,2]\n",
    "my_tuple = (3, 4)\n",
    "also_tup = 5, 6\n",
    "my_list[1] = 12\n",
    "try:\n",
    "    my_tuple[1] = 13\n",
    "except TypeError:\n",
    "    print (\"cannot modify a tuple\")"
   ]
  },
  {
   "cell_type": "markdown",
   "metadata": {},
   "source": [
    "## Sets"
   ]
  },
  {
   "cell_type": "code",
   "execution_count": 43,
   "metadata": {},
   "outputs": [
    {
     "name": "stdout",
     "output_type": "stream",
     "text": [
      "{'b', 'c', 'a'}\n",
      "{'c'}\n"
     ]
    }
   ],
   "source": [
    "####################### SETS (UNORDERED, UNIQUE ITEMS) ####################### \n",
    "s = set(('a', 'b', 'c', 'a'))\n",
    "print (s)    \n",
    "print (s.difference(('a', 'b')))    "
   ]
  },
  {
   "cell_type": "markdown",
   "metadata": {},
   "source": [
    "## Assignments"
   ]
  },
  {
   "cell_type": "code",
   "execution_count": 44,
   "metadata": {},
   "outputs": [
    {
     "name": "stdout",
     "output_type": "stream",
     "text": [
      "True\n"
     ]
    }
   ],
   "source": [
    "####################### ASSIGNMENT ####################### \n",
    "a = 'banana'\n",
    "b = 'banana'\n",
    "print(a is b)"
   ]
  },
  {
   "cell_type": "code",
   "execution_count": 45,
   "metadata": {},
   "outputs": [
    {
     "name": "stdout",
     "output_type": "stream",
     "text": [
      "[1, 2, 3]\n",
      "[1, 2, 3]\n"
     ]
    }
   ],
   "source": [
    "c = [1, 2, 3]\n",
    "print (c)\n",
    "d = c\n",
    "print (d)"
   ]
  },
  {
   "cell_type": "code",
   "execution_count": 46,
   "metadata": {},
   "outputs": [
    {
     "name": "stdout",
     "output_type": "stream",
     "text": [
      "True\n",
      "['z', 2, 3]\n",
      "['z', 2, 3]\n"
     ]
    }
   ],
   "source": [
    "print (c is d)\n",
    "d[0] = 'z'\n",
    "print (d)\n",
    "print (c)"
   ]
  },
  {
   "cell_type": "code",
   "execution_count": 47,
   "metadata": {},
   "outputs": [
    {
     "name": "stdout",
     "output_type": "stream",
     "text": [
      "False\n",
      "True\n"
     ]
    }
   ],
   "source": [
    "d = ['z',2,3]\n",
    "print (c is d)\n",
    "print (c == d)\n"
   ]
  },
  {
   "cell_type": "code",
   "execution_count": 48,
   "metadata": {},
   "outputs": [
    {
     "name": "stdout",
     "output_type": "stream",
     "text": [
      "['a', 'b', 'c', 'd']\n",
      "False\n"
     ]
    }
   ],
   "source": [
    "d = ['a', 'b', 'c', 'd']\n",
    "print (d)\n",
    "print (c is d)"
   ]
  },
  {
   "cell_type": "code",
   "execution_count": 49,
   "metadata": {},
   "outputs": [
    {
     "name": "stdout",
     "output_type": "stream",
     "text": [
      "['z', 2, 3]\n",
      "[1, 2, 3, 4, 5]\n",
      "4473436296\n",
      "4472630728\n"
     ]
    }
   ],
   "source": [
    "d[:] = [1, 2, 3, 4, 5]\n",
    "print(c)\n",
    "print(d)\n",
    "print (id(c))\n",
    "print (id(d))"
   ]
  },
  {
   "cell_type": "code",
   "execution_count": 50,
   "metadata": {},
   "outputs": [
    {
     "name": "stdout",
     "output_type": "stream",
     "text": [
      "[1, 2, 3, 4, 5]\n",
      "[1, 2, 3, 4, 5]\n",
      "4473436296\n",
      "4473436296\n"
     ]
    }
   ],
   "source": [
    "d = c\n",
    "d[:] = [1, 2, 3, 4, 5]\n",
    "print(c)\n",
    "print(d)\n",
    "print (id(c))\n",
    "print (id(d))"
   ]
  },
  {
   "cell_type": "markdown",
   "metadata": {},
   "source": [
    "## Control Flow"
   ]
  },
  {
   "cell_type": "code",
   "execution_count": 51,
   "metadata": {},
   "outputs": [
    {
     "name": "stdout",
     "output_type": "stream",
     "text": [
      "TADA!\n",
      "more than 2\n",
      "range(0, 6)\n"
     ]
    }
   ],
   "source": [
    "####################### CONTROL FLOW ####################### \n",
    "if 2**2 == 4:\n",
    "    print (\"TADA!\")\n",
    "\n",
    "a = 10\n",
    "if a==1:\n",
    "    print (1)\n",
    "elif a==2:\n",
    "    print (2)\n",
    "else:\n",
    "    print ('more than 2')\n",
    "\n",
    "print (range(6))"
   ]
  },
  {
   "cell_type": "code",
   "execution_count": 52,
   "metadata": {},
   "outputs": [
    {
     "name": "stdout",
     "output_type": "stream",
     "text": [
      "0\n",
      "1\n",
      "2\n",
      "3\n",
      "alice\n",
      "bob\n",
      "cathy\n",
      "dolores\n",
      "emily\n",
      "alice\n",
      "bob\n",
      "cathy\n",
      "dolores\n",
      "emily\n"
     ]
    }
   ],
   "source": [
    "for idx in range(4):\n",
    "    print (idx)\n",
    "    \n",
    "for word in ['alice', 'bob', 'cathy', 'dolores', 'emily']:\n",
    "    print (word)\n",
    "\n",
    "for word in ('alice', 'bob', 'cathy', 'dolores', 'emily'):\n",
    "    print (word)\n",
    " "
   ]
  },
  {
   "cell_type": "code",
   "execution_count": 53,
   "metadata": {},
   "outputs": [
    {
     "name": "stdout",
     "output_type": "stream",
     "text": [
      "True\n",
      "True\n",
      "False\n",
      "True\n",
      "False\n",
      "o\n",
      "e\n",
      "u\n"
     ]
    }
   ],
   "source": [
    "# The following evaluate to False:\n",
    "# any number equal to zero\n",
    "# an empty container \t\n",
    "# False, None\n",
    "# Everything else evaluates to True\n",
    "print(1 == 1) # True\n",
    "print(2 is 2) # True\n",
    "print([2] is [2]) # False\n",
    "print(3 in [1, 2, 3]) # True\n",
    "print(4 in [1, 2, 3]) # False\n",
    "\n",
    "vowels = 'aeiouy'\n",
    "for i in 'powerful':\n",
    "    if i in vowels:\n",
    "        print(i)"
   ]
  },
  {
   "cell_type": "code",
   "execution_count": 54,
   "metadata": {},
   "outputs": [
    {
     "name": "stdout",
     "output_type": "stream",
     "text": [
      "Key: a has value: 1\n",
      "Key: b has value: 2.2\n",
      "Key: c has value: third\n",
      "Key: a has value: 1\n",
      "Key: b has value: 2.2\n",
      "Key: c has value: third\n",
      "[0, 1, 4, 9, 16]\n",
      "[0, 2, 4, 6, 8, 10, 12, 14, 16, 18, 20, 22, 24]\n"
     ]
    }
   ],
   "source": [
    "ar = {'a': 1, 'b':2.2, 'c':'third'}\n",
    "\n",
    "for key, val in ar.items():\n",
    "    print('Key: %s has value: %s' % (key, val))\n",
    "\n",
    "for key, val in sorted(ar.items()):\n",
    "    print('Key: %s has value: %s' % (key, val))\n",
    "\n",
    "print ([i**2 for i in range(5)])\n",
    "print ([x for x in range(25) if x%2 == 0])"
   ]
  },
  {
   "cell_type": "markdown",
   "metadata": {},
   "source": [
    "## Five Word-Counting Examples"
   ]
  },
  {
   "cell_type": "code",
   "execution_count": 55,
   "metadata": {},
   "outputs": [
    {
     "name": "stdout",
     "output_type": "stream",
     "text": [
      "['Alma', 'Mater,', 'wise', 'and', 'glorious,', 'Child', 'of', 'Light', 'and', 'Bride', 'of', 'Truth,', 'Over', 'fate', 'and', 'foe', 'victorious,', 'Dowered', 'with', 'eternal', 'youth,', 'Crowned', 'with', 'love', 'of', 'son', 'and', 'daughter,', 'Thou', 'shalt', 'conquer', 'as', 'of', 'yore,', 'Dear', 'old', 'Pittsburgh,', 'Alma', 'Mater,', 'God', 'preserve', 'Thee', 'evermore!']\n"
     ]
    }
   ],
   "source": [
    "####################### FIVE WORD COUNTING EXAMPLES ####################### \n",
    "doc_string = \"\"\"Alma Mater, wise and glorious,\n",
    "Child of Light and Bride of Truth,\n",
    "Over fate and foe victorious,\n",
    "Dowered with eternal youth,\n",
    "Crowned with love of son and daughter,\n",
    "Thou shalt conquer as of yore,\n",
    "Dear old Pittsburgh, Alma Mater,\n",
    "God preserve Thee evermore!\"\"\"\n",
    "\n",
    "doc_words = doc_string.split()\n",
    "print (doc_words)"
   ]
  },
  {
   "cell_type": "code",
   "execution_count": 56,
   "metadata": {},
   "outputs": [],
   "source": [
    "# Info from: https://docs.python.org/2/library/pprint.html\n",
    "import pprint\n",
    "pp = pprint.PrettyPrinter(indent=4)"
   ]
  },
  {
   "cell_type": "code",
   "execution_count": 57,
   "metadata": {},
   "outputs": [
    {
     "name": "stdout",
     "output_type": "stream",
     "text": [
      "{   'Alma': 2,\n",
      "    'Bride': 1,\n",
      "    'Child': 1,\n",
      "    'Crowned': 1,\n",
      "    'Dear': 1,\n",
      "    'Dowered': 1,\n",
      "    'God': 1,\n",
      "    'Light': 1,\n",
      "    'Mater,': 2,\n",
      "    'Over': 1,\n",
      "    'Pittsburgh,': 1,\n",
      "    'Thee': 1,\n",
      "    'Thou': 1,\n",
      "    'Truth,': 1,\n",
      "    'and': 4,\n",
      "    'as': 1,\n",
      "    'conquer': 1,\n",
      "    'daughter,': 1,\n",
      "    'eternal': 1,\n",
      "    'evermore!': 1,\n",
      "    'fate': 1,\n",
      "    'foe': 1,\n",
      "    'glorious,': 1,\n",
      "    'love': 1,\n",
      "    'of': 4,\n",
      "    'old': 1,\n",
      "    'preserve': 1,\n",
      "    'shalt': 1,\n",
      "    'son': 1,\n",
      "    'victorious,': 1,\n",
      "    'wise': 1,\n",
      "    'with': 2,\n",
      "    'yore,': 1,\n",
      "    'youth,': 1}\n"
     ]
    }
   ],
   "source": [
    "# version 1\n",
    "word_counts = {}  # empty dict\n",
    "for word in doc_words:\n",
    "    if word in word_counts:\n",
    "        word_counts[word] += 1\n",
    "    else:\n",
    "        word_counts[word] = 1\n",
    "pp.pprint(word_counts)"
   ]
  },
  {
   "cell_type": "code",
   "execution_count": 58,
   "metadata": {},
   "outputs": [
    {
     "name": "stdout",
     "output_type": "stream",
     "text": [
      "{   'Alma': 2,\n",
      "    'Bride': 1,\n",
      "    'Child': 1,\n",
      "    'Crowned': 1,\n",
      "    'Dear': 1,\n",
      "    'Dowered': 1,\n",
      "    'God': 1,\n",
      "    'Light': 1,\n",
      "    'Mater,': 2,\n",
      "    'Over': 1,\n",
      "    'Pittsburgh,': 1,\n",
      "    'Thee': 1,\n",
      "    'Thou': 1,\n",
      "    'Truth,': 1,\n",
      "    'and': 4,\n",
      "    'as': 1,\n",
      "    'conquer': 1,\n",
      "    'daughter,': 1,\n",
      "    'eternal': 1,\n",
      "    'evermore!': 1,\n",
      "    'fate': 1,\n",
      "    'foe': 1,\n",
      "    'glorious,': 1,\n",
      "    'love': 1,\n",
      "    'of': 4,\n",
      "    'old': 1,\n",
      "    'preserve': 1,\n",
      "    'shalt': 1,\n",
      "    'son': 1,\n",
      "    'victorious,': 1,\n",
      "    'wise': 1,\n",
      "    'with': 2,\n",
      "    'yore,': 1,\n",
      "    'youth,': 1}\n"
     ]
    }
   ],
   "source": [
    "# version 2\n",
    "word_counts = {}  # empty dict\n",
    "for word in doc_words:\n",
    "    try:\n",
    "        word_counts[word] += 1\n",
    "    except KeyError:\n",
    "        word_counts[word] = 1\n",
    "pp.pprint(word_counts)"
   ]
  },
  {
   "cell_type": "code",
   "execution_count": 59,
   "metadata": {},
   "outputs": [
    {
     "name": "stdout",
     "output_type": "stream",
     "text": [
      "{   'Alma': 2,\n",
      "    'Bride': 1,\n",
      "    'Child': 1,\n",
      "    'Crowned': 1,\n",
      "    'Dear': 1,\n",
      "    'Dowered': 1,\n",
      "    'God': 1,\n",
      "    'Light': 1,\n",
      "    'Mater,': 2,\n",
      "    'Over': 1,\n",
      "    'Pittsburgh,': 1,\n",
      "    'Thee': 1,\n",
      "    'Thou': 1,\n",
      "    'Truth,': 1,\n",
      "    'and': 4,\n",
      "    'as': 1,\n",
      "    'conquer': 1,\n",
      "    'daughter,': 1,\n",
      "    'eternal': 1,\n",
      "    'evermore!': 1,\n",
      "    'fate': 1,\n",
      "    'foe': 1,\n",
      "    'glorious,': 1,\n",
      "    'love': 1,\n",
      "    'of': 4,\n",
      "    'old': 1,\n",
      "    'preserve': 1,\n",
      "    'shalt': 1,\n",
      "    'son': 1,\n",
      "    'victorious,': 1,\n",
      "    'wise': 1,\n",
      "    'with': 2,\n",
      "    'yore,': 1,\n",
      "    'youth,': 1}\n"
     ]
    }
   ],
   "source": [
    "# version 3\n",
    "word_counts = {}  # empty dict\n",
    "for word in doc_words:\n",
    "    previous_count = word_counts.get(word, 0)\n",
    "    word_counts[word] = previous_count + 1\n",
    "pp.pprint(word_counts)"
   ]
  },
  {
   "cell_type": "code",
   "execution_count": 60,
   "metadata": {},
   "outputs": [
    {
     "name": "stdout",
     "output_type": "stream",
     "text": [
      "defaultdict(<class 'int'>,\n",
      "            {   'Alma': 2,\n",
      "                'Bride': 1,\n",
      "                'Child': 1,\n",
      "                'Crowned': 1,\n",
      "                'Dear': 1,\n",
      "                'Dowered': 1,\n",
      "                'God': 1,\n",
      "                'Light': 1,\n",
      "                'Mater,': 2,\n",
      "                'Over': 1,\n",
      "                'Pittsburgh,': 1,\n",
      "                'Thee': 1,\n",
      "                'Thou': 1,\n",
      "                'Truth,': 1,\n",
      "                'and': 4,\n",
      "                'as': 1,\n",
      "                'conquer': 1,\n",
      "                'daughter,': 1,\n",
      "                'eternal': 1,\n",
      "                'evermore!': 1,\n",
      "                'fate': 1,\n",
      "                'foe': 1,\n",
      "                'glorious,': 1,\n",
      "                'love': 1,\n",
      "                'of': 4,\n",
      "                'old': 1,\n",
      "                'preserve': 1,\n",
      "                'shalt': 1,\n",
      "                'son': 1,\n",
      "                'victorious,': 1,\n",
      "                'wise': 1,\n",
      "                'with': 2,\n",
      "                'yore,': 1,\n",
      "                'youth,': 1})\n"
     ]
    }
   ],
   "source": [
    "# version 4\n",
    "from collections import defaultdict\n",
    "word_counts = defaultdict(int)\n",
    "for word in doc_words:\n",
    "    word_counts[word] += 1\n",
    "pp.pprint(word_counts)"
   ]
  },
  {
   "cell_type": "code",
   "execution_count": 61,
   "metadata": {},
   "outputs": [
    {
     "name": "stdout",
     "output_type": "stream",
     "text": [
      "Counter({   'and': 4,\n",
      "            'of': 4,\n",
      "            'Alma': 2,\n",
      "            'Mater,': 2,\n",
      "            'with': 2,\n",
      "            'wise': 1,\n",
      "            'glorious,': 1,\n",
      "            'Child': 1,\n",
      "            'Light': 1,\n",
      "            'Bride': 1,\n",
      "            'Truth,': 1,\n",
      "            'Over': 1,\n",
      "            'fate': 1,\n",
      "            'foe': 1,\n",
      "            'victorious,': 1,\n",
      "            'Dowered': 1,\n",
      "            'eternal': 1,\n",
      "            'youth,': 1,\n",
      "            'Crowned': 1,\n",
      "            'love': 1,\n",
      "            'son': 1,\n",
      "            'daughter,': 1,\n",
      "            'Thou': 1,\n",
      "            'shalt': 1,\n",
      "            'conquer': 1,\n",
      "            'as': 1,\n",
      "            'yore,': 1,\n",
      "            'Dear': 1,\n",
      "            'old': 1,\n",
      "            'Pittsburgh,': 1,\n",
      "            'God': 1,\n",
      "            'preserve': 1,\n",
      "            'Thee': 1,\n",
      "            'evermore!': 1})\n"
     ]
    }
   ],
   "source": [
    "# version 5\n",
    "from collections import Counter\n",
    "word_counts = Counter(doc_words)\n",
    "pp.pprint(word_counts)"
   ]
  },
  {
   "cell_type": "markdown",
   "metadata": {},
   "source": [
    "## Functions"
   ]
  },
  {
   "cell_type": "code",
   "execution_count": 62,
   "metadata": {},
   "outputs": [
    {
     "name": "stdout",
     "output_type": "stream",
     "text": [
      "144\n",
      "25\n"
     ]
    }
   ],
   "source": [
    "####################### FUNCTIONS ####################### \n",
    "def squared(x=5):\n",
    "    '''returns the square of the input parameter, with a default value of 5 for said parameter\n",
    "    NOTE: Default values are evaluated when function is defined, NOT when called'''\n",
    "    return x*x\n",
    "\n",
    "print (squared(12))\n",
    "print (squared())"
   ]
  },
  {
   "cell_type": "code",
   "execution_count": 63,
   "metadata": {},
   "outputs": [
    {
     "name": "stdout",
     "output_type": "stream",
     "text": [
      "(11, 10)\n",
      "11\n",
      "10\n",
      "11 10\n"
     ]
    }
   ],
   "source": [
    "# using tuples to return multiple results\n",
    "def sum_and_product(x, y):\n",
    "    return (x+y), (x*y)\n",
    "    \n",
    "sp = sum_and_product(1, 10)\n",
    "print (sp)\n",
    "s, p = sum_and_product(1, 10)\n",
    "print (s)\n",
    "print (p)\n",
    "print (s, p)"
   ]
  },
  {
   "cell_type": "code",
   "execution_count": 64,
   "metadata": {},
   "outputs": [],
   "source": [
    "# pass by value\n",
    "# https://jeffknupp.com/blog/2012/11/13/is-python-callbyvalue-or-callbyreference-neither/\n",
    "def try_to_modify(x, y, z):\n",
    "    x = 23\n",
    "    y.append(42)\n",
    "    z = [992] # new reference\n",
    "    print(\"x is\", x)\n",
    "    print(\"y is\", y)\n",
    "    print(\"z is\", z)"
   ]
  },
  {
   "cell_type": "code",
   "execution_count": 65,
   "metadata": {},
   "outputs": [
    {
     "name": "stdout",
     "output_type": "stream",
     "text": [
      "BEFORE\n",
      "a is 77\n",
      "b is [99]\n",
      "c is [28]\n",
      "\n",
      "INSIDE\n",
      "x is 23\n",
      "y is [99, 42]\n",
      "z is [992]\n",
      "\n",
      "AFTER\n",
      "a is 77\n",
      "b is [99, 42]\n",
      "c is [28]\n"
     ]
    }
   ],
   "source": [
    "a = 77    # immutable variable\n",
    "b = [99]  # mutable variable\n",
    "c = [28]  # mutable variable\n",
    "print(\"BEFORE\")\n",
    "print(\"a is\", a)\n",
    "print(\"b is\", b)\n",
    "print(\"c is\", c)\n",
    "\n",
    "print(\"\\nINSIDE\")\n",
    "try_to_modify(a, b, c)\n",
    "\n",
    "print(\"\\nAFTER\")\n",
    "print(\"a is\", a)\n",
    "print(\"b is\", b)\n",
    "print(\"c is\", c)"
   ]
  },
  {
   "cell_type": "code",
   "execution_count": 66,
   "metadata": {},
   "outputs": [
    {
     "name": "stdout",
     "output_type": "stream",
     "text": [
      "15\n"
     ]
    }
   ],
   "source": [
    "### Global Variables ###\n",
    "# SCOPE RULES: http://sebastianraschka.com/Articles/2014_python_scope_and_namespaces.html\n",
    "x = 5\n",
    "def addx(y):\n",
    "    return x+y #look, but not touch\n",
    "    \n",
    "print (addx(10))"
   ]
  },
  {
   "cell_type": "code",
   "execution_count": 67,
   "metadata": {},
   "outputs": [
    {
     "name": "stdout",
     "output_type": "stream",
     "text": [
      "x is 12\n",
      "5\n"
     ]
    }
   ],
   "source": [
    "# SCOPE (cont)\n",
    "x = 5\n",
    "def setx(y):\n",
    "    x = y # assignment\n",
    "    print ('x is %d' % x)\n",
    "\n",
    "setx(12)\n",
    "print (x)"
   ]
  },
  {
   "cell_type": "code",
   "execution_count": 68,
   "metadata": {},
   "outputs": [
    {
     "name": "stdout",
     "output_type": "stream",
     "text": [
      "x is 12\n",
      "12\n"
     ]
    }
   ],
   "source": [
    "# SCOPE (cont 2)\n",
    "x = [5]\n",
    "def setx(y):\n",
    "    x[0] = y # modification\n",
    "    print ('x is %d' % x[0])\n",
    "\n",
    "setx(12)\n",
    "print (x[0])"
   ]
  },
  {
   "cell_type": "code",
   "execution_count": 69,
   "metadata": {},
   "outputs": [
    {
     "name": "stdout",
     "output_type": "stream",
     "text": [
      "x is 12\n",
      "12\n"
     ]
    }
   ],
   "source": [
    "# SCOPE (cont 3)\n",
    "x = 5\n",
    "def setx(y):\n",
    "    global x\n",
    "    x = y # assignment\n",
    "    print ('x is %d' % x)\n",
    "\n",
    "setx(12)\n",
    "print (x)"
   ]
  },
  {
   "cell_type": "code",
   "execution_count": null,
   "metadata": {},
   "outputs": [],
   "source": []
  }
 ],
 "metadata": {
  "anaconda-cloud": {},
  "kernelspec": {
   "display_name": "Python 3",
   "language": "python",
   "name": "python3"
  },
  "language_info": {
   "codemirror_mode": {
    "name": "ipython",
    "version": 3
   },
   "file_extension": ".py",
   "mimetype": "text/x-python",
   "name": "python",
   "nbconvert_exporter": "python",
   "pygments_lexer": "ipython3",
   "version": "3.8.3"
  }
 },
 "nbformat": 4,
 "nbformat_minor": 1
}
