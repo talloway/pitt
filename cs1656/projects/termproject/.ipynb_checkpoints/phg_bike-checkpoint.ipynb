{
 "cells": [
  {
   "cell_type": "markdown",
   "metadata": {},
   "source": [
    "# CS 1656 – Introduction to Data Science (Fall 2020) \n",
    "\n",
    "## Instructor: Alexandros Labrinidis /Teaching Assistant: Evangelos Karageorgos\n",
    "\n",
    "## Term Project \n",
    "\n",
    "**Released: October 21, 2020**\n",
    "\n",
    "**Due: December 2, 2020**"
   ]
  },
  {
   "cell_type": "markdown",
   "metadata": {},
   "source": [
    "### Goal\n",
    "The goal of this project is to expose you with a real data science problem, looking at the end-to-end pipeline. \n",
    "\n",
    "### What to do \n",
    "You are asked to write a Python Jupyter notebook, called `pgh_bike.ipynb` that will:\n",
    "* [Task 1] access historical bike rental data for 2019 from HealthyRidePGH and summarize the rental data  \n",
    "* [Task 2] create graphs to show the popularity of the different rental stations, given filter conditions  \n",
    "* [Task 3] create graphs to show the rebalancing issue  \n",
    "* [Task 4] cluster the data to group similar stations together, using a variety of clustering functions and visualize the results of the clustering.  \n",
    "\n",
    "**Your program should not take more than 15 minutes to run**\n",
    "\n",
    "### Jupyter Notebook Rules\n",
    "This skeleton is provided for you to complete the project. Please add your code in the code cells below each Task. Feel free to add cells as needed. Do not remove existing cells."
   ]
  },
  {
   "cell_type": "code",
   "execution_count": 2,
   "metadata": {},
   "outputs": [],
   "source": [
    "import matplotlib.pyplot as plt\n",
    "import pandas as pd\n",
    "import numpy as np\n",
    "from sklearn import cluster\n",
    "from sklearn.cluster import DBSCAN\n",
    "\n",
    "# Feel free to add here any other libraries as specified in the project description"
   ]
  },
  {
   "cell_type": "markdown",
   "metadata": {},
   "source": [
    "For the sake of interactive display in Jupyter, we will enable matplotlib inline."
   ]
  },
  {
   "cell_type": "code",
   "execution_count": 3,
   "metadata": {},
   "outputs": [],
   "source": [
    "%matplotlib inline"
   ]
  },
  {
   "cell_type": "markdown",
   "metadata": {},
   "source": [
    "### [Task 0] Warming Up\n",
    "Task 0 is for testing. It is used to ensure that this Jupyter Notebook skeleton works on both your machines and our machine. Please run the following code to see if you can see a line plot. The line plot is the basic plot that we have seen in Recitation2. "
   ]
  },
  {
   "cell_type": "code",
   "execution_count": 4,
   "metadata": {
    "scrolled": true
   },
   "outputs": [
    {
     "data": {
      "image/png": "[encoded data removed]",
      "text/plain": [
       "<Figure size 432x288 with 1 Axes>"
      ]
     },
     "metadata": {
      "needs_background": "light"
     },
     "output_type": "display_data"
    }
   ],
   "source": [
    "import datetime\n",
    "from pandas.plotting import register_matplotlib_converters\n",
    "register_matplotlib_converters()\n",
    "df = pd.read_csv('KPIT_Aug17.csv', sep=',', engine='python', parse_dates=['EST'])\n",
    "p1 = plt.plot(df['EST'],df['MeanDew PointF'])\n",
    "p2 = plt.plot(df['EST'],df['Mean TemperatureF'])\n",
    "plt.legend([p1[0],p2[0]], ['Mean Dew Point', 'Mean Temperature'])\n",
    "\n",
    "plt.show()"
   ]
  },
  {
   "cell_type": "markdown",
   "metadata": {},
   "source": [
    "--- \n",
    "Add your code below this line\n",
    "\n",
    "---\n",
    "### Task 1"
   ]
  },
  {
   "cell_type": "markdown",
   "metadata": {},
   "source": [
    "In this task you will need to access historical bike rental data for 2019 from HealthyRidePGH and summarize the rental data."
   ]
  },
  {
   "cell_type": "code",
   "execution_count": 5,
   "metadata": {},
   "outputs": [
    {
     "data": {
      "text/html": [
       "<div>\n",
       "<style scoped>\n",
       "    .dataframe tbody tr th:only-of-type {\n",
       "        vertical-align: middle;\n",
       "    }\n",
       "\n",
       "    .dataframe tbody tr th {\n",
       "        vertical-align: top;\n",
       "    }\n",
       "\n",
       "    .dataframe thead th {\n",
       "        text-align: right;\n",
       "    }\n",
       "</style>\n",
       "<table border=\"1\" class=\"dataframe\">\n",
       "  <thead>\n",
       "    <tr style=\"text-align: right;\">\n",
       "      <th></th>\n",
       "      <th>Trip id</th>\n",
       "      <th>Starttime</th>\n",
       "      <th>Stoptime</th>\n",
       "      <th>Bikeid</th>\n",
       "      <th>Tripduration</th>\n",
       "      <th>From station id</th>\n",
       "      <th>From station name</th>\n",
       "      <th>To station id</th>\n",
       "      <th>To station name</th>\n",
       "      <th>Usertype</th>\n",
       "    </tr>\n",
       "  </thead>\n",
       "  <tbody>\n",
       "    <tr>\n",
       "      <th>0</th>\n",
       "      <td>63918850</td>\n",
       "      <td>1/5/19 16:02</td>\n",
       "      <td>1/5/19 17:35</td>\n",
       "      <td>70585</td>\n",
       "      <td>5624</td>\n",
       "      <td>1025.0</td>\n",
       "      <td>Penn Ave &amp; N Fairmount St</td>\n",
       "      <td>1025.0</td>\n",
       "      <td>Penn Ave &amp; N Fairmount St</td>\n",
       "      <td>Customer</td>\n",
       "    </tr>\n",
       "    <tr>\n",
       "      <th>1</th>\n",
       "      <td>63920576</td>\n",
       "      <td>1/5/19 21:18</td>\n",
       "      <td>1/5/19 21:22</td>\n",
       "      <td>70585</td>\n",
       "      <td>232</td>\n",
       "      <td>1025.0</td>\n",
       "      <td>Penn Ave &amp; N Fairmount St</td>\n",
       "      <td>1026.0</td>\n",
       "      <td>Penn Ave &amp; S Whitfield St</td>\n",
       "      <td>Customer</td>\n",
       "    </tr>\n",
       "    <tr>\n",
       "      <th>2</th>\n",
       "      <td>64076019</td>\n",
       "      <td>1/15/19 14:09</td>\n",
       "      <td>1/15/19 14:20</td>\n",
       "      <td>70147</td>\n",
       "      <td>705</td>\n",
       "      <td>1028.0</td>\n",
       "      <td>Penn Ave &amp; Putnam St (Bakery Square)</td>\n",
       "      <td>49371.0</td>\n",
       "      <td>E Liberty Blvd &amp; Larimer Ave</td>\n",
       "      <td>Customer</td>\n",
       "    </tr>\n",
       "    <tr>\n",
       "      <th>3</th>\n",
       "      <td>64281721</td>\n",
       "      <td>1/28/19 16:34</td>\n",
       "      <td>1/28/19 17:27</td>\n",
       "      <td>70658</td>\n",
       "      <td>3201</td>\n",
       "      <td>1041.0</td>\n",
       "      <td>Fifth Ave &amp; S Bouquet St</td>\n",
       "      <td>1066.0</td>\n",
       "      <td>N Homewood Ave &amp; Finance St (Homewood Station)</td>\n",
       "      <td>Subscriber</td>\n",
       "    </tr>\n",
       "    <tr>\n",
       "      <th>4</th>\n",
       "      <td>64316376</td>\n",
       "      <td>1/30/19 17:52</td>\n",
       "      <td>1/30/19 19:05</td>\n",
       "      <td>70206</td>\n",
       "      <td>4361</td>\n",
       "      <td>1047.0</td>\n",
       "      <td>S 22nd St &amp; E Carson St</td>\n",
       "      <td>49771.0</td>\n",
       "      <td>Fifth Ave &amp; Jumonville St</td>\n",
       "      <td>Customer</td>\n",
       "    </tr>\n",
       "  </tbody>\n",
       "</table>\n",
       "</div>"
      ],
      "text/plain": [
       "    Trip id      Starttime       Stoptime  Bikeid  Tripduration  \\\n",
       "0  63918850   1/5/19 16:02   1/5/19 17:35   70585          5624   \n",
       "1  63920576   1/5/19 21:18   1/5/19 21:22   70585           232   \n",
       "2  64076019  1/15/19 14:09  1/15/19 14:20   70147           705   \n",
       "3  64281721  1/28/19 16:34  1/28/19 17:27   70658          3201   \n",
       "4  64316376  1/30/19 17:52  1/30/19 19:05   70206          4361   \n",
       "\n",
       "   From station id                     From station name  To station id  \\\n",
       "0           1025.0             Penn Ave & N Fairmount St         1025.0   \n",
       "1           1025.0             Penn Ave & N Fairmount St         1026.0   \n",
       "2           1028.0  Penn Ave & Putnam St (Bakery Square)        49371.0   \n",
       "3           1041.0              Fifth Ave & S Bouquet St         1066.0   \n",
       "4           1047.0               S 22nd St & E Carson St        49771.0   \n",
       "\n",
       "                                  To station name    Usertype  \n",
       "0                       Penn Ave & N Fairmount St    Customer  \n",
       "1                       Penn Ave & S Whitfield St    Customer  \n",
       "2                    E Liberty Blvd & Larimer Ave    Customer  \n",
       "3  N Homewood Ave & Finance St (Homewood Station)  Subscriber  \n",
       "4                       Fifth Ave & Jumonville St    Customer  "
      ]
     },
     "execution_count": 5,
     "metadata": {},
     "output_type": "execute_result"
    }
   ],
   "source": [
    "files = ['HealthyRideRentals2019-Q1.csv', 'HealthyRideRentals2019-Q2.csv', 'HealthyRideRentals2019-Q3.csv']\n",
    "df = pd.concat([pd.read_csv(f) for f in files])\n",
    "df.head()"
   ]
  },
  {
   "cell_type": "code",
   "execution_count": 6,
   "metadata": {},
   "outputs": [],
   "source": [
    "# Extract everything in ways that make it easy to do operations\n",
    "\n",
    "df_task1 = df.copy()\n",
    "df_task1['Startdate'], df_task1['Stopdate'] = [r.split()[0] for r in df_task1['Starttime']], [r.split()[0] for r in df_task1['Stoptime']]\n",
    "df_task1['Startmonth'], df_task1['Stopmonth'] = [int(r.split('/')[0]) for r in df_task1['Startdate']], [int(r.split('/')[0]) for r in df_task1['Stopdate']]\n",
    "df_task1['Startday'], df_task1['Stopday'] = [int(r.split('/')[1]) for r in df_task1['Startdate']], [int(r.split('/')[1]) for r in df_task1['Stopdate']]\n",
    "df_task1['Starthour'], df_task1['Stophour'] = [int(r.split()[1].split(':')[0]) for r in df_task1['Starttime']], [int(r.split()[1].split(':')[0]) for r in df_task1['Stoptime']]\n",
    "df_task1['count'] = 1\n",
    "\n",
    "df_from_hour = df_task1[['Startmonth', 'Startday', 'Starthour', 'From station id', 'count']]\n",
    "df_to_hour = df_task1[['Stopmonth', 'Stopday', 'Stophour', 'To station id', 'count']]\n",
    "df_from_day = df_task1[['Startmonth', 'Startday', 'From station id', 'count']]\n",
    "df_to_day = df_task1[['Stopmonth', 'Stopday', 'To station id', 'count']]\n",
    "df_from_month = df_task1[['Startmonth', 'From station id', 'count']]\n",
    "df_to_month = df_task1[['Stopmonth', 'To station id', 'count']]\n",
    "\n",
    "df_from_hour.columns = ['month', 'day', 'hour', 'stationID', 'fromCNT']\n",
    "df_to_hour.columns = ['month', 'day', 'hour', 'stationID', 'toCNT']\n",
    "df_from_day.columns = ['month', 'day', 'stationID', 'fromCNT']\n",
    "df_to_day.columns = ['month', 'day', 'stationID', 'toCNT']\n",
    "df_from_month.columns = ['month', 'stationID', 'fromCNT']\n",
    "df_to_month.columns = ['month', 'stationID', 'toCNT']"
   ]
  },
  {
   "cell_type": "code",
   "execution_count": 7,
   "metadata": {},
   "outputs": [],
   "source": [
    "# Group by the appropriate attributes and get the count for that grouping\n",
    "\n",
    "df_from_hour = df_from_hour.groupby(['month', 'day', 'hour', 'stationID'], as_index=False).sum()\n",
    "df_to_hour = df_to_hour.groupby(['month', 'day', 'hour', 'stationID'], as_index=False).sum()\n",
    "df_from_day = df_from_day.groupby(['month', 'day', 'stationID'], as_index=False).sum()\n",
    "df_to_day = df_to_day.groupby(['month', 'day', 'stationID'], as_index=False).sum()\n",
    "df_from_month = df_from_month.groupby(['month', 'stationID'], as_index=False).sum()\n",
    "df_to_month = df_to_month.groupby(['month', 'stationID'], as_index=False).sum()"
   ]
  },
  {
   "cell_type": "code",
   "execution_count": 8,
   "metadata": {},
   "outputs": [],
   "source": [
    "# Do full outer join on the two DFs to combine the counts\n",
    "\n",
    "df_hour = pd.merge(df_from_hour, df_to_hour, on=['month', 'day', 'hour', 'stationID'], how='outer')\n",
    "df_hour['fromCNT'], df_hour['toCNT'] = df_hour['fromCNT'].fillna(0), df_hour['toCNT'].fillna(0)\n",
    "\n",
    "df_day = pd.merge(df_from_day, df_to_day, on=['month', 'day', 'stationID'], how='outer')\n",
    "df_day['fromCNT'], df_day['toCNT'] = df_day['fromCNT'].fillna(0), df_day['toCNT'].fillna(0)\n",
    "\n",
    "df_month = pd.merge(df_from_month, df_to_month, on=['month', 'stationID'], how='outer')\n",
    "df_month['fromCNT'], df_month['toCNT'] = df_month['fromCNT'].fillna(0), df_month['toCNT'].fillna(0)"
   ]
  },
  {
   "cell_type": "code",
   "execution_count": 9,
   "metadata": {},
   "outputs": [],
   "source": [
    "# Compute rebalCNT approximation\n",
    "# Using absolute value to make the plots nicer later on\n",
    "\n",
    "df_hour['rebalCNT'] = abs(df_hour['fromCNT'] - df_hour['toCNT'])\n",
    "df_day['rebalCNT'] = abs(df_day['fromCNT'] - df_day['toCNT'])\n",
    "df_month['rebalCNT'] = abs(df_month['fromCNT'] - df_month['toCNT'])"
   ]
  },
  {
   "cell_type": "markdown",
   "metadata": {},
   "source": [
    "### Task 1.1\n",
    "Print the first 20 rows of the data structure you used to store the above data (i.e, daily breakdown)."
   ]
  },
  {
   "cell_type": "code",
   "execution_count": 10,
   "metadata": {},
   "outputs": [
    {
     "data": {
      "text/html": [
       "<div>\n",
       "<style scoped>\n",
       "    .dataframe tbody tr th:only-of-type {\n",
       "        vertical-align: middle;\n",
       "    }\n",
       "\n",
       "    .dataframe tbody tr th {\n",
       "        vertical-align: top;\n",
       "    }\n",
       "\n",
       "    .dataframe thead th {\n",
       "        text-align: right;\n",
       "    }\n",
       "</style>\n",
       "<table border=\"1\" class=\"dataframe\">\n",
       "  <thead>\n",
       "    <tr style=\"text-align: right;\">\n",
       "      <th></th>\n",
       "      <th>month</th>\n",
       "      <th>day</th>\n",
       "      <th>stationID</th>\n",
       "      <th>fromCNT</th>\n",
       "      <th>toCNT</th>\n",
       "      <th>rebalCNT</th>\n",
       "    </tr>\n",
       "  </thead>\n",
       "  <tbody>\n",
       "    <tr>\n",
       "      <th>0</th>\n",
       "      <td>1</td>\n",
       "      <td>1</td>\n",
       "      <td>1000.0</td>\n",
       "      <td>4.0</td>\n",
       "      <td>4.0</td>\n",
       "      <td>0.0</td>\n",
       "    </tr>\n",
       "    <tr>\n",
       "      <th>1</th>\n",
       "      <td>1</td>\n",
       "      <td>1</td>\n",
       "      <td>1002.0</td>\n",
       "      <td>1.0</td>\n",
       "      <td>1.0</td>\n",
       "      <td>0.0</td>\n",
       "    </tr>\n",
       "    <tr>\n",
       "      <th>2</th>\n",
       "      <td>1</td>\n",
       "      <td>1</td>\n",
       "      <td>1009.0</td>\n",
       "      <td>1.0</td>\n",
       "      <td>0.0</td>\n",
       "      <td>1.0</td>\n",
       "    </tr>\n",
       "    <tr>\n",
       "      <th>3</th>\n",
       "      <td>1</td>\n",
       "      <td>1</td>\n",
       "      <td>1010.0</td>\n",
       "      <td>1.0</td>\n",
       "      <td>1.0</td>\n",
       "      <td>0.0</td>\n",
       "    </tr>\n",
       "    <tr>\n",
       "      <th>4</th>\n",
       "      <td>1</td>\n",
       "      <td>1</td>\n",
       "      <td>1012.0</td>\n",
       "      <td>4.0</td>\n",
       "      <td>3.0</td>\n",
       "      <td>1.0</td>\n",
       "    </tr>\n",
       "    <tr>\n",
       "      <th>5</th>\n",
       "      <td>1</td>\n",
       "      <td>1</td>\n",
       "      <td>1021.0</td>\n",
       "      <td>2.0</td>\n",
       "      <td>1.0</td>\n",
       "      <td>1.0</td>\n",
       "    </tr>\n",
       "    <tr>\n",
       "      <th>6</th>\n",
       "      <td>1</td>\n",
       "      <td>1</td>\n",
       "      <td>1023.0</td>\n",
       "      <td>1.0</td>\n",
       "      <td>1.0</td>\n",
       "      <td>0.0</td>\n",
       "    </tr>\n",
       "    <tr>\n",
       "      <th>7</th>\n",
       "      <td>1</td>\n",
       "      <td>1</td>\n",
       "      <td>1024.0</td>\n",
       "      <td>2.0</td>\n",
       "      <td>1.0</td>\n",
       "      <td>1.0</td>\n",
       "    </tr>\n",
       "    <tr>\n",
       "      <th>8</th>\n",
       "      <td>1</td>\n",
       "      <td>1</td>\n",
       "      <td>1028.0</td>\n",
       "      <td>1.0</td>\n",
       "      <td>1.0</td>\n",
       "      <td>0.0</td>\n",
       "    </tr>\n",
       "    <tr>\n",
       "      <th>9</th>\n",
       "      <td>1</td>\n",
       "      <td>1</td>\n",
       "      <td>1029.0</td>\n",
       "      <td>2.0</td>\n",
       "      <td>2.0</td>\n",
       "      <td>0.0</td>\n",
       "    </tr>\n",
       "    <tr>\n",
       "      <th>10</th>\n",
       "      <td>1</td>\n",
       "      <td>1</td>\n",
       "      <td>1031.0</td>\n",
       "      <td>2.0</td>\n",
       "      <td>1.0</td>\n",
       "      <td>1.0</td>\n",
       "    </tr>\n",
       "    <tr>\n",
       "      <th>11</th>\n",
       "      <td>1</td>\n",
       "      <td>1</td>\n",
       "      <td>1033.0</td>\n",
       "      <td>4.0</td>\n",
       "      <td>3.0</td>\n",
       "      <td>1.0</td>\n",
       "    </tr>\n",
       "    <tr>\n",
       "      <th>12</th>\n",
       "      <td>1</td>\n",
       "      <td>1</td>\n",
       "      <td>1045.0</td>\n",
       "      <td>2.0</td>\n",
       "      <td>2.0</td>\n",
       "      <td>0.0</td>\n",
       "    </tr>\n",
       "    <tr>\n",
       "      <th>13</th>\n",
       "      <td>1</td>\n",
       "      <td>1</td>\n",
       "      <td>1048.0</td>\n",
       "      <td>1.0</td>\n",
       "      <td>1.0</td>\n",
       "      <td>0.0</td>\n",
       "    </tr>\n",
       "    <tr>\n",
       "      <th>14</th>\n",
       "      <td>1</td>\n",
       "      <td>1</td>\n",
       "      <td>1049.0</td>\n",
       "      <td>3.0</td>\n",
       "      <td>4.0</td>\n",
       "      <td>1.0</td>\n",
       "    </tr>\n",
       "    <tr>\n",
       "      <th>15</th>\n",
       "      <td>1</td>\n",
       "      <td>1</td>\n",
       "      <td>1061.0</td>\n",
       "      <td>1.0</td>\n",
       "      <td>1.0</td>\n",
       "      <td>0.0</td>\n",
       "    </tr>\n",
       "    <tr>\n",
       "      <th>16</th>\n",
       "      <td>1</td>\n",
       "      <td>1</td>\n",
       "      <td>1069.0</td>\n",
       "      <td>1.0</td>\n",
       "      <td>1.0</td>\n",
       "      <td>0.0</td>\n",
       "    </tr>\n",
       "    <tr>\n",
       "      <th>17</th>\n",
       "      <td>1</td>\n",
       "      <td>1</td>\n",
       "      <td>1094.0</td>\n",
       "      <td>1.0</td>\n",
       "      <td>0.0</td>\n",
       "      <td>1.0</td>\n",
       "    </tr>\n",
       "    <tr>\n",
       "      <th>18</th>\n",
       "      <td>1</td>\n",
       "      <td>1</td>\n",
       "      <td>1099.0</td>\n",
       "      <td>2.0</td>\n",
       "      <td>0.0</td>\n",
       "      <td>2.0</td>\n",
       "    </tr>\n",
       "    <tr>\n",
       "      <th>19</th>\n",
       "      <td>1</td>\n",
       "      <td>1</td>\n",
       "      <td>49441.0</td>\n",
       "      <td>1.0</td>\n",
       "      <td>0.0</td>\n",
       "      <td>1.0</td>\n",
       "    </tr>\n",
       "  </tbody>\n",
       "</table>\n",
       "</div>"
      ],
      "text/plain": [
       "    month  day  stationID  fromCNT  toCNT  rebalCNT\n",
       "0       1    1     1000.0      4.0    4.0       0.0\n",
       "1       1    1     1002.0      1.0    1.0       0.0\n",
       "2       1    1     1009.0      1.0    0.0       1.0\n",
       "3       1    1     1010.0      1.0    1.0       0.0\n",
       "4       1    1     1012.0      4.0    3.0       1.0\n",
       "5       1    1     1021.0      2.0    1.0       1.0\n",
       "6       1    1     1023.0      1.0    1.0       0.0\n",
       "7       1    1     1024.0      2.0    1.0       1.0\n",
       "8       1    1     1028.0      1.0    1.0       0.0\n",
       "9       1    1     1029.0      2.0    2.0       0.0\n",
       "10      1    1     1031.0      2.0    1.0       1.0\n",
       "11      1    1     1033.0      4.0    3.0       1.0\n",
       "12      1    1     1045.0      2.0    2.0       0.0\n",
       "13      1    1     1048.0      1.0    1.0       0.0\n",
       "14      1    1     1049.0      3.0    4.0       1.0\n",
       "15      1    1     1061.0      1.0    1.0       0.0\n",
       "16      1    1     1069.0      1.0    1.0       0.0\n",
       "17      1    1     1094.0      1.0    0.0       1.0\n",
       "18      1    1     1099.0      2.0    0.0       2.0\n",
       "19      1    1    49441.0      1.0    0.0       1.0"
      ]
     },
     "execution_count": 10,
     "metadata": {},
     "output_type": "execute_result"
    }
   ],
   "source": [
    "df_day.head(20)"
   ]
  },
  {
   "cell_type": "markdown",
   "metadata": {},
   "source": [
    "### Task 1.2\n",
    "Print the first 20 rows of the data structure you used to store the above data (i.e., monthly breakdown)."
   ]
  },
  {
   "cell_type": "code",
   "execution_count": 11,
   "metadata": {},
   "outputs": [
    {
     "data": {
      "text/html": [
       "<div>\n",
       "<style scoped>\n",
       "    .dataframe tbody tr th:only-of-type {\n",
       "        vertical-align: middle;\n",
       "    }\n",
       "\n",
       "    .dataframe tbody tr th {\n",
       "        vertical-align: top;\n",
       "    }\n",
       "\n",
       "    .dataframe thead th {\n",
       "        text-align: right;\n",
       "    }\n",
       "</style>\n",
       "<table border=\"1\" class=\"dataframe\">\n",
       "  <thead>\n",
       "    <tr style=\"text-align: right;\">\n",
       "      <th></th>\n",
       "      <th>month</th>\n",
       "      <th>stationID</th>\n",
       "      <th>fromCNT</th>\n",
       "      <th>toCNT</th>\n",
       "      <th>rebalCNT</th>\n",
       "    </tr>\n",
       "  </thead>\n",
       "  <tbody>\n",
       "    <tr>\n",
       "      <th>0</th>\n",
       "      <td>1</td>\n",
       "      <td>1000.0</td>\n",
       "      <td>35.0</td>\n",
       "      <td>43.0</td>\n",
       "      <td>8.0</td>\n",
       "    </tr>\n",
       "    <tr>\n",
       "      <th>1</th>\n",
       "      <td>1</td>\n",
       "      <td>1001.0</td>\n",
       "      <td>59.0</td>\n",
       "      <td>82.0</td>\n",
       "      <td>23.0</td>\n",
       "    </tr>\n",
       "    <tr>\n",
       "      <th>2</th>\n",
       "      <td>1</td>\n",
       "      <td>1002.0</td>\n",
       "      <td>36.0</td>\n",
       "      <td>27.0</td>\n",
       "      <td>9.0</td>\n",
       "    </tr>\n",
       "    <tr>\n",
       "      <th>3</th>\n",
       "      <td>1</td>\n",
       "      <td>1003.0</td>\n",
       "      <td>11.0</td>\n",
       "      <td>12.0</td>\n",
       "      <td>1.0</td>\n",
       "    </tr>\n",
       "    <tr>\n",
       "      <th>4</th>\n",
       "      <td>1</td>\n",
       "      <td>1004.0</td>\n",
       "      <td>32.0</td>\n",
       "      <td>31.0</td>\n",
       "      <td>1.0</td>\n",
       "    </tr>\n",
       "    <tr>\n",
       "      <th>5</th>\n",
       "      <td>1</td>\n",
       "      <td>1005.0</td>\n",
       "      <td>17.0</td>\n",
       "      <td>13.0</td>\n",
       "      <td>4.0</td>\n",
       "    </tr>\n",
       "    <tr>\n",
       "      <th>6</th>\n",
       "      <td>1</td>\n",
       "      <td>1006.0</td>\n",
       "      <td>39.0</td>\n",
       "      <td>27.0</td>\n",
       "      <td>12.0</td>\n",
       "    </tr>\n",
       "    <tr>\n",
       "      <th>7</th>\n",
       "      <td>1</td>\n",
       "      <td>1007.0</td>\n",
       "      <td>6.0</td>\n",
       "      <td>2.0</td>\n",
       "      <td>4.0</td>\n",
       "    </tr>\n",
       "    <tr>\n",
       "      <th>8</th>\n",
       "      <td>1</td>\n",
       "      <td>1008.0</td>\n",
       "      <td>5.0</td>\n",
       "      <td>2.0</td>\n",
       "      <td>3.0</td>\n",
       "    </tr>\n",
       "    <tr>\n",
       "      <th>9</th>\n",
       "      <td>1</td>\n",
       "      <td>1009.0</td>\n",
       "      <td>42.0</td>\n",
       "      <td>44.0</td>\n",
       "      <td>2.0</td>\n",
       "    </tr>\n",
       "    <tr>\n",
       "      <th>10</th>\n",
       "      <td>1</td>\n",
       "      <td>1010.0</td>\n",
       "      <td>44.0</td>\n",
       "      <td>49.0</td>\n",
       "      <td>5.0</td>\n",
       "    </tr>\n",
       "    <tr>\n",
       "      <th>11</th>\n",
       "      <td>1</td>\n",
       "      <td>1011.0</td>\n",
       "      <td>25.0</td>\n",
       "      <td>28.0</td>\n",
       "      <td>3.0</td>\n",
       "    </tr>\n",
       "    <tr>\n",
       "      <th>12</th>\n",
       "      <td>1</td>\n",
       "      <td>1012.0</td>\n",
       "      <td>16.0</td>\n",
       "      <td>20.0</td>\n",
       "      <td>4.0</td>\n",
       "    </tr>\n",
       "    <tr>\n",
       "      <th>13</th>\n",
       "      <td>1</td>\n",
       "      <td>1013.0</td>\n",
       "      <td>35.0</td>\n",
       "      <td>28.0</td>\n",
       "      <td>7.0</td>\n",
       "    </tr>\n",
       "    <tr>\n",
       "      <th>14</th>\n",
       "      <td>1</td>\n",
       "      <td>1014.0</td>\n",
       "      <td>2.0</td>\n",
       "      <td>1.0</td>\n",
       "      <td>1.0</td>\n",
       "    </tr>\n",
       "    <tr>\n",
       "      <th>15</th>\n",
       "      <td>1</td>\n",
       "      <td>1015.0</td>\n",
       "      <td>41.0</td>\n",
       "      <td>27.0</td>\n",
       "      <td>14.0</td>\n",
       "    </tr>\n",
       "    <tr>\n",
       "      <th>16</th>\n",
       "      <td>1</td>\n",
       "      <td>1016.0</td>\n",
       "      <td>50.0</td>\n",
       "      <td>35.0</td>\n",
       "      <td>15.0</td>\n",
       "    </tr>\n",
       "    <tr>\n",
       "      <th>17</th>\n",
       "      <td>1</td>\n",
       "      <td>1017.0</td>\n",
       "      <td>28.0</td>\n",
       "      <td>35.0</td>\n",
       "      <td>7.0</td>\n",
       "    </tr>\n",
       "    <tr>\n",
       "      <th>18</th>\n",
       "      <td>1</td>\n",
       "      <td>1018.0</td>\n",
       "      <td>4.0</td>\n",
       "      <td>15.0</td>\n",
       "      <td>11.0</td>\n",
       "    </tr>\n",
       "    <tr>\n",
       "      <th>19</th>\n",
       "      <td>1</td>\n",
       "      <td>1019.0</td>\n",
       "      <td>24.0</td>\n",
       "      <td>33.0</td>\n",
       "      <td>9.0</td>\n",
       "    </tr>\n",
       "  </tbody>\n",
       "</table>\n",
       "</div>"
      ],
      "text/plain": [
       "    month  stationID  fromCNT  toCNT  rebalCNT\n",
       "0       1     1000.0     35.0   43.0       8.0\n",
       "1       1     1001.0     59.0   82.0      23.0\n",
       "2       1     1002.0     36.0   27.0       9.0\n",
       "3       1     1003.0     11.0   12.0       1.0\n",
       "4       1     1004.0     32.0   31.0       1.0\n",
       "5       1     1005.0     17.0   13.0       4.0\n",
       "6       1     1006.0     39.0   27.0      12.0\n",
       "7       1     1007.0      6.0    2.0       4.0\n",
       "8       1     1008.0      5.0    2.0       3.0\n",
       "9       1     1009.0     42.0   44.0       2.0\n",
       "10      1     1010.0     44.0   49.0       5.0\n",
       "11      1     1011.0     25.0   28.0       3.0\n",
       "12      1     1012.0     16.0   20.0       4.0\n",
       "13      1     1013.0     35.0   28.0       7.0\n",
       "14      1     1014.0      2.0    1.0       1.0\n",
       "15      1     1015.0     41.0   27.0      14.0\n",
       "16      1     1016.0     50.0   35.0      15.0\n",
       "17      1     1017.0     28.0   35.0       7.0\n",
       "18      1     1018.0      4.0   15.0      11.0\n",
       "19      1     1019.0     24.0   33.0       9.0"
      ]
     },
     "execution_count": 11,
     "metadata": {},
     "output_type": "execute_result"
    }
   ],
   "source": [
    "# Can also get this by aggregating the df_day data but I used separate data structures to make it easier to keep track of\n",
    "df_month.head(20)"
   ]
  },
  {
   "cell_type": "markdown",
   "metadata": {},
   "source": [
    "---\n",
    "### Task 2"
   ]
  },
  {
   "cell_type": "markdown",
   "metadata": {},
   "source": [
    "In this task you will need to create graphs to show the popularity of the different rental stations, given filter conditions."
   ]
  },
  {
   "cell_type": "code",
   "execution_count": 12,
   "metadata": {},
   "outputs": [],
   "source": [
    "# FILTER VARIABLES -- feel free to edit the values, but the names of the variables must remain \n",
    "#                     as they are and should be used by your code accordingly from this point on\n",
    "\n",
    "filter_month = 4\n",
    "filter_stationID = 1046"
   ]
  },
  {
   "cell_type": "markdown",
   "metadata": {},
   "source": [
    "### Task 2.1\n",
    "Show a bar chart for the 25 most popular bikestations when considering the number of fromCNT per station (for filter_month). Y axis should be the fromCNT per station, X axis should be the stationID. The first stationID corresponds to the most popular station."
   ]
  },
  {
   "cell_type": "code",
   "execution_count": 13,
   "metadata": {},
   "outputs": [
    {
     "data": {
      "image/png": "[encoded data removed]",
      "text/plain": [
       "<Figure size 432x288 with 1 Axes>"
      ]
     },
     "metadata": {
      "needs_background": "light"
     },
     "output_type": "display_data"
    }
   ],
   "source": [
    "df_task_2_1 = df_month[df_month['month']==filter_month]\n",
    "df_task_2_1 = df_task_2_1.sort_values(by='fromCNT', ascending=False).head(25)\n",
    "\n",
    "plt.bar(range(len(df_task_2_1['stationID'])), df_task_2_1['fromCNT'], align='center')\n",
    "plt.xticks(range(len(df_task_2_1['stationID'])), df_task_2_1['stationID'],\\\n",
    "               rotation=60, fontsize=10)\n",
    "plt.xlabel('stationID')\n",
    "plt.ylabel('fromCNT')\n",
    "plt.title('25 most popular bike stations for filter_month')\n",
    "plt.show()"
   ]
  },
  {
   "cell_type": "markdown",
   "metadata": {},
   "source": [
    "### Task 2.2\n",
    "For the filter_month and for the filter_stationID show a graph that shows the distribution of bike rentals throughout the month, for that station only. Y axis should be the fromCNT for that stationID for that day, X axis would be the different days in that month (i.e., 1 - 30 for April)."
   ]
  },
  {
   "cell_type": "code",
   "execution_count": 14,
   "metadata": {},
   "outputs": [
    {
     "data": {
      "image/png": "[encoded data removed]",
      "text/plain": [
       "<Figure size 432x288 with 1 Axes>"
      ]
     },
     "metadata": {
      "needs_background": "light"
     },
     "output_type": "display_data"
    }
   ],
   "source": [
    "df_task_2_2 = df_day[(df_day['month']==filter_month) & (df_day['stationID']==filter_stationID)]\n",
    "df_task_2_2 = df_task_2_2.sort_values(by='day')\n",
    "\n",
    "plt.bar(range(len(df_task_2_2['day'])), df_task_2_2['fromCNT'], align='center')\n",
    "plt.xticks(range(len(df_task_2_2['day'])), df_task_2_2['day'], fontsize=8)\n",
    "plt.xlabel('day of month')\n",
    "plt.ylabel('fromCNT')\n",
    "plt.title('rentals per day for filter_month and filter_stationID')\n",
    "plt.show()"
   ]
  },
  {
   "cell_type": "markdown",
   "metadata": {},
   "source": [
    "### Task 2.3\n",
    "For the filter_month (e.g., April) show a graph that shows the distribution of bike rentals throughout the day, for all stations. Y axis should be the fromCNT for all stations in the filter_month, X axis would be the different hours in a day (i.e., 0 - 23)."
   ]
  },
  {
   "cell_type": "code",
   "execution_count": 15,
   "metadata": {},
   "outputs": [
    {
     "data": {
      "image/png": "[encoded data removed]",
      "text/plain": [
       "<Figure size 432x288 with 1 Axes>"
      ]
     },
     "metadata": {
      "needs_background": "light"
     },
     "output_type": "display_data"
    }
   ],
   "source": [
    "df_task_2_3 = df_hour[df_hour['month']==filter_month][['hour', 'fromCNT']]\n",
    "df_task_2_3 = df_task_2_3.groupby('hour', as_index=False).sum()\n",
    "\n",
    "plt.bar(range(len(df_task_2_3['hour'])), df_task_2_3['fromCNT'], align='center')\n",
    "plt.xticks(range(len(df_task_2_3['hour'])), df_task_2_3['hour'], fontsize=8)\n",
    "plt.xlabel('hour of day')\n",
    "plt.ylabel('fromCNT')\n",
    "plt.title('distribution of bike rentals during filter_month by hour')\n",
    "plt.show()"
   ]
  },
  {
   "cell_type": "markdown",
   "metadata": {},
   "source": [
    "### Task 2.4\n",
    "Update your data structure to compute the total number of rentals each bike had for each day (regardless of station). In other words, figure out how many times a bike was listed in the input data, for each different date. For the filter_month, show a graph that shows the 25 most popular bikes. Y axis should be the number of times a bike was rented, X axis should be the bikeID. The first bikeID corresponds to the most popular station."
   ]
  },
  {
   "cell_type": "code",
   "execution_count": 16,
   "metadata": {},
   "outputs": [
    {
     "data": {
      "image/png": "[encoded data removed]",
      "text/plain": [
       "<Figure size 432x288 with 1 Axes>"
      ]
     },
     "metadata": {
      "needs_background": "light"
     },
     "output_type": "display_data"
    }
   ],
   "source": [
    "df_task_2_4 = df_task1[df_task1['Startmonth']==filter_month][['Startmonth', 'Startday', 'Bikeid', 'count']]\n",
    "df_task_2_4.columns = ['month', 'day', 'bikeid', 'rentalcount']\n",
    "\n",
    "# Get the rental count for each bike, for each day (regardless of station)\n",
    "df_task_2_4 = df_task_2_4.groupby(['month', 'day', 'bikeid'], as_index=False).sum()\n",
    "\n",
    "# Get the 25 most popular bikes for the entire month\n",
    "df_task_2_4 = df_task_2_4[['month', 'bikeid', 'rentalcount']].groupby(['month', 'bikeid'], as_index=False).sum() \\\n",
    "    .sort_values(by='rentalcount', ascending=False).head(25)\n",
    "\n",
    "# Graph the 25 most popular bikes\n",
    "plt.bar(range(len(df_task_2_4['bikeid'])), df_task_2_4['rentalcount'], align='center')\n",
    "plt.xticks(range(len(df_task_2_4['bikeid'])), df_task_2_4['bikeid'], rotation=60, fontsize=8)\n",
    "plt.xlabel('bike ids')\n",
    "plt.ylabel('number of rentals')\n",
    "plt.title('25 most popular bikes during the filter month')\n",
    "plt.show()"
   ]
  },
  {
   "cell_type": "markdown",
   "metadata": {},
   "source": [
    "---\n",
    "### Task 3"
   ]
  },
  {
   "cell_type": "markdown",
   "metadata": {},
   "source": [
    "In this task you will create graphs to show the rebalancing issue."
   ]
  },
  {
   "cell_type": "markdown",
   "metadata": {
    "scrolled": false
   },
   "source": [
    "### Task 3.1\n",
    "Show a bar chart for the 25 most popular bikestations when considering the number of rebalCNT per station (for filter_month). Y axis should be the rebalCNT per station, X axis should be the stationID. The first stationID corresponds to the most demanding station in terms of rebalancing."
   ]
  },
  {
   "cell_type": "code",
   "execution_count": 17,
   "metadata": {},
   "outputs": [
    {
     "data": {
      "image/png": "[encoded data removed]",
      "text/plain": [
       "<Figure size 432x288 with 1 Axes>"
      ]
     },
     "metadata": {
      "needs_background": "light"
     },
     "output_type": "display_data"
    }
   ],
   "source": [
    "df_task_3_1 = df_month[df_month['month']==filter_month][['month', 'stationID', 'rebalCNT']] \\\n",
    "    .sort_values(by='rebalCNT', ascending=False).head(25)\n",
    "\n",
    "plt.bar(range(len(df_task_3_1['stationID'])), df_task_3_1['rebalCNT'], align='center')\n",
    "plt.xticks(range(len(df_task_3_1['stationID'])), df_task_3_1['stationID'], rotation=60, fontsize=8)\n",
    "plt.xlabel('station ids')\n",
    "plt.ylabel('rebalCNT')\n",
    "plt.title('25 most demanding stations for filter month by rebalCNT')\n",
    "plt.show()"
   ]
  },
  {
   "cell_type": "markdown",
   "metadata": {},
   "source": [
    "# Task 3.2\n",
    "For the filter_month and for the filter_stationID show a graph that shows the distribution of bike rebalancing throughout the month, for that station only. Y axis should be the rebalCNT for that stationID for that day, X axis would be the different days in that month (i.e., 1 - 30 for April)."
   ]
  },
  {
   "cell_type": "code",
   "execution_count": 18,
   "metadata": {},
   "outputs": [
    {
     "data": {
      "image/png": "[encoded data removed]",
      "text/plain": [
       "<Figure size 432x288 with 1 Axes>"
      ]
     },
     "metadata": {
      "needs_background": "light"
     },
     "output_type": "display_data"
    }
   ],
   "source": [
    "df_task_3_2 = df_day[(df_day['month']==filter_month) & (df_day['stationID']==filter_stationID)] \\\n",
    "    [['month', 'day', 'stationID', 'rebalCNT']].sort_values(by='day')\n",
    "\n",
    "plt.bar(range(len(df_task_3_2['day'])), df_task_3_2['rebalCNT'], align='center')\n",
    "plt.xticks(range(len(df_task_3_2['day'])), df_task_3_2['day'], fontsize=8)\n",
    "plt.xlabel('day of month')\n",
    "plt.ylabel('rebalCNT')\n",
    "plt.title('distribution of bike rebalancing for month=filter_month and stationID=filter_stationID')\n",
    "plt.show()"
   ]
  },
  {
   "cell_type": "markdown",
   "metadata": {},
   "source": [
    "---\n",
    "### Task 4"
   ]
  },
  {
   "cell_type": "markdown",
   "metadata": {},
   "source": [
    "In this task you will cluster the data to group similar stations together, using a variety of clustering functions and visualize the results of the clustering."
   ]
  },
  {
   "cell_type": "markdown",
   "metadata": {},
   "source": [
    "### Task 4.1\n",
    "You should perform clustering on the above 6-dimensional space using K-means (with at least 3 different values for K) and DBSCAN (with at least three different value combinations for min_samples and eps) https://scikit-learn.org/stable/modules/clustering.html#clustering."
   ]
  },
  {
   "cell_type": "code",
   "execution_count": 19,
   "metadata": {},
   "outputs": [],
   "source": [
    "# Extract the data based on the month\n",
    "df_month_7 = df_month[df_month['month']==7][['stationID', 'fromCNT', 'rebalCNT']]\n",
    "df_month_8 = df_month[df_month['month']==8][['stationID', 'fromCNT', 'rebalCNT']]\n",
    "df_month_9 = df_month[df_month['month']==9][['stationID', 'fromCNT', 'rebalCNT']]\n",
    "\n",
    "# Rename the columns for merging\n",
    "df_month_7.columns = ['stationID', 'fromCNT7', 'rebalCNT7']\n",
    "df_month_8.columns = ['stationID', 'fromCNT8', 'rebalCNT8']\n",
    "df_month_9.columns = ['stationID', 'fromCNT9', 'rebalCNT9']\n",
    "\n",
    "# Do full outer join to merge all of the dfs into one\n",
    "df_task_4_1 = pd.merge(df_month_7, df_month_8, on='stationID', how='outer')\n",
    "df_task_4_1 = pd.merge(df_task_4_1, df_month_9, on='stationID', how='outer')\n",
    "\n",
    "# Remove NaNs\n",
    "df_task_4_1['fromCNT7'], df_task_4_1['fromCNT8'], df_task_4_1['fromCNT9'] = \\\n",
    "    df_task_4_1['fromCNT7'].fillna(0), df_task_4_1['fromCNT8'].fillna(0), df_task_4_1['fromCNT9'].fillna(0)\n",
    "df_task_4_1['rebalCNT7'], df_task_4_1['rebalCNT8'], df_task_4_1['rebalCNT9'] = \\\n",
    "    df_task_4_1['rebalCNT7'].fillna(0), df_task_4_1['rebalCNT8'].fillna(0), df_task_4_1['rebalCNT9'].fillna(0)\n",
    "\n",
    "cluster_df = df_task_4_1[['fromCNT7', 'fromCNT8', 'fromCNT9', 'rebalCNT7', 'rebalCNT8', 'rebalCNT9']]\n",
    "\n",
    "# It might be better to remove stationID 666 from the dataset before performing any of these operations. \n",
    "# I looked at it in the .csv file since it has weird fromCNT/rebalCNT numbers relative to the other stations \n",
    "# and its name is \"Sara's Car\". Sara is the name of the Director of Operations at Healthy Ride, so it's possible \n",
    "# that this is her rebalancing the bikes or something similar? I didn't remove it for these purposes because I don't \n",
    "# know for sure that the data can be ruled out, and it probably doesn't have a noticeable impact on anything, \n",
    "# but it is certainly worth considering."
   ]
  },
  {
   "cell_type": "code",
   "execution_count": 37,
   "metadata": {},
   "outputs": [],
   "source": [
    "k_means_4 = cluster.KMeans(n_clusters=4, init = 'k-means++',\\\n",
    "                         random_state=5000)\n",
    "k_means_5 = cluster.KMeans(n_clusters=5, init = 'k-means++',\\\n",
    "                         random_state=5000)\n",
    "k_means_6 = cluster.KMeans(n_clusters=6, init = 'k-means++',\\\n",
    "                         random_state=5000)\n",
    "\n",
    "k_means_4.fit(cluster_df[['fromCNT7', 'fromCNT8', 'fromCNT9', 'rebalCNT7', 'rebalCNT8', 'rebalCNT9']])\n",
    "k_means_5.fit(cluster_df[['fromCNT7', 'fromCNT8', 'fromCNT9', 'rebalCNT7', 'rebalCNT8', 'rebalCNT9']])\n",
    "k_means_6.fit(cluster_df[['fromCNT7', 'fromCNT8', 'fromCNT9', 'rebalCNT7', 'rebalCNT8', 'rebalCNT9']])\n",
    "\n",
    "db_1 = DBSCAN(eps=40, min_samples=3).fit(cluster_df)\n",
    "db_2 = DBSCAN(eps=30, min_samples=3).fit(cluster_df)\n",
    "db_3 = DBSCAN(eps=45, min_samples=5).fit(cluster_df)"
   ]
  },
  {
   "cell_type": "markdown",
   "metadata": {},
   "source": [
    "### Task 4.2\n",
    "You should generate one bar chart per algorithm option (i.e., 6 different charts) showing the distribution of the number of stations per cluster. Y axis should be the number of stations in that cluster, X axis would be the clusterID. The first clusterID corresponds to the biggest cluster. Make sure each graph is properly labeled with the algorithm name and the parameters used.\n",
    "\n"
   ]
  },
  {
   "cell_type": "code",
   "execution_count": 39,
   "metadata": {},
   "outputs": [
    {
     "data": {
      "image/png": "[encoded data removed]",
      "text/plain": [
       "<Figure size 432x288 with 1 Axes>"
      ]
     },
     "metadata": {
      "needs_background": "light"
     },
     "output_type": "display_data"
    }
   ],
   "source": [
    "hist_4 = np.histogram(k_means_4.labels_, bins=[0, 1, 2, 3, 4])\n",
    "bins = [0, 1, 2, 3]\n",
    "\n",
    "df_4 = pd.DataFrame(list(zip(bins, hist_4[0])), columns=['clusterID', 'frequency']) \\\n",
    "    .sort_values(by='frequency', ascending=False)\n",
    "\n",
    "plt.bar(range(len(df_4['clusterID'])), df_4['frequency'], align='center')\n",
    "plt.xticks(range(len(df_4['clusterID'])), df_4['clusterID'], fontsize=8)\n",
    "plt.xlabel('cluster id')\n",
    "plt.ylabel('number of stations in cluster')\n",
    "plt.title('distribution of number of stations per cluster: k-means, k=4')\n",
    "plt.show()"
   ]
  },
  {
   "cell_type": "code",
   "execution_count": 40,
   "metadata": {},
   "outputs": [
    {
     "data": {
      "image/png": "[encoded data removed]",
      "text/plain": [
       "<Figure size 432x288 with 1 Axes>"
      ]
     },
     "metadata": {
      "needs_background": "light"
     },
     "output_type": "display_data"
    }
   ],
   "source": [
    "hist_5 = np.histogram(k_means_5.labels_, bins=[0, 1, 2, 3, 4, 5])\n",
    "bins = [0, 1, 2, 3, 4]\n",
    "\n",
    "df_5 = pd.DataFrame(list(zip(bins, hist_5[0])), columns=['clusterID', 'frequency']) \\\n",
    "    .sort_values(by='frequency', ascending=False)\n",
    "\n",
    "plt.bar(range(len(df_5['clusterID'])), df_5['frequency'], align='center')\n",
    "plt.xticks(range(len(df_5['clusterID'])), df_5['clusterID'], fontsize=8)\n",
    "plt.xlabel('cluster id')\n",
    "plt.ylabel('number of stations in cluster')\n",
    "plt.title('distribution of number of stations per cluster: k-means, k=5')\n",
    "plt.show()"
   ]
  },
  {
   "cell_type": "code",
   "execution_count": 41,
   "metadata": {},
   "outputs": [
    {
     "data": {
      "image/png": "[encoded data removed]",
      "text/plain": [
       "<Figure size 432x288 with 1 Axes>"
      ]
     },
     "metadata": {
      "needs_background": "light"
     },
     "output_type": "display_data"
    }
   ],
   "source": [
    "hist_6 = np.histogram(k_means_6.labels_, bins=[0, 1, 2, 3, 4, 5, 6])\n",
    "bins = [0, 1, 2, 3, 4, 5]\n",
    "\n",
    "df_6 = pd.DataFrame(list(zip(bins, hist_6[0])), columns=['clusterID', 'frequency']) \\\n",
    "    .sort_values(by='frequency', ascending=False)\n",
    "\n",
    "plt.bar(range(len(df_6['clusterID'])), df_6['frequency'], align='center')\n",
    "plt.xticks(range(len(df_6['clusterID'])), df_6['clusterID'], fontsize=8)\n",
    "plt.xlabel('cluster id')\n",
    "plt.ylabel('number of stations in cluster')\n",
    "plt.title('distribution of number of stations per cluster: k-means, k=6')\n",
    "plt.show()"
   ]
  },
  {
   "cell_type": "code",
   "execution_count": 30,
   "metadata": {},
   "outputs": [],
   "source": [
    "# I figured that the noise shouldn't be included as a 'cluster' in the technical sense, but I left the option to view it\n",
    "# by changing this variable to true, because it could be useful to see just how many points are classified as noise.\n",
    "\n",
    "include_noise_as_cluster = False"
   ]
  },
  {
   "cell_type": "code",
   "execution_count": 25,
   "metadata": {},
   "outputs": [
    {
     "data": {
      "image/png": "[encoded data removed]",
      "text/plain": [
       "<Figure size 432x288 with 1 Axes>"
      ]
     },
     "metadata": {
      "needs_background": "light"
     },
     "output_type": "display_data"
    }
   ],
   "source": [
    "ids = []\n",
    "bins = []\n",
    "for num in db_1.labels_:\n",
    "    if num not in bins and (include_noise_as_cluster or num != -1):\n",
    "        ids.append(num)\n",
    "        bins.append(num)\n",
    "        \n",
    "ids.sort()\n",
    "bins.sort()\n",
    "bins.append(bins[-1] + 1)\n",
    "\n",
    "hist_db_1 = np.histogram(db_1.labels_, bins=bins)\n",
    "df_db_1 = pd.DataFrame(list(zip(ids, hist_db_1[0])), columns=['clusterID', 'frequency']) \\\n",
    "    .sort_values(by='frequency', ascending=False)\n",
    "\n",
    "plt.bar(range(len(df_db_1['clusterID'])), df_db_1['frequency'], align='center')\n",
    "plt.xticks(range(len(df_db_1['clusterID'])), df_db_1['clusterID'], fontsize=8)\n",
    "\n",
    "if include_noise_as_cluster:  \n",
    "    plt.xlabel('cluster id (-1 is noise)')\n",
    "else:\n",
    "    plt.xlabel('cluster id')\n",
    "    \n",
    "plt.ylabel('number of stations in cluster')\n",
    "plt.title('distribution of number of stations per cluster: DBSCAN, eps=40 and min_samples=3')\n",
    "plt.show()"
   ]
  },
  {
   "cell_type": "code",
   "execution_count": 26,
   "metadata": {},
   "outputs": [
    {
     "data": {
      "image/png": "[encoded data removed]",
      "text/plain": [
       "<Figure size 432x288 with 1 Axes>"
      ]
     },
     "metadata": {
      "needs_background": "light"
     },
     "output_type": "display_data"
    }
   ],
   "source": [
    "ids = []\n",
    "bins = []\n",
    "for num in db_2.labels_:\n",
    "    if num not in bins and (include_noise_as_cluster or num != -1):\n",
    "        ids.append(num)\n",
    "        bins.append(num)\n",
    "        \n",
    "ids.sort()\n",
    "bins.sort()\n",
    "bins.append(bins[-1] + 1)\n",
    "\n",
    "hist_db_2 = np.histogram(db_2.labels_, bins=bins)\n",
    "df_db_2 = pd.DataFrame(list(zip(ids, hist_db_2[0])), columns=['clusterID', 'frequency']) \\\n",
    "    .sort_values(by='frequency', ascending=False)\n",
    "\n",
    "plt.bar(range(len(df_db_2['clusterID'])), df_db_2['frequency'], align='center')\n",
    "plt.xticks(range(len(df_db_2['clusterID'])), df_db_2['clusterID'], fontsize=8)\n",
    "\n",
    "if include_noise_as_cluster:  \n",
    "    plt.xlabel('cluster id (-1 is noise)')\n",
    "else:\n",
    "    plt.xlabel('cluster id')\n",
    "    \n",
    "plt.ylabel('number of stations in cluster')\n",
    "plt.title('distribution of number of stations per cluster: DBSCAN, eps=30 and min_samples=3')\n",
    "plt.show()"
   ]
  },
  {
   "cell_type": "code",
   "execution_count": 27,
   "metadata": {},
   "outputs": [
    {
     "data": {
      "image/png": "[encoded data removed]",
      "text/plain": [
       "<Figure size 432x288 with 1 Axes>"
      ]
     },
     "metadata": {
      "needs_background": "light"
     },
     "output_type": "display_data"
    }
   ],
   "source": [
    "ids = []\n",
    "bins = []\n",
    "for num in db_3.labels_:\n",
    "    if num not in bins and (include_noise_as_cluster or num != -1):\n",
    "        ids.append(num)\n",
    "        bins.append(num)\n",
    "        \n",
    "ids.sort()\n",
    "bins.sort()\n",
    "bins.append(bins[-1] + 1)\n",
    "\n",
    "hist_db_3 = np.histogram(db_3.labels_, bins=bins)\n",
    "df_db_3 = pd.DataFrame(list(zip(ids, hist_db_3[0])), columns=['clusterID', 'frequency']) \\\n",
    "    .sort_values(by='frequency', ascending=False)\n",
    "\n",
    "plt.bar(range(len(df_db_3['clusterID'])), df_db_3['frequency'], align='center')\n",
    "plt.xticks(range(len(df_db_3['clusterID'])), df_db_3['clusterID'], fontsize=8)\n",
    "\n",
    "if include_noise_as_cluster:  \n",
    "    plt.xlabel('cluster id (-1 is noise)')\n",
    "else:\n",
    "    plt.xlabel('cluster id')\n",
    "    \n",
    "plt.ylabel('number of stations in cluster')\n",
    "plt.title('distribution of number of stations per cluster: DBSCAN, eps=45 and min_samples=5')\n",
    "plt.show()"
   ]
  },
  {
   "cell_type": "markdown",
   "metadata": {},
   "source": [
    "### Task 4.3\n",
    "You should provide a brief explanation about your choice of K. This should be in the form of plain text inside the Jupyter notebook, under the Task 4.3 heading. You should also mention (a) what is the best value of K that you found and (b) what is the best algorithm out of the two that you tried. For the second question, it is possible the results will be inconclusive."
   ]
  },
  {
   "cell_type": "markdown",
   "metadata": {},
   "source": [
    "**Answer:** I selected the k-values of 4, 5, and 6 somewhat randomly. I did some research into how to find the optimal value of k, and I found some articles about the Elbow Method (which we may have talked about in class, but I don't remember). I found a program ([source](https://www.geeksforgeeks.org/elbow-method-for-optimal-value-of-k-in-kmeans/)) to find the distortion and inertias of each k-value from 0 to 10 and ran it here with the clustering data (I had to import from scipy down here, but I hope that's not an issue since this was just for extracurricular research). The Elbow Method says that the optimal value of k is the value at which the distortion and inertia begin to decrease linearly, which appears to be k=4.\n",
    "\n",
    "It is difficult to assess which algorithm is better for clustering the data. I am leaning towards DBSCAN being more effective for this dataset, however, because the clusters created by every iteration of K-means seem to be imbalanced, meaning that there is a relatively dense concentration of points making up one cluster, and a wide range of noise that is making up other clusters. DBSCAN seems to capture this behavior well, as can be seen in the graphs. This imbalance is good to see in DBSCAN, because that is generally how the algorithm is supposed to work - the results it provides are supposed to feel more intuitive than those provided by K-means."
   ]
  },
  {
   "cell_type": "code",
   "execution_count": 28,
   "metadata": {},
   "outputs": [
    {
     "data": {
      "image/png": "[encoded data removed]",
      "text/plain": [
       "<Figure size 432x288 with 1 Axes>"
      ]
     },
     "metadata": {
      "needs_background": "light"
     },
     "output_type": "display_data"
    },
    {
     "data": {
      "image/png": "[encoded data removed]",
      "text/plain": [
       "<Figure size 432x288 with 1 Axes>"
      ]
     },
     "metadata": {
      "needs_background": "light"
     },
     "output_type": "display_data"
    }
   ],
   "source": [
    "from scipy.spatial.distance import cdist\n",
    "\n",
    "distortions = [] \n",
    "inertias = [] \n",
    "mapping1 = {} \n",
    "mapping2 = {} \n",
    "K = range(1,10) \n",
    "  \n",
    "for k in K: \n",
    "    #Building and fitting the model \n",
    "    kmeanModel = cluster.KMeans(n_clusters=k).fit(cluster_df) \n",
    "    kmeanModel.fit(cluster_df)     \n",
    "      \n",
    "    distortions.append(sum(np.min(cdist(cluster_df, kmeanModel.cluster_centers_, \n",
    "                      'euclidean'),axis=1)) / cluster_df.shape[0]) \n",
    "    inertias.append(kmeanModel.inertia_) \n",
    "  \n",
    "    mapping1[k] = sum(np.min(cdist(cluster_df, kmeanModel.cluster_centers_, \n",
    "                 'euclidean'),axis=1)) / cluster_df.shape[0] \n",
    "    mapping2[k] = kmeanModel.inertia_ \n",
    "    \n",
    "plt.plot(K, distortions, 'bx-') \n",
    "plt.xlabel('Values of K') \n",
    "plt.ylabel('Distortion') \n",
    "plt.title('The Elbow Method using Distortion') \n",
    "plt.show() \n",
    "\n",
    "plt.plot(K, inertias, 'bx-') \n",
    "plt.xlabel('Values of K') \n",
    "plt.ylabel('Inertia') \n",
    "plt.title('The Elbow Method using Inertia') \n",
    "plt.show() "
   ]
  },
  {
   "cell_type": "code",
   "execution_count": null,
   "metadata": {},
   "outputs": [],
   "source": []
  }
 ],
 "metadata": {
  "anaconda-cloud": {},
  "kernelspec": {
   "display_name": "Python 3",
   "language": "python",
   "name": "python3"
  },
  "language_info": {
   "codemirror_mode": {
    "name": "ipython",
    "version": 3
   },
   "file_extension": ".py",
   "mimetype": "text/x-python",
   "name": "python",
   "nbconvert_exporter": "python",
   "pygments_lexer": "ipython3",
   "version": "3.8.3"
  }
 },
 "nbformat": 4,
 "nbformat_minor": 2
}
